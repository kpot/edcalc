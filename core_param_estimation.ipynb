{
 "cells": [
  {
   "cell_type": "markdown",
   "metadata": {},
   "source": [
    "# Estimation of parameters of various magnetic cores\n",
    "\n",
    "This notebook helps to estimate basic parameters of various cores salvaged from some broken equipment.\n",
    "The math is mostly based on this [Guide for calculation of the effective parameters of magnetic piece parts](static/papers/effective-parameters-of-magnetic-parts.pdf) publised by Indian Standards Institution. Once calculated, the 'Core' object can then be added to [edcalc/components.py](edcalc/components.py) for future use or copied\n",
    "directly into a respective notebook.\n",
    "\n",
    "## $ A_L $ value\n",
    "\n",
    "$A_L$, or inductance per square turn (measured in $nH / N^2$) is easy to measure and it can later\n",
    "be used for practical calculations and derivation of some other parameters.\n",
    "\n",
    "Knowing $ A_L $, the inductance can then be found as $ L = A_L N^2 $, where N is the number of turns in the winding. Also, $$A_L = {\\mu \\mu_0 A_e \\over l_e}$$ where \n",
    "* $\\mu$ is the relative permeability (unitless, depends on the core material)\n",
    "* $\\mu_0$ is the permeability of free space (a constant equal to $4 \\pi \\times 10^{−7}$ H/m),\n",
    "* $A_e$ is the effective cross-sectional area of the core ($meters^2$)\n",
    "* $l_e$ is the effective magnetic path ($meters$)\n",
    "\n",
    "Both $A_e$ and $l_e$ can be found after measuring the geometry of the core (see the sections below).\n",
    "$ A_L $ can be found by winding some wire on the core and then measuring the inductance. This allows us to find\n",
    "relative permeability as $$\\mu = {A_L l_e \\over A_e \\mu_0}$$"
   ]
  },
  {
   "cell_type": "code",
   "execution_count": 18,
   "metadata": {},
   "outputs": [
    {
     "data": {
      "text/markdown": [
       "$A_L$ data points: [100.0, 104.94]"
      ],
      "text/plain": [
       "<IPython.core.display.Markdown object>"
      ]
     },
     "metadata": {},
     "output_type": "display_data"
    },
    {
     "data": {
      "text/markdown": [
       "Average $A_L$ = 102.47 $nH / N^2$"
      ],
      "text/plain": [
       "<IPython.core.display.Markdown object>"
      ]
     },
     "metadata": {},
     "output_type": "display_data"
    }
   ],
   "source": [
    "# Necessary python imports\n",
    "import math\n",
    "from IPython.display import display, Markdown\n",
    "\n",
    "# Here is a short code snippet for calculating A_L based\n",
    "# on several measurements of the inductance made with\n",
    "# different numbers of turns.\n",
    "\n",
    "# (<the number of turns>, <measured inductance in nH>)\n",
    "L_data_points = [\n",
    "    (10, 10000),\n",
    "    (18, 34000),\n",
    "]\n",
    "A_L_points = [(L / N**2) for N, L in L_data_points]\n",
    "display(Markdown(f'$A_L$ data points: {[round(p, 2) for p in A_L_points]}'))\n",
    "A_L_average = sum(A_L_points) / len(A_L_points)\n",
    "display((Markdown(f'Average $A_L$ = {round(A_L_average, 2)} $nH / N^2$')))"
   ]
  },
  {
   "cell_type": "markdown",
   "metadata": {},
   "source": [
    "The rest will depend on what type of core you have"
   ]
  },
  {
   "cell_type": "markdown",
   "metadata": {},
   "source": [
    "## Toroid core"
   ]
  },
  {
   "cell_type": "code",
   "execution_count": 20,
   "metadata": {},
   "outputs": [
    {
     "name": "stdout",
     "output_type": "stream",
     "text": [
      "Core(mu=544.8005179787447, l_e=93.6558305883444, A_e=13.680042415170472, V_e=1281.2157348765716, A_L=100, B_sat=0.28, W_a=None, note='')\n"
     ]
    }
   ],
   "source": [
    "import math\n",
    "from edcalc.magnetics import Core\n",
    "\n",
    "def toroid_core_params(outer_dia, inner_dia, height, corner_radius=0, A_L=None) -> Core:\n",
    "    \"\"\"\n",
    "    Calculates effective parameters of a toroid core based on its geometric shape.\n",
    "    :param A_L: you can specify A_L if you know it. It will be added to the resulting structure.\n",
    "    \"\"\"\n",
    "    r1, r2 = inner_dia / 2, outer_dia / 2\n",
    "    k1 = 0.8584 * corner_radius**2 / (height * (r2 - r1))\n",
    "    he = height * (1 - k1)\n",
    "    c1 = 2 * math.pi / (he * math.log(r2 / r1))\n",
    "    c2 = 2 * math.pi * (1 / r1 - 1 / r2) / (he**2 * math.log(r2 / r1)**3)\n",
    "    return Core(A_e=c1 / c2, V_e=c1**3 / c2**2, l_e=c1**2 / c2, A_L=A_L)\n",
    "\n",
    "print(toroid_core_params(35.7, 25.15, 2.62, A_L=100))"
   ]
  },
  {
   "cell_type": "markdown",
   "metadata": {},
   "source": [
    "## Pot core\n",
    "\n",
    "![Pot core geometry](static/images/pot-core-geometry.gif)"
   ]
  },
  {
   "cell_type": "code",
   "execution_count": 1,
   "metadata": {},
   "outputs": [
    {
     "name": "stdout",
     "output_type": "stream",
     "text": [
      "Core(mu=44.5000561785827, l_e=32.26492549023729, A_e=57.69793143243745, V_e=1861.6194586084143, A_L=100, B_sat=0.28, W_a=None, note='')\n"
     ]
    }
   ],
   "source": [
    "import math\n",
    "from edcalc.magnetics import Core\n",
    "\n",
    "def pot_core_params(d1, d2, d3, d4, h1, h2, n_slots=0, slot_area=0, A_L=None) -> Core:\n",
    "    \"\"\"\n",
    "    All parameters should be obvious from the picture above and should be given in millimeters.\n",
    "    Except it doesn't use parameter 'c', because some pot cores\n",
    "    have one or two side slots of various length instead.\n",
    "    So 'c' was replaced with the 'slot_area'.\n",
    "    :param slot_area: is the area of the hole through the side, and its area\n",
    "        is given as if looking from the side of the core.\n",
    "    :param n_slots: the number of slots we have\n",
    "    :param A_L: you can specify A_L if you know it. It will be added to the resulting structure.\n",
    "    \"\"\"\n",
    "    r1, r2, r3, r4 = d4/2, d3/2, d2/2, d1/2    \n",
    "    s1 = r2 - math.sqrt((r1**2 + r2**2) / 2)\n",
    "    s2 = - r3 + math.sqrt((r3**2 + r4**2) / 2)\n",
    "    A = [0, 0, 0, 0, 0]\n",
    "    l1 = h1 + h2\n",
    "    l2 = d2 / 2 - d3 / 2\n",
    "    l3 = 2 * h2\n",
    "    h = (h1 - h2)\n",
    "    l4 = (math.pi / 4) * (2 * s2 + h)\n",
    "    l5 = (math.pi / 4) * (2 * s1 + h)\n",
    "    l2_A2 = (1 / (math.pi * h)) * math.log(r3 / r2)\n",
    "    l2_A2s = (1 / (2 * math.pi**2 * h**2)) * (r3 - r2)/(r3 * r2)\n",
    "    A1 = math.pi * (d1/2 - d2/2)*(d1/2 + d2/2)\n",
    "    A3 = math.pi * (d3/2 - d4/2)*(d3/2 + d4/2)\n",
    "    A4 = (math.pi/2) * (r4**2 - r3**2 + 2*r3*h)\n",
    "    A5 = (math.pi/2) * (r2**2 - r1**2 + 2*r2*h)\n",
    "    C1 = l1/A1 + l2_A2 + l3 / A3 + l4 / A4 + l5 / A5\n",
    "    C2 = l1/A1**2 + l2_A2s + l3 / A3**2 + l4 / A4**2 + l5 / A5**2\n",
    "    Ae = C1 / C2\n",
    "    le = C1**2 / C2\n",
    "    Ve = C1**3 / C2**2 - n_slots * slot_area * h\n",
    "    Ae = Ve / le\n",
    "    return Core(A_e=Ae, V_e=Ve, l_e=le, A_L=A_L)\n",
    "    \n",
    "# Example:\n",
    "print(pot_core_params(21, 18, 8.7, 4.4, 6.85, 4.8, 2, 12.4, A_L=100))"
   ]
  },
  {
   "cell_type": "code",
   "execution_count": null,
   "metadata": {},
   "outputs": [],
   "source": []
  }
 ],
 "metadata": {
  "kernelspec": {
   "display_name": "Python 3",
   "language": "python",
   "name": "python3"
  },
  "language_info": {
   "codemirror_mode": {
    "name": "ipython",
    "version": 3
   },
   "file_extension": ".py",
   "mimetype": "text/x-python",
   "name": "python",
   "nbconvert_exporter": "python",
   "pygments_lexer": "ipython3",
   "version": "3.7.5"
  }
 },
 "nbformat": 4,
 "nbformat_minor": 4
}
