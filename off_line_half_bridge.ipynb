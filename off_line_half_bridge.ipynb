{
 "cells": [
  {
   "cell_type": "markdown",
   "metadata": {},
   "source": [
    "# Regulated Half-Bridge Power Supply\n",
    "\n",
    "This notebook helps to calculate an off-line (AC-DC) half-bridge converter or its DC-DC analog with one or more isolated outputs. The converter operates in CCM mode with voltage-mode control. It's build around an old-school TL494 PWM controller which can however be easily replaced with any other similar, like SG3525 or UC3846.\n",
    "\n",
    "## Half-bridge topology\n",
    "\n",
    "Here's how a typical half-bridge converter looks like (If we omit the input rectifier, the EMI filters and the PWM controller with its feedback loop):"
   ]
  },
  {
   "cell_type": "code",
   "execution_count": 1,
   "metadata": {},
   "outputs": [
    {
     "data": {
      "image/png": "[encoded data removed]",
      "text/plain": [
       "<IPython.core.display.Image object>"
      ]
     },
     "metadata": {},
     "output_type": "display_data"
    }
   ],
   "source": [
    "from IPython.display import display, Markdown, Image\n",
    "import edcalc.schematics \n",
    "display(Image(edcalc.schematics.half_bridge_topology_image()))"
   ]
  },
  {
   "cell_type": "markdown",
   "metadata": {},
   "source": [
    "Fundamentally it is just a buck converter with a transformer\n",
    "scaling the input voltage to a necessary level. Which means if\n",
    "you ignore the transformer, it is just a buck converter built\n",
    "around the inductor Lo. The output of the transformer can be rectified\n",
    "by either a center-tapped or a full-bridge rectifier.\n",
    "\n",
    "Some major pros and cons of the topology:\n",
    "\n",
    "Pros:\n",
    "\n",
    "* Both switches work at just $V_{in}$, so we don't need expensive\n",
    "  high-voltage transistors like in push-pull or single-ended\n",
    "  (flyback or forward) topologies.\n",
    "* Both full core reset and clamping leakage inductance spikes are\n",
    "  achieved without the need for extra windings or energy-dissipating\n",
    "  snubbers (although a snubber across the primary winding can still be handy).\n",
    "\n",
    "Cons:\n",
    "\n",
    "* Because the voltage across the primary winding is ${V_{in}} \\over 2$,\n",
    "  to transfer the same power we need higher primary-side current,\n",
    "  so the topology is mostly being used for power levels of up to 500W.\n",
    "* We need to drive two transistors, one of which must be driven with\n",
    "  a level-shifted PWM signal, which makes it necessary to use either \n",
    "  a specialized low- and high-side drivers (like IRS2110),\n",
    "  or a gate drive transformer.\n"
   ]
  },
  {
   "cell_type": "code",
   "execution_count": 2,
   "metadata": {},
   "outputs": [],
   "source": [
    "from edcalc.components import cores, table_of_cores\n",
    "# display(Markdown(table_of_cores()))"
   ]
  },
  {
   "cell_type": "markdown",
   "metadata": {},
   "source": [
    "# Design parameters"
   ]
  },
  {
   "cell_type": "code",
   "execution_count": 3,
   "metadata": {},
   "outputs": [],
   "source": [
    "from edcalc.component_types import Core, MOSFET\n",
    "from edcalc.smps import OutputParams\n",
    "from edcalc.components import references, optocouplers, diodes\n",
    "\n",
    "# Desired main switching frequency, Hz\n",
    "# It may later be adjusted according to the real values of the capacitors/resistors of the oscillator,\n",
    "# leading to a variable called 'F_sw'.\n",
    "# It's a combined frequency of both switches, so each switch will turn on/off with a half of this frequency.\n",
    "F_sw_desired = 100000\n",
    "\n",
    "# Input voltage type: \"AC\" or \"DC\" \n",
    "V_in_type = \"AC\"\n",
    "# Input voltage range (min, max)\n",
    "V_in_range = (180, 270)\n",
    "\n",
    "# Describe every output. The first one will be regulated.\n",
    "out = [\n",
    "    OutputParams(V=46, I=1, filter_core=cores['R33x17.8x11.1-MM52'], rectifier='full-bridge', D=diodes['SS220F'], C=1000e-6, ESR=0.26),\n",
    "    # Auxiliary winding to power both the PWM controller and the MOSFET driver\n",
    "    OutputParams(V=14, I=0.2, filter_core=cores['R22x14x6-N87'], D=diodes['SS220F'], C=47e-6, ESR=0.22, rectifier='center-tapped'),\n",
    "]\n",
    "\n",
    "# Expected efficiency\n",
    "efficiency = 0.8\n",
    "# Output inductor's ripple ratio (r = dI / I_L) in the worst conditions (when D = D_min)\n",
    "# Must be less than 2. Ideally, around 0.3-0.5\n",
    "ripple = 0.4\n",
    "# Duty cycle of a single switch at minimum input voltage\n",
    "D_max = 0.35\n",
    "\n",
    "### Input capacitors ###\n",
    "# Desired voltage ripple ΔVin/Vin on input capacitors (portion of the input voltage)\n",
    "C_in_ripple = 0.001\n",
    "# Input capacitor's max voltage rating\n",
    "V_C_in_max = 200\n",
    "\n",
    "### About the main switches (IRF740 by default) ###\n",
    "# Voltage driving the main switches (and powering the integrated driver if used), V\n",
    "V_gs_sw = 12\n",
    "switch = MOSFET(C_rss=120e-12, C_iss=1400e-12, R_ds=0.55, Rt_JC=1.0, Rt_CA=61, T_j=150)\n",
    "# Desired time for raising the main MOSFETs gates from 0 to V_gs_sw, seconds\n",
    "# The actual time will depend on the Dmin\n",
    "T_rise_desired = 60e-9\n",
    "#### Thermal design parameters ####\n",
    "# Default ambient temperature\n",
    "T_ambient = 25\n",
    "# Case-to-heatsink temperature resistance of the main switch (thermal paste), °C/W\n",
    "Rt_CS_sw = 0.5\n",
    "# Heatsink-to-ambient temperature resistance of the heatsink installed on the main switch, °C/W\n",
    "Rt_SA_sw = 17\n",
    "# Case-to-heatsink temperature resistance of the diodes (thermal paste), °C/W (set to None if not used)\n",
    "Rt_CS_D = 0.5\n",
    "# Heatsink-to-ambient temperature resistance of the diodes, °C/W (set to None if not used)\n",
    "Rt_SA_D = 17\n",
    "\n",
    "### Magnetic elements ###\n",
    "# The main transformer's core\n",
    "core = cores['EE40-PC40']\n",
    "# Peak flux density for the main transformer, Tesla\n",
    "# 0.12T is far below a typical saturation density for most ferrites,\n",
    "# but because in push-pull ΔB is rather large (in comparison with flyback),\n",
    "# a lower value helps to reduce losses\n",
    "B_pk = 0.12\n",
    "# Core of the gate drive transformer (set to None if not necessary)\n",
    "gate_drv_core = cores['R12.5x7.5x5-N87']\n",
    "# Core of the current transformer (set to None if not necessary)\n",
    "current_transformer_core = cores['PC21/13-USSR']\n",
    "# Current density, A/mm^2\n",
    "I_density = 5\n",
    "# Diameters of various wires available (to choose from), mm\n",
    "wires_dia = [0.1, 0.25, 0.35, 0.45]\n",
    "\n",
    "\n",
    "\n",
    "# Voltage at the reference pin of the TL494 IC\n",
    "PWMC_Vref = 5\n",
    "\n",
    "### Feedback network ###\n",
    "# Main adjustable voltage reference like TL431 or its analog\n",
    "main_reference = references['TL431']\n",
    "# Fixed shunt regulator providing power to both the main voltage reference and the optocoupler\n",
    "fixed_reference = references['BZX55C6V2']\n",
    "# The optocoupler which allows the main voltage reference like TL431 to rule the PWM controller\n",
    "opto = optocouplers['PC817']\n",
    "# Resistance pulling optocoupler's output, Ohms\n",
    "R_opto_pull = 10e3\n",
    "\n",
    "### Input capacitor (each individually) ###\n",
    "C_in = 47e-6\n",
    "C_in_ESR = 0.85"
   ]
  },
  {
   "cell_type": "code",
   "execution_count": 4,
   "metadata": {},
   "outputs": [],
   "source": [
    "# the rest of the imports\n",
    "import math\n",
    "from lcapy import Circuit\n",
    "from edcalc.format import format_value, format_W, format_R, format_F, format_C, format_V, format_I, format_L, warning_message, block_of_values, format_flux_density\n",
    "from edcalc.eseries import nearest_e12, nearest_e24, find_esum, find_voltage_divider\n",
    "from edcalc.smps import coil_selection"
   ]
  },
  {
   "cell_type": "code",
   "execution_count": 5,
   "metadata": {},
   "outputs": [],
   "source": [
    "# Some convenient conversions\n",
    "if V_in_type == 'AC':\n",
    "    V_in_min = V_in_range[0] * math.sqrt(2)\n",
    "    V_in_max = V_in_range[1] * math.sqrt(2)\n",
    "else:\n",
    "    V_in_min, V_in_max = V_in_range\n",
    "P_out = [o.I * o.V for o in out]\n",
    "P_out_sum = sum(P_out)\n",
    "P_in = P_out_sum / efficiency"
   ]
  },
  {
   "cell_type": "markdown",
   "metadata": {},
   "source": [
    "## Input-output"
   ]
  },
  {
   "cell_type": "code",
   "execution_count": 6,
   "metadata": {},
   "outputs": [
    {
     "name": "stdout",
     "output_type": "stream",
     "text": [
      "Input power: 61.0W\n",
      "Output power: 48.8W\n"
     ]
    }
   ],
   "source": [
    "print('Input power:', format_W(P_in))\n",
    "print('Output power:', format_W(P_out_sum))"
   ]
  },
  {
   "cell_type": "markdown",
   "metadata": {},
   "source": [
    "## Oscillator of TL494"
   ]
  },
  {
   "cell_type": "code",
   "execution_count": 7,
   "metadata": {},
   "outputs": [
    {
     "data": {
      "text/markdown": [
       "<table><tr><td>Resistors you need to reach the desired frequency</td><td>10.0kΩ</td></tr>\n",
       "<tr><td>Oscillator network C</td><td>1.0nF</td></tr>\n",
       "<tr><td>The actual frequency is going to be</td><td>100.0kHz</td></tr></table>"
      ],
      "text/plain": [
       "<IPython.core.display.Markdown object>"
      ]
     },
     "metadata": {},
     "output_type": "display_data"
    }
   ],
   "source": [
    "# Oscillator\n",
    "C_osc = 1e-9\n",
    "R_osc_ideal = 1 / (F_sw_desired * C_osc)\n",
    "R_osc_parts = find_esum(R_osc_ideal, 3)\n",
    "R_osc = sum(R_osc_parts)\n",
    "F_sw = 1 / (C_osc * R_osc)\n",
    "display(block_of_values(\n",
    "    ('Resistors you need to reach the desired frequency', ' + '.join([format_R(r) for r in R_osc_parts])),\n",
    "    ('Oscillator network C', format_C(C_osc)),\n",
    "    ('The actual frequency is going to be', format_F(F_sw))\n",
    "))\n"
   ]
  },
  {
   "cell_type": "markdown",
   "metadata": {},
   "source": [
    "## Dead-time control & soft-start for TL494\n",
    "\n",
    "Datasheet states that \n",
    "\n",
    ">An internal offset of 110 mV ensures a minimum dead time of\n",
    "∼3% with the dead-time control input grounded. Applying a voltage to the dead-time control input can\n",
    "impose additional dead time. This provides a linear control of the dead time from its minimum of 3% to\n",
    "100% as the input voltage is varied from 0 V to 3.3 V.\n",
    "\n",
    "We need to make sure we limit the duty cycle at D_max, otherwise the core will be saturated.\n",
    "It's better to measure $D_{max}$ once the circut is assembled.\n",
    "If actual D_max is higher than required, adjust the components to increase the voltage at the \"DT\" pin."
   ]
  },
  {
   "cell_type": "code",
   "execution_count": 8,
   "metadata": {},
   "outputs": [
    {
     "data": {
      "text/markdown": [
       "<table><tr><td>Required voltage at DT pin (to achieve D_max = 0.35)</td><td>1.81V</td></tr>\n",
       "<tr><td>Dead-time divider's upper resistor (connected to the REF pin)</td><td>12.0kΩ</td></tr>\n",
       "<tr><td>Dead-time divider's lower resistor (connected to the ground)</td><td>6.8kΩ</td></tr>\n",
       "<tr><td>Soft-start capacitor (parallel to the upper resistor) should be about</td><td>12.0uF</td></tr></table>"
      ],
      "text/plain": [
       "<IPython.core.display.Markdown object>"
      ]
     },
     "metadata": {},
     "output_type": "display_data"
    }
   ],
   "source": [
    "dead_time_voltage = 3.3 * (0.9 - D_max)\n",
    "R1_DT, R2_DT = find_voltage_divider(PWMC_Vref, dead_time_voltage, multiplier=1e3)[0]\n",
    "C_soft_start = nearest_e24(50e-3 / (R2_DT * R1_DT / (R1_DT + R2_DT)))\n",
    "display(block_of_values(\n",
    "    (f'Required voltage at DT pin (to achieve D_max = {D_max})', format_V(dead_time_voltage)),\n",
    "    (f'Dead-time divider\\'s upper resistor (connected to the REF pin)', format_R(R1_DT)),\n",
    "    (f'Dead-time divider\\'s lower resistor (connected to the ground)', format_R(R2_DT)),\n",
    "    (f'Soft-start capacitor (parallel to the upper resistor) should be about', format_C(C_soft_start))\n",
    "))"
   ]
  },
  {
   "cell_type": "markdown",
   "metadata": {},
   "source": [
    "# The main transformer"
   ]
  },
  {
   "cell_type": "code",
   "execution_count": 9,
   "metadata": {},
   "outputs": [
    {
     "data": {
      "text/markdown": [
       "<table><tr><td>Minimum duty cycle $D_{min}$</td><td>0.24</td></tr>\n",
       "<tr><td>Maximum possible flux density at $V_{inMAX}$ (assuming dead-time control is limiting $D_{max}$!)</td><td>117.39mT, which is OK</td></tr></table>"
      ],
      "text/plain": [
       "<IPython.core.display.Markdown object>"
      ]
     },
     "metadata": {},
     "output_type": "display_data"
    }
   ],
   "source": [
    "# The magnetic flux swings from -Bsat/2 to +Bsat/2\n",
    "# In theory, we can use V_in_min while calculating the number of primary turns.\n",
    "# However there is a possibility that during the startup time the converter\n",
    "# won't be able to adjust its duty cycle quickly enough to avoid saturation.\n",
    "# So we're planning for the worst case scenario, which is V_in_max/2 at D_max.\n",
    "N_p = math.ceil((V_in_max/2) * D_max / (F_sw * B_pk * core.A_e_mks))\n",
    "L_p = core.A_L_mks * N_p**2\n",
    "secondary_turns = [round(N_p * (o.V/D_max + o.full_diode_drop()) / (V_in_min/2)) for o in out]\n",
    "L_secondary = [core.A_L_mks * ns**2 for ns in secondary_turns]\n",
    "turns_ratios = [N_p / t for t in secondary_turns]\n",
    "D_min = (out[0].V + out[0].full_diode_drop()) * turns_ratios[0] / (V_in_max/2)\n",
    "dB_pk = (V_in_max/2) * D_max / (F_sw * N_p * core.A_e_mks)\n",
    "display(block_of_values(\n",
    "    ('Minimum duty cycle $D_{min}$', f'{round(D_min, 2)}'),\n",
    "    ('Maximum possible flux density at $V_{inMAX}$ (assuming dead-time control is limiting $D_{max}$!)', format_flux_density(dB_pk, core.B_sat)),\n",
    "))"
   ]
  },
  {
   "cell_type": "code",
   "execution_count": 10,
   "metadata": {},
   "outputs": [
    {
     "data": {
      "text/markdown": [
       "<table><tr><td>Primary RMS current</td><td>810.1mA</td></tr>\n",
       "<tr><td>Primary flat-topped peak current</td><td>1.37A</td></tr>\n",
       "<tr><td>Blocking capacitor ($C_b$)</td><td>390.0nF</td></tr></table>"
      ],
      "text/plain": [
       "<IPython.core.display.Markdown object>"
      ]
     },
     "metadata": {},
     "output_type": "display_data"
    }
   ],
   "source": [
    "# Primary peak flat-topped peak current, based on A. Pressman.\n",
    "I_pft = P_out_sum / (efficiency * (V_in_min / 2) * D_max)\n",
    "I_pri_rms = I_pft * math.sqrt(D_max)\n",
    "# Calculates the size of the blocking capacitor, based on the procedure from\n",
    "# the book \"Switching power supply design\" by A. Pressman et al.\n",
    "# 0.1 here is 10% drop in the capacitor's voltage\n",
    "C_blocking = nearest_e12(I_pft * D_max / (F_sw * 0.1 * (V_in_min / 2)))\n",
    "\n",
    "display(block_of_values(\n",
    "    (f'Primary RMS current', format_I(I_pri_rms)),\n",
    "    (f'Primary flat-topped peak current', format_I(I_pft)),\n",
    "    (f'Blocking capacitor ($C_b$)', format_C(C_blocking))\n",
    "))"
   ]
  },
  {
   "cell_type": "code",
   "execution_count": 11,
   "metadata": {},
   "outputs": [
    {
     "data": {
      "text/markdown": [
       "\n",
       "### Primary winding (39 turns, 6.08mH)\n"
      ],
      "text/plain": [
       "<IPython.core.display.Markdown object>"
      ]
     },
     "metadata": {},
     "output_type": "display_data"
    },
    {
     "data": {
      "text/markdown": [
       "With the RMS current of 810.1mA and max current density of 5 $A/mm^2$, we need at least 0.16 $mm^2$ of cross-sectional copper area available for it. \n",
       "\n",
       "Thus the optimum wire dia is: 0.42 $ mm $ (0.14 $mm^2$ each strand)\n",
       "\n",
       "| wire Ø    | copper Ø  | fully utilized | strands | copper total  | 39 turns occupy |\n",
       "|-----------|-----------|----------------|---------|---------------|-----------------|\n",
       "| 0.1 $mm$  | 0.1 $mm$  | OK             | 21      | 0.1649 $mm^2$ | 23%             |\n",
       "| 0.25 $mm$ | 0.25 $mm$ | OK             | 4       | 0.1963 $mm^2$ | 28%             |\n",
       "| 0.35 $mm$ | 0.35 $mm$ | OK             | 2       | 0.1924 $mm^2$ | 27%             |\n",
       "| 0.45 $mm$ | 0.45 $mm$ | TOO THICK      | 2       | 0.3165 $mm^2$ | 44%             |"
      ],
      "text/plain": [
       "CoilSelectionInfo(frequency=99999.99999999999, turns=39, rms_current=0.810099390771089, current_density=5, skin_depth=0.20902655333712988, required_copper_area=0.16201987815421778, optimal_strand_dia=0.41805310667425977, optimal_strand_area=0.1372627803799106, choices=[CoilChoice(wire_dia=0.1, is_too_thick=False, copper_dia=0.1, strands=21, total_copper_area=0.16493361431346415, winding_area_fill=23), CoilChoice(wire_dia=0.25, is_too_thick=False, copper_dia=0.25, strands=4, total_copper_area=0.19634954084936207, winding_area_fill=28), CoilChoice(wire_dia=0.35, is_too_thick=False, copper_dia=0.35, strands=2, total_copper_area=0.1924225500323748, winding_area_fill=27), CoilChoice(wire_dia=0.45, is_too_thick=True, copper_dia=0.45, strands=2, total_copper_area=0.3164830951723889, winding_area_fill=44)])"
      ]
     },
     "metadata": {},
     "output_type": "display_data"
    },
    {
     "data": {
      "text/markdown": [
       "\n",
       "### Secondary winding #1 (41 turns, 6.72mH)\n"
      ],
      "text/plain": [
       "<IPython.core.display.Markdown object>"
      ]
     },
     "metadata": {},
     "output_type": "display_data"
    },
    {
     "data": {
      "text/markdown": [
       "With the RMS current of 1.0A and max current density of 5 $A/mm^2$, we need at least 0.2 $mm^2$ of cross-sectional copper area available for it. \n",
       "\n",
       "Thus the optimum wire dia is: 0.42 $ mm $ (0.14 $mm^2$ each strand)\n",
       "\n",
       "| wire Ø    | copper Ø  | fully utilized | strands | copper total  | 41 turns occupy |\n",
       "|-----------|-----------|----------------|---------|---------------|-----------------|\n",
       "| 0.1 $mm$  | 0.1 $mm$  | OK             | 26      | 0.2042 $mm^2$ | 30%             |\n",
       "| 0.25 $mm$ | 0.25 $mm$ | OK             | 5       | 0.2454 $mm^2$ | 36%             |\n",
       "| 0.35 $mm$ | 0.35 $mm$ | OK             | 3       | 0.2886 $mm^2$ | 42%             |\n",
       "| 0.45 $mm$ | 0.45 $mm$ | TOO THICK      | 2       | 0.3165 $mm^2$ | 47%             |"
      ],
      "text/plain": [
       "CoilSelectionInfo(frequency=99999.99999999999, turns=41, rms_current=1.0, current_density=5, skin_depth=0.20902655333712988, required_copper_area=0.2, optimal_strand_dia=0.41805310667425977, optimal_strand_area=0.1372627803799106, choices=[CoilChoice(wire_dia=0.1, is_too_thick=False, copper_dia=0.1, strands=26, total_copper_area=0.20420352248333656, winding_area_fill=30), CoilChoice(wire_dia=0.25, is_too_thick=False, copper_dia=0.25, strands=5, total_copper_area=0.2454369260617026, winding_area_fill=36), CoilChoice(wire_dia=0.35, is_too_thick=False, copper_dia=0.35, strands=3, total_copper_area=0.28863382504856216, winding_area_fill=42), CoilChoice(wire_dia=0.45, is_too_thick=True, copper_dia=0.45, strands=2, total_copper_area=0.3164830951723889, winding_area_fill=47)])"
      ]
     },
     "metadata": {},
     "output_type": "display_data"
    },
    {
     "data": {
      "text/markdown": [
       "\n",
       "### Secondary winding #2 (2 X 13 turns, 676.0uH)\n"
      ],
      "text/plain": [
       "<IPython.core.display.Markdown object>"
      ]
     },
     "metadata": {},
     "output_type": "display_data"
    },
    {
     "data": {
      "text/markdown": [
       "With the RMS current of 100.0mA and max current density of 5 $A/mm^2$, we need at least 0.02 $mm^2$ of cross-sectional copper area available for it. \n",
       "\n",
       "Thus the optimum wire dia is: 0.42 $ mm $ (0.14 $mm^2$ each strand)\n",
       "\n",
       "| wire Ø    | copper Ø  | fully utilized | strands | copper total  | 13 turns occupy |\n",
       "|-----------|-----------|----------------|---------|---------------|-----------------|\n",
       "| 0.1 $mm$  | 0.1 $mm$  | OK             | 3       | 0.0236 $mm^2$ | 2%              |\n",
       "| 0.25 $mm$ | 0.25 $mm$ | OK             | 1       | 0.0491 $mm^2$ | 3%              |\n",
       "| 0.35 $mm$ | 0.35 $mm$ | OK             | 1       | 0.0962 $mm^2$ | 5%              |\n",
       "| 0.45 $mm$ | 0.45 $mm$ | TOO THICK      | 1       | 0.1582 $mm^2$ | 8%              |"
      ],
      "text/plain": [
       "CoilSelectionInfo(frequency=99999.99999999999, turns=13, rms_current=0.1, current_density=5, skin_depth=0.20902655333712988, required_copper_area=0.02, optimal_strand_dia=0.41805310667425977, optimal_strand_area=0.1372627803799106, choices=[CoilChoice(wire_dia=0.1, is_too_thick=False, copper_dia=0.1, strands=3, total_copper_area=0.02356194490192345, winding_area_fill=2), CoilChoice(wire_dia=0.25, is_too_thick=False, copper_dia=0.25, strands=1, total_copper_area=0.04908738521234052, winding_area_fill=3), CoilChoice(wire_dia=0.35, is_too_thick=False, copper_dia=0.35, strands=1, total_copper_area=0.0962112750161874, winding_area_fill=5), CoilChoice(wire_dia=0.45, is_too_thick=True, copper_dia=0.45, strands=1, total_copper_area=0.15824154758619444, winding_area_fill=8)])"
      ]
     },
     "metadata": {},
     "output_type": "display_data"
    }
   ],
   "source": [
    "display(Markdown(f\"\\n### Primary winding ({N_p} turns, {format_L(L_p)})\\n\"))\n",
    "display(coil_selection(F_sw, I_pri_rms, wires_dia, I_density, N_p, winding_area=core.W_a))\n",
    "\n",
    "for i, o in enumerate(out):\n",
    "    display(Markdown(\n",
    "        f\"\\n### Secondary winding #{i + 1} ({'2 X ' if o.is_center_tapped else ''}\"\n",
    "        f\"{secondary_turns[i]} turns, {format_L(L_secondary[i])})\\n\"))\n",
    "    display(coil_selection(F_sw, out[i].I / (2 if o.is_center_tapped else 1), wires_dia, I_density, secondary_turns[i], winding_area=core.W_a))"
   ]
  },
  {
   "cell_type": "markdown",
   "metadata": {},
   "source": [
    "## Input capacitors $C_1$, $C_2$ and their balancing resistors"
   ]
  },
  {
   "cell_type": "code",
   "execution_count": 12,
   "metadata": {},
   "outputs": [
    {
     "data": {
      "text/markdown": [
       "<table><tr><td>Each input capacitor should be at least</td><td>9.41uF</td></tr>\n",
       "<tr><td>Balancing voltage divider needs at least 2 resistors</td><td>100.0kΩ 0.5W each</td></tr>\n",
       "<tr><td>Each resistor will be dissipating</td><td>364.5mW</td></tr></table>"
      ],
      "text/plain": [
       "<IPython.core.display.Markdown object>"
      ]
     },
     "metadata": {},
     "output_type": "display_data"
    }
   ],
   "source": [
    "# The capacitors share the current, so each must deliver only I_pft/2\n",
    "C_in_min = (I_pft/2) * D_max / (F_sw * V_in_min * C_in_ripple)\n",
    "if C_in is None:\n",
    "    C_in = C_in_min\n",
    "\n",
    "P_R_C_in = 0.5  # power rating of a single balancing resistor\n",
    "I_R_C_in = 2 * 0.8 * P_R_C_in / V_in_max\n",
    "R_C_in = nearest_e24(V_in_max**2 / (4 * 0.8 * P_R_C_in), 'higher')\n",
    "I_R_C_in = V_in_max / (2 * R_C_in)\n",
    "\n",
    "display(block_of_values(\n",
    "    ('Each input capacitor should be at least', format_C(C_in_min)),\n",
    "    (f'Balancing voltage divider needs at least 2 resistors', f'{format_R(R_C_in)} {P_R_C_in}W each'),\n",
    "    (f'Each resistor will be dissipating', format_value(R_C_in * I_R_C_in**2, \"W\"))\n",
    "))"
   ]
  },
  {
   "cell_type": "markdown",
   "metadata": {},
   "source": [
    "## Main MOSFETs"
   ]
  },
  {
   "cell_type": "code",
   "execution_count": 13,
   "metadata": {},
   "outputs": [
    {
     "data": {
      "text/markdown": [
       "<table><tr><td>Power being dissipated, per component</td><td>360.94mW</td></tr>\n",
       "<tr><td>Junction temperature without a heatsink</td><td>47.38°C, which is OK</td></tr>\n",
       "<tr><td>Junction temperature with the heatsink</td><td>31.68°C, which is OK</td></tr>\n",
       "<tr><td>Max drain-source voltage applied</td><td>381.84V</td></tr>\n",
       "<tr><td>RMS current</td><td>810.1mA</td></tr>\n",
       "<tr><td>Peak current</td><td>1.37A</td></tr></table>"
      ],
      "text/plain": [
       "<IPython.core.display.Markdown object>"
      ]
     },
     "metadata": {},
     "output_type": "display_data"
    }
   ],
   "source": [
    "display(block_of_values(\n",
    "    *switch.thermal_analysis(I_pri_rms, Rt_CS=Rt_CS_sw, Rt_SA=Rt_SA_sw),\n",
    "    (f'Max drain-source voltage applied', format_V(V_in_max)),\n",
    "    (f'RMS current', format_I(I_pri_rms)),\n",
    "    (f'Peak current', format_I(I_pft)),\n",
    "))"
   ]
  },
  {
   "cell_type": "markdown",
   "metadata": {},
   "source": [
    "## Gate drive transformer\n",
    "This section calculates a 1:1 transformer, so make sure it gets a proper voltage on its input. We also assume that we\n",
    "drive only two main switches."
   ]
  },
  {
   "cell_type": "code",
   "execution_count": 14,
   "metadata": {},
   "outputs": [
    {
     "name": "stdout",
     "output_type": "stream",
     "text": [
      "Number of turns in each winding: 23 (double this number on the primary if you are going to use push-pull configuration to drive the transformer)\n",
      "Inductance of each winding: 592.48uH\n",
      "Current needed to drive the switch directly: 1.04A\n",
      "Gate-source resistors: 22.0Ω\n",
      "Resistor at the middle point of the primary winding 3.0Ω\n"
     ]
    }
   ],
   "source": [
    "if gate_drv_core is not None:\n",
    "    N_drv = math.ceil(V_gs_sw * D_max / (F_sw * (gate_drv_core.B_sat/2) * gate_drv_core.A_e_mks))\n",
    "    L_drv = gate_drv_core.A_L_mks * N_drv**2\n",
    "    print(\"Number of turns in each winding:\", N_drv, \"(double this number on the primary if you are going to use push-pull configuration to drive the transformer)\")\n",
    "    print(\"Inductance of each winding:\", format_L(L_drv))\n",
    "\n",
    "    T_rise_real = min(D_min / (2 * F_sw), T_rise_desired)\n",
    "    Q_drive_sw = switch.gate_drive_charge(V_in_max, V_gs_sw)\n",
    "    I_drive_sw = Q_drive_sw / T_rise_real\n",
    "    R_gs = nearest_e24(V_gs_sw / (I_drive_sw / 2))\n",
    "    R_drive_t = nearest_e24(V_gs_sw / (4 * I_drive_sw))\n",
    "    print('Current needed to drive the switch directly:', format_I(I_drive_sw))\n",
    "    print('Gate-source resistors:', format_R(R_gs))\n",
    "    print('Resistor at the middle point of the primary winding', format_R(R_drive_t))"
   ]
  },
  {
   "cell_type": "markdown",
   "metadata": {},
   "source": [
    "## Integrated high and low side gate driver (like IRS2110)\n",
    "Based on the [Bootstrap Circuitry Selection for Half-Bridge Configurations](http://www.ti.com/lit/an/slua887/slua887.pdf)"
   ]
  },
  {
   "cell_type": "code",
   "execution_count": 15,
   "metadata": {},
   "outputs": [
    {
     "name": "stdout",
     "output_type": "stream",
     "text": [
      "Minimum bootstrap capacitor: 39.0nF\n",
      "Bootstrap diode voltage rating: 381.84V\n",
      "Bootstrap capacitor voltage rating: 24.0V\n",
      "VDD bypass capacitor: 390.0nF\n"
     ]
    }
   ],
   "source": [
    "# Bootstrap Diode's Reverse Recovery Charge, C\n",
    "Q_D_driver_rr = 5e-12  # taken from ES1G diode's datasheet\n",
    "# Bootstrap diode's forward voltage drop\n",
    "V_D_driver = 0.5\n",
    "# Offset supply leakage current (from the driver's datas, A\n",
    "I_driver_LK = 50e-6\n",
    "# Quiescent VBS supply current (from the driver's datasheet), A\n",
    "I_driver_QBS = 230e-6\n",
    "# Bootstrap undervoltage lockout threshold\n",
    "V_driver_BSUV = 9.7\n",
    "\n",
    "C_BST_min = nearest_e24(\n",
    "    (Q_drive_sw + I_driver_LK * (D_max / F_sw) + (I_driver_QBS / F_sw)) / (V_gs_sw - V_driver_BSUV - V_D_driver),\n",
    "    'higher')\n",
    "C_VDD_driver = 10 * C_BST_min\n",
    "\n",
    "print('Minimum bootstrap capacitor:', format_C(C_BST_min))\n",
    "print('Bootstrap diode voltage rating:', format_V(V_in_max))\n",
    "print('Bootstrap capacitor voltage rating:', format_V(2 * V_gs_sw))\n",
    "print('VDD bypass capacitor:', format_C(C_VDD_driver))"
   ]
  },
  {
   "cell_type": "markdown",
   "metadata": {},
   "source": [
    "## Over-current protection (with a current transformer + full-bridge rectifier)\n",
    "\n",
    "Over-current protection network senses AC current in the primary winding through a current transformer\n",
    "and feeds the resulting signal (perhaps smoothed by a small capacitor) to one of the error amplifiers."
   ]
  },
  {
   "cell_type": "code",
   "execution_count": 16,
   "metadata": {},
   "outputs": [
    {
     "data": {
      "image/png": "[encoded data removed]"
     },
     "metadata": {
      "image/png": {
       "height": 260,
       "width": 520.7106781186548
      }
     },
     "output_type": "display_data"
    },
    {
     "data": {
      "text/markdown": [
       "<table><tr><td>Primary winding turns</td><td>1</td></tr>\n",
       "<tr><td>Secondary winding turns</td><td>100</td></tr>\n",
       "<tr><td>Primary side inductance</td><td>100.0nH</td></tr>\n",
       "<tr><td>Secondary side inductance</td><td>1.0mH</td></tr>\n",
       "<tr><td>First and second burden resistors</td><td>750.0Ω</td></tr>\n",
       "<tr><td>Power dissipated by each resistor</td><td>12.52mW</td></tr>\n",
       "<tr><td>Peak magnetic flux</td><td>2.37mT, which is OK</td></tr>\n",
       "<tr><td>Peak input current</td><td>1.37A</td></tr>\n",
       "<tr><td>Peak output voltage</td><td>4.23V</td></tr>\n",
       "<tr><td>Output voltage matching RMS current</td><td>2.04V</td></tr>\n",
       "<tr><td>Max voltage the diodes should be able to withstand</td><td>5.13V</td></tr></table>"
      ],
      "text/plain": [
       "<IPython.core.display.Markdown object>"
      ]
     },
     "metadata": {},
     "output_type": "display_data"
    }
   ],
   "source": [
    "current_transformer_network = edcalc.smps.CurrentTransformerNetwork.create(I_pft, 2.5 * I_pft / I_pri_rms, I_pri_rms, current_transformer_core)\n",
    "current_transformer_network.draw()\n",
    "display(current_transformer_network.markdown())"
   ]
  },
  {
   "cell_type": "markdown",
   "metadata": {},
   "source": [
    "## Output filters\n",
    "\n",
    "Please, note that according to A. Pressman:\n",
    "\n",
    "> The output capacitor Co is selected to meet the maximum output ripple\n",
    "voltage specification. In Section 1.3.7 it was shown that the output\n",
    "ripple is determined almost completely by the magnitude of the ESR\n",
    "(equivalent series resistance, Ro ) in the filter capacitor and not by the\n",
    "magnitude of the capacitor itself.\n",
    "\n",
    "The theory is covered in [\"Understanding Buck Power Stages\"](static/papers/slva057-buck-power-stages.pdf)\n",
    "by Everett Rogers\n",
    "and in [Analog Circuit Design Volume 2: Immersion in the Black Art of Analog Design](https://books.google.ru/books?id=H9rAU4Rf--YC&lpg=PA108&pg=PA108#v=onepage&q&f=false)\n",
    "by Bob Dobkin and Jim Williams."
   ]
  },
  {
   "cell_type": "code",
   "execution_count": 17,
   "metadata": {},
   "outputs": [
    {
     "data": {
      "text/markdown": [
       "\n",
       "###  Output #1: ###\n"
      ],
      "text/plain": [
       "<IPython.core.display.Markdown object>"
      ]
     },
     "metadata": {},
     "output_type": "display_data"
    },
    {
     "data": {
      "text/markdown": [
       "<table><tr><td>Output voltage</td><td>46.0V</td></tr>\n",
       "<tr><td>Output current</td><td>1.0A</td></tr>\n",
       "<tr><td>Output voltage ripple (0.1%)</td><td>46.0mV</td></tr>\n",
       "<tr><td>Output inductor</td><td>752.5uH, 89 turns</td></tr>\n",
       "<tr><td>Inductor mode</td><td>continuous</td></tr>\n",
       "<tr><td>Inductor's peak flux density</td><td>130.48mT, which is OK</td></tr>\n",
       "<tr><td>Inductor's peak current:</td><td>1.24A</td></tr>\n",
       "<tr><td>$r = \\Delta I / I_L$ at $V_{inmin}$</td><td>0.4</td></tr>\n",
       "<tr><td>$r = \\Delta I / I_L$ at $V_{inmax}$</td><td>0.48</td></tr>\n",
       "<tr><td>Recommended minimum capacitor:</td><td>13.17uF</td></tr>\n",
       "<tr><td>Max ESR of this capacitor should be</td><td>94.92mΩ</td></tr>\n",
       "<tr><td>Output capacitor RMS current</td><td>139.9mA</td></tr>\n",
       "<tr><td>Such capacitor will dissipate</td><td>1.86mW</td></tr></table>"
      ],
      "text/plain": [
       "<IPython.core.display.Markdown object>"
      ]
     },
     "metadata": {},
     "output_type": "display_data"
    },
    {
     "data": {
      "text/markdown": [
       "### The winding"
      ],
      "text/plain": [
       "<IPython.core.display.Markdown object>"
      ]
     },
     "metadata": {},
     "output_type": "display_data"
    },
    {
     "data": {
      "text/markdown": [
       "With the RMS current of 1.0A and max current density of 5 $A/mm^2$, we need at least 0.2 $mm^2$ of cross-sectional copper area available for it. \n",
       "\n",
       "Thus the optimum wire dia is: 0.42 $ mm $ (0.14 $mm^2$ each strand)\n",
       "\n",
       "| wire Ø    | copper Ø  | fully utilized | strands | copper total  | 89 turns occupy |\n",
       "|-----------|-----------|----------------|---------|---------------|-----------------|\n",
       "| 0.1 $mm$  | 0.1 $mm$  | OK             | 26      | 0.2042 $mm^2$ |                 |\n",
       "| 0.25 $mm$ | 0.25 $mm$ | OK             | 5       | 0.2454 $mm^2$ |                 |\n",
       "| 0.35 $mm$ | 0.35 $mm$ | OK             | 3       | 0.2886 $mm^2$ |                 |\n",
       "| 0.45 $mm$ | 0.45 $mm$ | TOO THICK      | 2       | 0.3165 $mm^2$ |                 |"
      ],
      "text/plain": [
       "CoilSelectionInfo(frequency=99999.99999999999, turns=89, rms_current=1, current_density=5, skin_depth=0.20902655333712988, required_copper_area=0.2, optimal_strand_dia=0.41805310667425977, optimal_strand_area=0.1372627803799106, choices=[CoilChoice(wire_dia=0.1, is_too_thick=False, copper_dia=0.1, strands=26, total_copper_area=0.20420352248333656, winding_area_fill=None), CoilChoice(wire_dia=0.25, is_too_thick=False, copper_dia=0.25, strands=5, total_copper_area=0.2454369260617026, winding_area_fill=None), CoilChoice(wire_dia=0.35, is_too_thick=False, copper_dia=0.35, strands=3, total_copper_area=0.28863382504856216, winding_area_fill=None), CoilChoice(wire_dia=0.45, is_too_thick=True, copper_dia=0.45, strands=2, total_copper_area=0.3164830951723889, winding_area_fill=None)])"
      ]
     },
     "metadata": {},
     "output_type": "display_data"
    },
    {
     "data": {
      "text/markdown": [
       "\n",
       "###  Output #2: ###\n"
      ],
      "text/plain": [
       "<IPython.core.display.Markdown object>"
      ]
     },
     "metadata": {},
     "output_type": "display_data"
    },
    {
     "data": {
      "text/markdown": [
       "<table><tr><td colspan=\"2\"><span style=\"font-weight:bold; color: #ff0000;\">WARNING:</span> <span style=\"font-weight:bold;\">We can't use this core to achieve the current ripple r = 0.4 we need. Please, use a larger core and/or a core with lower $A_L$. Worst case, we can still try to use this core for filtering by reducing the number of turns and compensating increased pulsations with a larger output capacitor (below you can see the numbers for that scenario). However this is not always a solution, because the number of turns is in relations with the flux density both directly and indirectly through the peak inductor current. Alternatively, you can change the switching frequency to 300.26kHz or D_min to 0.08, or do a bit of both</span></td></tr>\n",
       "<tr><td>Output voltage</td><td>14.0V</td></tr>\n",
       "<tr><td>Output current</td><td>200.0mA</td></tr>\n",
       "<tr><td>Output voltage ripple (0.1%)</td><td>14.0mV</td></tr>\n",
       "<tr><td>Output inductor</td><td>483.74uH, 19.0 turns</td></tr>\n",
       "<tr><td>Inductor mode</td><td>continuous (r = 1.2)</td></tr>\n",
       "<tr><td>Inductor's peak flux density</td><td>311.42mT <span style=\"font-weight:bold; color: #ff0000;\">WARNING:</span> <span style=\"font-weight:bold;\">Such flux density is too high (>= 300.0mT) and will saturate the core!</span></td></tr>\n",
       "<tr><td>Inductor's peak current:</td><td>320.11mA</td></tr>\n",
       "<tr><td>$r = \\Delta I / I_L$ at $V_{inmin}$</td><td>0.99</td></tr>\n",
       "<tr><td>$r = \\Delta I / I_L$ at $V_{inmax}$</td><td>1.2</td></tr>\n",
       "<tr><td>Recommended minimum capacitor:</td><td>21.45uF</td></tr>\n",
       "<tr><td>Max ESR of this capacitor should be</td><td>58.28mΩ</td></tr>\n",
       "<tr><td>Output capacitor RMS current</td><td>69.34mA</td></tr>\n",
       "<tr><td>Such capacitor will dissipate</td><td>280.25uW</td></tr></table>"
      ],
      "text/plain": [
       "<IPython.core.display.Markdown object>"
      ]
     },
     "metadata": {},
     "output_type": "display_data"
    },
    {
     "data": {
      "text/markdown": [
       "### The winding"
      ],
      "text/plain": [
       "<IPython.core.display.Markdown object>"
      ]
     },
     "metadata": {},
     "output_type": "display_data"
    },
    {
     "data": {
      "text/markdown": [
       "With the RMS current of 200.0mA and max current density of 5 $A/mm^2$, we need at least 0.04 $mm^2$ of cross-sectional copper area available for it. \n",
       "\n",
       "Thus the optimum wire dia is: 0.42 $ mm $ (0.14 $mm^2$ each strand)\n",
       "\n",
       "| wire Ø    | copper Ø  | fully utilized | strands | copper total  | 19.0 turns occupy |\n",
       "|-----------|-----------|----------------|---------|---------------|-------------------|\n",
       "| 0.1 $mm$  | 0.1 $mm$  | OK             | 6       | 0.0471 $mm^2$ |                   |\n",
       "| 0.25 $mm$ | 0.25 $mm$ | OK             | 1       | 0.0491 $mm^2$ |                   |\n",
       "| 0.35 $mm$ | 0.35 $mm$ | OK             | 1       | 0.0962 $mm^2$ |                   |\n",
       "| 0.45 $mm$ | 0.45 $mm$ | TOO THICK      | 1       | 0.1582 $mm^2$ |                   |"
      ],
      "text/plain": [
       "CoilSelectionInfo(frequency=99999.99999999999, turns=19.0, rms_current=0.2, current_density=5, skin_depth=0.20902655333712988, required_copper_area=0.04, optimal_strand_dia=0.41805310667425977, optimal_strand_area=0.1372627803799106, choices=[CoilChoice(wire_dia=0.1, is_too_thick=False, copper_dia=0.1, strands=6, total_copper_area=0.0471238898038469, winding_area_fill=None), CoilChoice(wire_dia=0.25, is_too_thick=False, copper_dia=0.25, strands=1, total_copper_area=0.04908738521234052, winding_area_fill=None), CoilChoice(wire_dia=0.35, is_too_thick=False, copper_dia=0.35, strands=1, total_copper_area=0.0962112750161874, winding_area_fill=None), CoilChoice(wire_dia=0.45, is_too_thick=True, copper_dia=0.45, strands=1, total_copper_area=0.15824154758619444, winding_area_fill=None)])"
      ]
     },
     "metadata": {},
     "output_type": "display_data"
    }
   ],
   "source": [
    "out_info, L_out, C_out, ESR_C_out = [], [], [], []\n",
    "for i, o in enumerate(out):\n",
    "    display(Markdown(f'\\n###  Output #{i+1}: ###\\n'))\n",
    "    V_s_in_min = (V_in_min / 2) / turns_ratios[i] - o.full_diode_drop()\n",
    "    V_s_in_max = (V_in_max / 2) / turns_ratios[i] - o.full_diode_drop()\n",
    "    output_suggestions, extra_info = edcalc.smps.buck_output_params(F_sw, V_s_in_min, V_s_in_max, D_min, D_max, o.V, o.I, ripple, o.filter_core, o.C_ripple)\n",
    "    display(block_of_values(*extra_info))\n",
    "    display(Markdown('### The winding'))\n",
    "    display(coil_selection(F_sw, o.I, wires_dia, I_density, output_suggestions.N))\n",
    "    out_info.append(output_suggestions)\n",
    "    L_out.append(output_suggestions.L)\n",
    "    C_out.append(output_suggestions.C if o.C is None else o.C)\n",
    "    ESR_C_out.append(output_suggestions.ESR if o.ESR is None else o.ESR)"
   ]
  },
  {
   "cell_type": "markdown",
   "metadata": {},
   "source": [
    "## Output rectifiers"
   ]
  },
  {
   "cell_type": "code",
   "execution_count": 18,
   "metadata": {},
   "outputs": [
    {
     "data": {
      "text/markdown": [
       "\n",
       "### Output #1 (full-bridge rectifier) ###"
      ],
      "text/plain": [
       "<IPython.core.display.Markdown object>"
      ]
     },
     "metadata": {},
     "output_type": "display_data"
    },
    {
     "data": {
      "text/markdown": [
       "<table><tr><td>Max reverse voltage on each of the diodes</td><td>199.76V, which is OK</td></tr>\n",
       "<tr><td>Peak current through each diode</td><td>1.24A, which is OK</td></tr>\n",
       "<tr><td>Average current per diode</td><td>500.0mA, which is OK</td></tr>\n",
       "<tr><td>Power being dissipated, per component</td><td>475.0mW</td></tr>\n",
       "<tr><td>Junction temperature without a heatsink</td><td>58.25°C, which is OK</td></tr>\n",
       "<tr><td>Junction temperature with the heatsink</td><td>42.81°C, which is OK</td></tr></table>"
      ],
      "text/plain": [
       "<IPython.core.display.Markdown object>"
      ]
     },
     "metadata": {},
     "output_type": "display_data"
    },
    {
     "data": {
      "text/markdown": [
       "\n",
       "### Output #2 (center-tapped rectifier) ###"
      ],
      "text/plain": [
       "<IPython.core.display.Markdown object>"
      ]
     },
     "metadata": {},
     "output_type": "display_data"
    },
    {
     "data": {
      "text/markdown": [
       "<table><tr><td>Max reverse voltage on each of the diodes</td><td>126.33V, which is OK</td></tr>\n",
       "<tr><td>Peak current through each diode</td><td>320.11mA, which is OK</td></tr>\n",
       "<tr><td>Average current per diode</td><td>100.0mA, which is OK</td></tr>\n",
       "<tr><td>Power being dissipated, per component</td><td>95.0mW</td></tr>\n",
       "<tr><td>Junction temperature without a heatsink</td><td>31.65°C, which is OK</td></tr>\n",
       "<tr><td>Junction temperature with the heatsink</td><td>28.56°C, which is OK</td></tr></table>"
      ],
      "text/plain": [
       "<IPython.core.display.Markdown object>"
      ]
     },
     "metadata": {},
     "output_type": "display_data"
    }
   ],
   "source": [
    "for i, o in enumerate(out):\n",
    "    if o.rectifier is None:\n",
    "        continue\n",
    "    display(Markdown(f'\\n### Output #{i + 1} ({o.rectifier} rectifier) ###'))\n",
    "    display(block_of_values(\n",
    "        *o.D.check_conditions(\n",
    "            V_max=o.diode_reverse_voltage((V_in_max / 2) / turns_ratios[i]),\n",
    "            I_avg=o.diode_average_current(),\n",
    "            I_pk=o.I * (1 + out_info[i].max_ripple / 2)),\n",
    "        *o.D.thermal_analysis(I_rms=o.diode_average_current(), T_ambient=T_ambient, Rt_CS=Rt_CS_D, Rt_SA=Rt_SA_D)\n",
    "    ))"
   ]
  },
  {
   "cell_type": "markdown",
   "metadata": {},
   "source": [
    "## Feedback loop control\n",
    "\n",
    "The procedure is mostly based on \"[The TL431 in Switch-Mode Power Supplies loops](static/papers/tl431-in-loop-control-basso.pdf)\" by C. Basso.\n",
    "However, in choosing locations of poles and zeros the guide \"[Compensator Design Procedure for Buck Converter with Voltage-Mode Error-Amplifier](static/papers/an-1162.pdf)\" was used."
   ]
  },
  {
   "cell_type": "code",
   "execution_count": 19,
   "metadata": {},
   "outputs": [
    {
     "data": {
      "text/markdown": [
       "<table><tr><td>Crossover frequency</td><td>16.67kHz</td></tr>\n",
       "<tr><td>LC filter frequency</td><td>183.47Hz</td></tr>\n",
       "<tr><td>ESR frequency</td><td>612.13Hz</td></tr>\n",
       "<tr><td>DC plant gain</td><td>0.0075</td></tr>\n",
       "<tr><td>Max regulated output voltage</td><td>47.5V</td></tr>\n",
       "<tr><td>Compensator type</td><td>Type III</td></tr>\n",
       "<tr><td>$F_{z1}$</td><td>183.47Hz</td></tr>\n",
       "<tr><td>$F_{z2}$</td><td>183.47Hz</td></tr>\n",
       "<tr><td>$F_{p1}$</td><td>612.13Hz</td></tr>\n",
       "<tr><td>$F_{p2}$</td><td>612.13Hz</td></tr></table>"
      ],
      "text/plain": [
       "<IPython.core.display.Markdown object>"
      ]
     },
     "metadata": {},
     "output_type": "display_data"
    },
    {
     "data": {
      "image/png": "[encoded data removed]"
     },
     "metadata": {
      "image/png": {
       "height": 710,
       "width": 1150
      }
     },
     "output_type": "display_data"
    }
   ],
   "source": [
    "V_in_fb = V_in_max / turns_ratios[0]\n",
    "fb_base = edcalc.smps.ReferenceFeedbackBase.create(V_in_fb, opto, main_reference, fixed_reference, PWMC_Vref, R_opto_pull)\n",
    "fb_comp, fb_info = fb_base.buck_type3_compensator(V_in_fb, out[0].V, L_out[0], C_out[0], ESR_C_out[0], F_sw, V_ramp=3, I_ref_in=250e-6, split_poles_and_zeros=False)\n",
    "display(block_of_values(*fb_info))\n",
    "fb_comp.draw()"
   ]
  },
  {
   "cell_type": "markdown",
   "metadata": {},
   "source": [
    "## EMI filter\n",
    "\n",
    "Generally the filter looks like this:"
   ]
  },
  {
   "cell_type": "code",
   "execution_count": 20,
   "metadata": {},
   "outputs": [
    {
     "data": {
      "image/png": "[encoded data removed]",
      "text/plain": [
       "<IPython.core.display.Image object>"
      ]
     },
     "metadata": {},
     "output_type": "display_data"
    }
   ],
   "source": [
    "display(Image(edcalc.schematics.emi_filter_image()))"
   ]
  },
  {
   "cell_type": "markdown",
   "metadata": {},
   "source": [
    "The two inductances marked here as $1/2L_{DM}$ are usually formed by parasitic inductance of the common mode choke ${TF}_1$ and exist on the board only virtually, although two separate inductors can still be used. [This video explains how to measure such parasitic inductance](https://www.youtube.com/watch?v=ONbGT35G6jo).\n",
    "\n",
    "The code below is based on example provided in chapter 18 (p. 681) of the book \"Switching power supplies A-Z\" by S. Maniktala, plus [a series of youtube videos on EMC filter design](https://youtu.be/JQkNqY0I02Y) by Ali Shirsavar. It doesn't give you the exact values of the components, but rather guides toward the right choices and allows to test them against the defined parameters."
   ]
  },
  {
   "cell_type": "code",
   "execution_count": 21,
   "metadata": {},
   "outputs": [
    {
     "data": {
      "text/markdown": [
       "### DM filter design constraints for $V_{INMIN}$ and $V_{INMAX}$"
      ],
      "text/plain": [
       "<IPython.core.display.Markdown object>"
      ]
     },
     "metadata": {},
     "output_type": "display_data"
    },
    {
     "name": "stdout",
     "output_type": "stream",
     "text": [
      "The filter should be able to withstand peak 1.37A without saturation\n",
      "DM filter at 254.56V should:\n",
      " - have corner frequency about 28.34kHz\n",
      " - have impedance of less than 106.23Ω\n",
      " - use X capacitor of more than 52.86nF\n",
      " - use total inductance (Lup + Ldown)of less than 596.51uH\n",
      "DM filter at 381.84V should:\n",
      " - have corner frequency about 28.34kHz\n",
      " - have impedance of less than 239.02Ω\n",
      " - use X capacitor of more than 23.49nF\n",
      " - use total inductance (Lup + Ldown)of less than 1.34mH\n"
     ]
    },
    {
     "data": {
      "text/markdown": [
       "### Testing DM filter components against the constraints"
      ],
      "text/plain": [
       "<IPython.core.display.Markdown object>"
      ]
     },
     "metadata": {},
     "output_type": "display_data"
    },
    {
     "name": "stdout",
     "output_type": "stream",
     "text": [
      "Checking 33.5uH-4.0uF DM filter at 254.56V\n",
      "  corner frequency is 13.75kHz vs calculated 28.34kHz\n",
      "  The resulting impedance is 2.89Ω\n",
      "    which is good, since it is less than maximum allowed 106.23Ω\n",
      "  optimum capacitance with the given L is 941.24nF vs 4.0uF selected\n",
      "  optimum inductance with the given C is 7.88uH vs 33.5uH selected\n",
      "  recommended dampening RC chain: 2.89Ω resistor and 20.0uF capacitor\n",
      "  (check) select Cpi < 800.0nF AND (Cpi << 25.24nF OR Cpi >> 403.77nF) AND Cpi > 318.31nF\n",
      "Checking 33.5uH-4.0uF DM filter at 381.84V\n",
      "  corner frequency is 13.75kHz vs calculated 28.34kHz\n",
      "  The resulting impedance is 2.89Ω\n",
      "    which is good, since it is less than maximum allowed 239.02Ω\n",
      "  optimum capacitance with the given L is 941.24nF vs 4.0uF selected\n",
      "  optimum inductance with the given C is 7.88uH vs 33.5uH selected\n",
      "  recommended dampening RC chain: 2.89Ω resistor and 20.0uF capacitor\n",
      "  (check) select Cpi < 800.0nF AND (Cpi << 25.24nF OR Cpi >> 403.77nF) AND Cpi > 318.31nF\n"
     ]
    },
    {
     "data": {
      "text/markdown": [
       "### Testing CM filter components against the constraints"
      ],
      "text/plain": [
       "<IPython.core.display.Markdown object>"
      ]
     },
     "metadata": {},
     "output_type": "display_data"
    },
    {
     "name": "stdout",
     "output_type": "stream",
     "text": [
      "Checking 100.0kH-7.6mF CM filter:\n",
      "  - the desired corner frequency is 3.63mHz\n",
      "  - the LC filter has frequency 5.77mHz (must be close to the desired)\n",
      "  - the optimal C for the L=100.0kH is 19.25mF\n",
      "  - the optimal L for the C=7.6mF is 253.32kH\n",
      "Checking 100.0kH-7.6mF CM filter:\n",
      "  - the desired corner frequency is 4.44mHz\n",
      "  - the LC filter has frequency 5.77mHz (must be close to the desired)\n",
      "  - the optimal C for the L=100.0kH is 12.84mF\n",
      "  - the optimal L for the C=7.6mF is 168.88kH\n"
     ]
    }
   ],
   "source": [
    "import edcalc.emi\n",
    "display(Markdown('### DM filter design constraints for $V_{INMIN}$ and $V_{INMAX}$'))\n",
    "print(f'The filter should be able to withstand peak {format_I(I_pft)} without saturation')\n",
    "dm_min = edcalc.emi.DMFilterParams.create(F_sw, efficiency, P_out_sum, 2 * C_in_ESR, V_in_min, I_pri_rms, D_max, T_rise_real)\n",
    "dm_max = edcalc.emi.DMFilterParams.create(F_sw, efficiency, P_out_sum, 2 * C_in_ESR, V_in_max, I_pri_rms, D_max, T_rise_real)\n",
    "dm_min.print()\n",
    "dm_max.print()\n",
    "\n",
    "display(Markdown('### Testing DM filter components against the constraints'))\n",
    "dm_min.check_LC(33.5e-6, 4e-6)\n",
    "dm_max.check_LC(33.5e-6, 4e-6)\n",
    "\n",
    "display(Markdown('### Testing CM filter components against the constraints'))\n",
    "edcalc.emi.cm_filter_check_LC(F_sw, 7.6e-3, 20e-9, D_min, V_in_max)\n",
    "edcalc.emi.cm_filter_check_LC(F_sw, 7.6e-3, 20e-9, D_min, V_in_min)"
   ]
  },
  {
   "cell_type": "markdown",
   "metadata": {},
   "source": [
    "The procedure is mostly based on \"[The TL431 in Switch-Mode Power Supplies loops](static/papers/tl431-in-loop-control-basso.pdf)\" by C. Basso.\n",
    "However, in choosing locations of poles and zeros the guide \"[Compensator Design Procedure for Buck Converter with Voltage-Mode Error-Amplifier](static/papers/an-1162.pdf)\" was used."
   ]
  }
 ],
 "metadata": {
  "kernelspec": {
   "display_name": "Python 3",
   "language": "python",
   "name": "python3"
  },
  "language_info": {
   "codemirror_mode": {
    "name": "ipython",
    "version": 3
   },
   "file_extension": ".py",
   "mimetype": "text/x-python",
   "name": "python",
   "nbconvert_exporter": "python",
   "pygments_lexer": "ipython3",
   "version": "3.8.1"
  }
 },
 "nbformat": 4,
 "nbformat_minor": 4
}
