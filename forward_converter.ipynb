{
 "cells": [
  {
   "cell_type": "markdown",
   "metadata": {},
   "source": [
    "# Regulated Forward Converter on UCx842/3/4/5\n",
    "\n",
    "This design uses cheap and popular series of current-mode PWM controllers [UCx842 ... UCx845](http://www.ti.com/lit/ds/symlink/uc3845.pdf). The differences between them are summarized in the table below:\n",
    "\n",
    "| Device                 | Startup voltage | Turn-off voltage (after startup) | Max duty cycle |\n",
    "|------------------------|-----------------|----------------------------------|----------------|\n",
    "| UC1842, UC2842, UC3842 | 16V             | 10V                              | 100%           |\n",
    "| UC1843, UC2843, UC3843 | 8.4V            | 7.6V                             | 100%           |\n",
    "| UC1844, UC2844, UC3844 | 16V             | 10V                              | 50%            |\n",
    "| UC1845, UC2845, UC3845 | 8.4V            | 7.6V                             | 50%            |\n",
    "\n",
    "UC184x and UC284x are usually manufactured for a wider range of operating temperatures than UC384x ICs. Normally UC844/5 are used for forward converters, since their duty cycle is limited to 50%. However by properly choosing the timing resistor, even UCx842 and UCx843 can be made to operate at duty cycles below 50% (please, do that with a generous safety margin and carefully test everything on the real circuit).\n",
    "\n",
    "## Forward topology\n",
    "\n",
    "A typical current-mode forward converter looks like this:"
   ]
  },
  {
   "cell_type": "code",
   "execution_count": 1,
   "metadata": {},
   "outputs": [
    {
     "data": {
      "image/png": "[encoded data removed]",
      "text/plain": [
       "<IPython.core.display.Image object>"
      ]
     },
     "metadata": {},
     "output_type": "display_data"
    }
   ],
   "source": [
    "from IPython.display import display, Markdown, Image\n",
    "import edcalc.schematics\n",
    "display(Image(edcalc.schematics.forward_topology_image()))"
   ]
  },
  {
   "cell_type": "markdown",
   "metadata": {},
   "source": [
    "It belongs to the same family of buck-derived converters as push-pull, half-bridge or full-bridge converters.\n",
    "Fundamentally, it is just a buck converter with a transformer scaling the input voltage to a necessary level.\n",
    "Which means, taking the scaling ratios into accout, you can ignore the transformer and pretend is just\n",
    "a buck converter built around the inductor Lo. The output of the transformer is rectified by $D_1$ with $D_S$ and $D_2$\n",
    "acting as freewheeling diodes dealing with magnetizing currents in reversed direction. Current-sensing resistor $R_{sense}$\n",
    "can be replaced with a current transformer.\n",
    "\n",
    "\"non-canonical\" parts\n",
    "\n",
    "Capacitor $C_S$ is not present in the \"canonical\" forward topology, but together with the diode $D_S$ and the main switch\n",
    "it allows to recover the energy stored in the primary leakage inductance and thus both eliminate the drain voltage spikes\n",
    "and increase the converter efficiency. Reset winding $L_S$ is a part of the main transformer, wounded on the same core.\n",
    "\n",
    "Another set of non-standard components are $C_X$, $D_X$ and $R_X$, together forming an optional RCD clamp, dealing with\n",
    "the secondary leakage inductance voltage spikes, that can cause significant \"ringing\" and in the process destroy the output diodes\n",
    "and/or cause raise the EMI levels. Connecting $R_X$ to the output instead of the ground helps to lower the power losses.\n",
    "\n",
    "Some major pros and cons of the topology:\n",
    "\n",
    "Pros:\n",
    "\n",
    "* Being closest to a flyback in cost, can handle much higher power levels,\n",
    "  alls without the need in an oversized and gapped transformer core.\n",
    "  People even build [quite compact ARC welders](https://www.youtube.com/watch?v=82BbgB7nk8I)\n",
    "  with this topology.\n",
    "* Does not suffer from any flux imbalances in the transformer core.\n",
    "* Relatively easy to build. In most cases doesn't require any specialized gate drivers.\n",
    "\n",
    "Cons:\n",
    "\n",
    "* The switch experiences theoretical voltage stress of at least $2 \\times V_{in}$\n",
    "  Normally the voltage stress is more than $2 \\times V_{in}$ due to voltage\n",
    "  spikes caused by the uncoupled leakage inductance of the transformer,\n",
    "  unless dampened by a clamp or a snubber circuit.\n",
    "  Such $2 \\times V_{in}$ voltage stress makes forward converters less attractive for high input\n",
    "  voltages such as european 240 VAC, requiring the use of expensive switches\n",
    "  rated for 800-900V.\n",
    "* Primary currents can also be quite significant, since one primary winding and switch carry\n",
    "  the full load and we are limited by 45-50% duty cycle to guarantee full core reset each cycle."
   ]
  },
  {
   "cell_type": "markdown",
   "metadata": {},
   "source": [
    "## Design parameters"
   ]
  },
  {
   "cell_type": "code",
   "execution_count": 2,
   "metadata": {},
   "outputs": [],
   "source": [
    "from edcalc.component_types import Core, MOSFET, Diode\n",
    "from edcalc.smps import OutputParams\n",
    "from edcalc.components import cores, diodes, switches\n",
    "\n",
    "# Desired main switching frequency, Hz\n",
    "# It may later be adjusted according to the real values of the capacitors/resistors of the oscillator,\n",
    "# leading to a variable called 'F_sw'.\n",
    "# It's a combined frequency of both switches, so each switch will turn on/off with a half of this frequency.\n",
    "F_sw_desired = 100000\n",
    "\n",
    "# Input voltage type: \"AC\" or \"DC\" \n",
    "V_in_type = \"DC\"\n",
    "# Input voltage range (min, max)\n",
    "V_in_range = (10, 13)\n",
    "\n",
    "\n",
    "\n",
    "# Describe every output. The first one will be regulated\n",
    "out = [\n",
    "    OutputParams(V=20, I=12,\n",
    "                 filter_core=cores['R33x17.8x11.1-MM52'], \n",
    "                 rectifier='half-wave',\n",
    "                 D=diodes['SB10100'].parallel(2),\n",
    "                 C=1000e-6, ESR=0.26, C_ripple=0.001),\n",
    "]\n",
    "\n",
    "# Expected efficiency\n",
    "efficiency = 0.9\n",
    "# Output inductor's ripple ratio (r = dI / I_L) in the worst conditions (when D = D_min)\n",
    "# Must be less than 2 (to remain in CCM). Ideally, around 0.3-0.5\n",
    "ripple = 0.4\n",
    "# Desired duty cycle of a single switch at minimum input voltage.\n",
    "# The actual value (calculated as 'D_max') will probably be slightly\n",
    "# different depending on the components selected for the timing circuit.\n",
    "D_max_desired = 0.35\n",
    "# Input capacitor voltage ripple ratio dV/V\n",
    "V_in_ripple = 0.05\n",
    "\n",
    "### Magnetic elements ###\n",
    "# The main transformer's core\n",
    "core = cores['ETD44/22/15-N87']\n",
    "# Current density, A/mm^2\n",
    "I_density = 5\n",
    "# Diameters of various wires available (to choose from), mm\n",
    "wires_dia = [0.1, 0.25, 0.35, 0.45]\n",
    "# Percentage the main transformer's uncoupled inductance,\n",
    "# also known as leakage inductance. Typically it is 1-3% (0.01-0.03)\n",
    "transformer_leakage_rate = 0.00241\n",
    "# Peak flux density for the main transformer, Tesla\n",
    "# 0.15T is far below a typical saturation density for most ferrites,\n",
    "# but because in a forward converter ΔB is rather large (in comparison with flyback),\n",
    "# a lower value helps to reduce losses\n",
    "B_pk = 0.15\n",
    "\n",
    "### About the main switch ###\n",
    "switch = MOSFET(C_rss=935e-12, C_iss=10315e-12, R_ds=1.7e-3, Rt_JC=0.4, Rt_CA=61.6, T_j=175)  # IRLB3034\n",
    "# switch = switches['IRF3205']\n",
    "# Voltage driving the main switches (and powering the integrated driver if used), V\n",
    "# depends on the voltage you power your controller with.\n",
    "V_gs_sw = 12\n",
    "# Max current driving the switches, A\n",
    "I_drive_max = 0.8\n",
    "#### Thermal design parameters ####\n",
    "# Default ambient temperature, °C\n",
    "T_ambient = 25\n",
    "# Case-to-heatsink temperature resistance of the main switch (thermal paste), °C/W (set to None if not used)\n",
    "Rt_CS_sw = 0.5\n",
    "# Heatsink-to-ambient temperature resistance of the heatsink installed on the main switch, °C/W (set to None if not used)\n",
    "Rt_SA_sw = 17\n",
    "# Case-to-heatsink temperature resistance of the diodes (thermal paste), °C/W (set to None if not used)\n",
    "Rt_CS_D = 0.5\n",
    "# Heatsink-to-ambient temperature resistance of the diodes, °C/W (set to None if not used)\n",
    "Rt_SA_D = 17\n",
    "\n",
    "\n",
    "### Control circuit\n",
    "controller_model = 'UCx843'\n",
    "# Current tranformer core\n",
    "current_sense_core = cores['PC21/13-USSR']\n",
    "\n",
    "# Diodes used in for non-dissipative clamp (can be None)\n",
    "ndclamp_diode = diodes['SS310']"
   ]
  },
  {
   "cell_type": "code",
   "execution_count": 3,
   "metadata": {},
   "outputs": [],
   "source": [
    "import math\n",
    "# Some convenient conversions\n",
    "if V_in_type == 'AC':\n",
    "    V_in_min = V_in_range[0] * math.sqrt(2)\n",
    "    V_in_max = V_in_range[1] * math.sqrt(2)\n",
    "else:\n",
    "    V_in_min, V_in_max = V_in_range\n",
    "P_out = [o.I * o.V for o in out]\n",
    "P_out_sum = sum(P_out)\n",
    "P_in = P_out_sum / efficiency\n",
    "\n",
    "# Some safety checks\n",
    "assert controller_model in ('UCx842', 'UCx843', 'UCx844', 'UCx845'), \"Unsupported model of the controller\"\n",
    "assert D_max_desired < 0.5, \"Duty cycle should not exceed 50%\"\n",
    "for o in out:\n",
    "    assert o.rectifier == 'half-wave', \"Only half-wave rectifier can be chosen for a forward converter\""
   ]
  },
  {
   "cell_type": "code",
   "execution_count": 4,
   "metadata": {},
   "outputs": [],
   "source": [
    "from edcalc.format import (format_value, format_C, format_R, format_F, format_V, format_I,\n",
    "                           format_L, format_W, block_of_values, format_flux_density,\n",
    "                           warning_message, format_value_with_warning)\n",
    "from edcalc.eseries import nearest_e12, nearest_e24, find_esum, find_precise_voltage_divider\n",
    "from edcalc.smps import coil_selection"
   ]
  },
  {
   "cell_type": "markdown",
   "metadata": {},
   "source": [
    "## Input-output"
   ]
  },
  {
   "cell_type": "code",
   "execution_count": 5,
   "metadata": {},
   "outputs": [
    {
     "name": "stdout",
     "output_type": "stream",
     "text": [
      "Input power (with 90.0% efficiency): 266.67W\n",
      "Output power: 240.0W\n"
     ]
    }
   ],
   "source": [
    "print(f'Input power (with {efficiency*100}% efficiency): {format_W(P_in)}')\n",
    "print('Output power:', format_W(P_out_sum))"
   ]
  },
  {
   "cell_type": "markdown",
   "metadata": {},
   "source": [
    "## UC3846 oscillator\n",
    "\n",
    "these calculations are based on [this datasheet on UC3846 from TI](http://www.ti.com/lit/ds/symlink/uc3846.pdf). By setting deadtime to be $ T_d = {1 - D_{max} \\over F_{sw}} $ we can derive both time-setting resistor and capacitor."
   ]
  },
  {
   "cell_type": "code",
   "execution_count": 6,
   "metadata": {},
   "outputs": [
    {
     "data": {
      "text/markdown": [
       "<table><tr><td>Oscillator network R</td><td>560.0Ω</td></tr>\n",
       "<tr><td>Actual D_max is going to be</td><td>0.3402</td></tr>\n",
       "<tr><td>Oscillator network C</td><td>10.0nF || 1.2nF</td></tr>\n",
       "<tr><td>The actual frequency with the components selected</td><td>99.23kHz</td></tr></table>"
      ],
      "text/plain": [
       "<IPython.core.display.Markdown object>"
      ]
     },
     "metadata": {},
     "output_type": "display_data"
    }
   ],
   "source": [
    "class UC3843_RC:\n",
    "    V_valley = 1.2\n",
    "    V_peak = 2.8\n",
    "    V_ref = 5\n",
    "    I_disch = 8.3e-3\n",
    "    \n",
    "    @classmethod\n",
    "    def rt(cls, D_max):\n",
    "        \"\"\"\n",
    "        Calculates the value of the timing resistor Rt which determines maximum duty cycle.\n",
    "        \"\"\"\n",
    "        B = (cls.V_valley - cls.V_ref) / (cls.V_peak - cls.V_ref)\n",
    "        B1 = B**(1/D_max - 1)\n",
    "        R_t = (cls.V_peak + cls.V_ref * (B1 - 1) - B1 * cls.V_valley) / (cls.I_disch * (B1 - 1))\n",
    "        assert R_t > 542\n",
    "        return R_t\n",
    "\n",
    "    @classmethod\n",
    "    def max_duty_cycle(cls, R_t):\n",
    "        \"\"\"\n",
    "        Calculates the maximum duty cycle based on the value of the timing resistor.\n",
    "        \"\"\"\n",
    "        assert R_t > 542\n",
    "        block = (cls.V_valley - cls.V_ref) / (cls.V_peak - cls.V_ref)\n",
    "        D_max = (\n",
    "            math.log(block) /\n",
    "            math.log(block * (R_t * cls.I_disch + cls.V_peak - cls.V_ref) /\n",
    "                     (R_t * cls.I_disch + cls.V_valley - cls.V_ref)))\n",
    "        return D_max\n",
    "\n",
    "    @classmethod\n",
    "    def ct(cls, F_sw, R_t):\n",
    "        block = (cls.V_valley - cls.V_ref) / (cls.V_peak - cls.V_ref)\n",
    "        return 1 / (R_t * F_sw * math.log(block * (R_t * cls.I_disch + cls.V_peak - cls.V_ref) /\n",
    "                    (R_t * cls.I_disch + cls.V_valley - cls.V_ref)))\n",
    "    \n",
    "    @classmethod\n",
    "    def freq(cls, R_t, C_t):\n",
    "        block = (cls.V_valley - cls.V_ref) / (cls.V_peak - cls.V_ref)\n",
    "        return 1 / (R_t * C_t * math.log(block * (R_t * cls.I_disch + cls.V_peak - cls.V_ref) /\n",
    "                    (R_t * cls.I_disch + cls.V_valley - cls.V_ref)))\n",
    "\n",
    "if controller_model in ('UCx844', 'UCx845'):\n",
    "    # these controllers skip every other cycle to make sure duty cycle is limited to 50%,\n",
    "    # so their oscillator should work at double the switching frequency\n",
    "    R_osc = nearest_e24(UC3843_RC.rt(2 * D_max_desired))\n",
    "    C_osc_target = UC3843_RC.ct(2 * F_sw_desired, R_osc)\n",
    "    C_osc_parts = find_esum(C_osc_target)\n",
    "    C_osc = sum(C_osc_parts)\n",
    "    D_max = UC3843_RC.max_duty_cycle(R_osc) / 2\n",
    "    F_sw = UC3843_RC.freq(R_osc, C_osc) / 2\n",
    "else:\n",
    "    # These controllers do not skip cycles\n",
    "    R_osc = nearest_e24(UC3843_RC.rt(D_max_desired))\n",
    "    C_osc_target = UC3843_RC.ct(F_sw_desired, R_osc)\n",
    "    C_osc_parts = find_esum(C_osc_target)\n",
    "    C_osc = sum(C_osc_parts)\n",
    "    D_max = UC3843_RC.max_duty_cycle(R_osc)\n",
    "    F_sw = UC3843_RC.freq(R_osc, C_osc)\n",
    "\n",
    "display(block_of_values(\n",
    "    ('Oscillator network R', format_R(R_osc)),\n",
    "    ('Actual D_max is going to be', f'{round(D_max, 4)}'),\n",
    "    ('Oscillator network C', ' || '.join(format_C(c) for c in C_osc_parts)),\n",
    "    ('The actual frequency with the components selected', format_value(F_sw, 'Hz')),\n",
    "))"
   ]
  },
  {
   "cell_type": "markdown",
   "metadata": {},
   "source": [
    "### Primary winding RMS and flat-topped peak currents\n",
    "\n",
    "based on A. Pressman:\n",
    "> Current drawn from the DC input source... has ... ramp-on-a-step waveshape...\n",
    "> To simplify calculation, the pulses in the figure are\n",
    "> assumed to have an equivalent flat-topped waveshape whose amplitude\n",
    "> $I_{pft}$ is the value of the current at the center of the ramp."
   ]
  },
  {
   "cell_type": "code",
   "execution_count": 7,
   "metadata": {},
   "outputs": [
    {
     "data": {
      "text/markdown": [
       "<table><tr><td>Flat-topped peak current of the primary winding</td><td>78.39A</td></tr>\n",
       "<tr><td>RMS current of the primary winding</td><td>45.72A</td></tr></table>"
      ],
      "text/plain": [
       "<IPython.core.display.Markdown object>"
      ]
     },
     "metadata": {},
     "output_type": "display_data"
    }
   ],
   "source": [
    "I_pft = P_out_sum / (efficiency * V_in_min * D_max)\n",
    "I_pri_rms = I_pft * math.sqrt(D_max)\n",
    "\n",
    "display(block_of_values(\n",
    "    (f'Flat-topped peak current of the primary winding', format_I(I_pft)),\n",
    "    (f'RMS current of the primary winding', format_I(I_pri_rms)),\n",
    "))"
   ]
  },
  {
   "cell_type": "markdown",
   "metadata": {},
   "source": [
    "## The main transformer"
   ]
  },
  {
   "cell_type": "code",
   "execution_count": 8,
   "metadata": {},
   "outputs": [
    {
     "data": {
      "text/markdown": [
       "<table><tr><td>Minimum duty cycle $D_{min}$</td><td>0.25</td></tr>\n",
       "<tr><td>Maximum possible flux density at $V_{inMAX}$ (assuming $D_{max}$ is limited by the timing circuit!)</td><td>128.79mT, which is OK</td></tr></table>"
      ],
      "text/plain": [
       "<IPython.core.display.Markdown object>"
      ]
     },
     "metadata": {},
     "output_type": "display_data"
    }
   ],
   "source": [
    "# In theory, we can use V_in_min while calculating the number of primary turns at D_max.\n",
    "# However there is a possibility that during the startup time the converter\n",
    "# will fail to adjust its duty cycle quickly enough to avoid saturation.\n",
    "# So we're planning for the worst case scenario, which is V_in_max at D_max.\n",
    "N_p = math.ceil(V_in_max * D_max / (F_sw * B_pk * core.A_e_mks))\n",
    "L_p = core.A_L_mks * N_p**2\n",
    "secondary_turns = [math.ceil(N_p * (o.V/D_max + o.full_diode_drop()) / (V_in_min - I_pft * switch.R_ds)) for o in out]\n",
    "L_secondary = [core.A_L_mks * ns**2 for ns in secondary_turns]\n",
    "turns_ratios = [N_p / t for t in secondary_turns]\n",
    "D_min = (out[0].V + out[0].full_diode_drop()) * turns_ratios[0] / V_in_max\n",
    "dB_pk = V_in_max * D_max / (F_sw * N_p * core.A_e_mks)\n",
    "display(block_of_values(\n",
    "    ('Minimum duty cycle $D_{min}$', f'{round(D_min, 2)}'),\n",
    "    ('Maximum possible flux density at $V_{inMAX}$ (assuming $D_{max}$ is limited by the timing circuit!)', format_flux_density(dB_pk, core.B_sat)),\n",
    "))"
   ]
  },
  {
   "cell_type": "code",
   "execution_count": 9,
   "metadata": {},
   "outputs": [
    {
     "data": {
      "text/markdown": [
       "\n",
       "### Primary and reset windings (each 2 turns, 14.0uH)\n"
      ],
      "text/plain": [
       "<IPython.core.display.Markdown object>"
      ]
     },
     "metadata": {},
     "output_type": "display_data"
    },
    {
     "data": {
      "text/markdown": [
       "With the RMS current of 45.72A and max current density of 5 $A/mm^2$, we need at least 9.14 $mm^2$ of cross-sectional copper area available for it. \n",
       "\n",
       "Thus the optimum wire dia is: 0.42 $ mm $ (0.14 $mm^2$ each strand)\n",
       "\n",
       "| wire Ø    | copper Ø  | fully utilized | strands | copper total  | 2 turns occupy |\n",
       "|-----------|-----------|----------------|---------|---------------|----------------|\n",
       "| 0.1 $mm$  | 0.1 $mm$  | OK             | 1165    | 9.1499 $mm^2$ | 28%            |\n",
       "| 0.25 $mm$ | 0.25 $mm$ | OK             | 187     | 9.1793 $mm^2$ | 28%            |\n",
       "| 0.35 $mm$ | 0.35 $mm$ | OK             | 96      | 9.2363 $mm^2$ | 28%            |\n",
       "| 0.45 $mm$ | 0.45 $mm$ | TOO THICK      | 58      | 9.1826 $mm^2$ | 28%            |"
      ],
      "text/plain": [
       "CoilSelectionInfo(frequency=99234.328881454, turns=2, rms_current=45.72169162329375, current_density=5, skin_depth=0.20983140616625848, required_copper_area=9.14433832465875, optimal_strand_dia=0.41966281233251695, optimal_strand_area=0.13832187099676527, choices=[CoilChoice(wire_dia=0.1, is_too_thick=False, copper_dia=0.1, strands=1165, total_copper_area=9.149888603580273, winding_area_fill=28), CoilChoice(wire_dia=0.25, is_too_thick=False, copper_dia=0.25, strands=187, total_copper_area=9.179341034707678, winding_area_fill=28), CoilChoice(wire_dia=0.35, is_too_thick=False, copper_dia=0.35, strands=96, total_copper_area=9.23628240155399, winding_area_fill=28), CoilChoice(wire_dia=0.45, is_too_thick=True, copper_dia=0.45, strands=58, total_copper_area=9.182576869310722, winding_area_fill=28)])"
      ]
     },
     "metadata": {},
     "output_type": "display_data"
    },
    {
     "data": {
      "text/markdown": [
       "\n",
       "### Secondary winding #1 (13 turns, 591.5uH)\n"
      ],
      "text/plain": [
       "<IPython.core.display.Markdown object>"
      ]
     },
     "metadata": {},
     "output_type": "display_data"
    },
    {
     "data": {
      "text/markdown": [
       "With the RMS current of 12.0A and max current density of 5 $A/mm^2$, we need at least 2.4 $mm^2$ of cross-sectional copper area available for it. \n",
       "\n",
       "Thus the optimum wire dia is: 0.42 $ mm $ (0.14 $mm^2$ each strand)\n",
       "\n",
       "| wire Ø    | copper Ø  | fully utilized | strands | copper total  | 13 turns occupy |\n",
       "|-----------|-----------|----------------|---------|---------------|-----------------|\n",
       "| 0.1 $mm$  | 0.1 $mm$  | OK             | 306     | 2.4033 $mm^2$ | 48%             |\n",
       "| 0.25 $mm$ | 0.25 $mm$ | OK             | 49      | 2.4053 $mm^2$ | 48%             |\n",
       "| 0.35 $mm$ | 0.35 $mm$ | OK             | 25      | 2.4053 $mm^2$ | 48%             |\n",
       "| 0.45 $mm$ | 0.45 $mm$ | TOO THICK      | 16      | 2.5331 $mm^2$ | 51%             |"
      ],
      "text/plain": [
       "CoilSelectionInfo(frequency=99234.328881454, turns=13, rms_current=12, current_density=5, skin_depth=0.20983140616625848, required_copper_area=2.4, optimal_strand_dia=0.41966281233251695, optimal_strand_area=0.13832187099676527, choices=[CoilChoice(wire_dia=0.1, is_too_thick=False, copper_dia=0.1, strands=306, total_copper_area=2.403318379996192, winding_area_fill=48), CoilChoice(wire_dia=0.25, is_too_thick=False, copper_dia=0.25, strands=49, total_copper_area=2.405281875404685, winding_area_fill=48), CoilChoice(wire_dia=0.35, is_too_thick=False, copper_dia=0.35, strands=25, total_copper_area=2.4052818754046847, winding_area_fill=48), CoilChoice(wire_dia=0.45, is_too_thick=True, copper_dia=0.45, strands=16, total_copper_area=2.533124653602958, winding_area_fill=51)])"
      ]
     },
     "metadata": {},
     "output_type": "display_data"
    }
   ],
   "source": [
    "display(Markdown(f\"\\n### Primary and reset windings (each {N_p} turns, {format_L(L_p)})\\n\"))\n",
    "display(coil_selection(F_sw, I_pri_rms, wires_dia, I_density, N_p, winding_area=core.W_a))\n",
    "\n",
    "for i, o in enumerate(out):\n",
    "    display(Markdown(f\"\\n### Secondary winding #{i + 1} ({'2 X ' if o.is_center_tapped else ''}\"\n",
    "          f\"{secondary_turns[i]} turns, {format_L(L_secondary[i])})\\n\"))\n",
    "    display(coil_selection(F_sw, out[i].I, wires_dia, I_density, secondary_turns[i], winding_area=core.W_a))"
   ]
  },
  {
   "cell_type": "markdown",
   "metadata": {},
   "source": [
    "## DC input capacitor"
   ]
  },
  {
   "cell_type": "code",
   "execution_count": 10,
   "metadata": {},
   "outputs": [
    {
     "data": {
      "text/markdown": [
       "<table><tr><td>Minimum recommended input capacitor</td><td>560.0uF</td></tr>\n",
       "<tr><td>Recommended ESR</td><td>6.38mΩ</td></tr>\n",
       "<tr><td>Minimum voltage rating of the capacitor</td><td>15.6V</td></tr></table>"
      ],
      "text/plain": [
       "<IPython.core.display.Markdown object>"
      ]
     },
     "metadata": {},
     "output_type": "display_data"
    }
   ],
   "source": [
    "C_in = nearest_e12(I_pft * D_max / (F_sw * V_in_min * V_in_ripple), 'higher')\n",
    "ESR_C_in = V_in_min * V_in_ripple / I_pft\n",
    "display(block_of_values(\n",
    "    ('Minimum recommended input capacitor', format_C(C_in)),\n",
    "    ('Recommended ESR', format_R(ESR_C_in)),\n",
    "    ('Minimum voltage rating of the capacitor', format_V(1.2 * V_in_max))\n",
    "))"
   ]
  },
  {
   "cell_type": "markdown",
   "metadata": {},
   "source": [
    "## Non-dissipative clamping and recovery with the reset winding\n",
    "\n",
    "Each time the switches stops conducting, a huge voltage spike occurs at its drain. This is due to the leakage (uncoupled) inductance of the main transformer, which tries to keep the current flowing and thus raises the voltage across its ends. Left ignored, such spikes can destroy the switch.\n",
    "\n",
    "[\"Nondissipative Clamping Benefits DC-DC Converters\" by By Viktor D. Vogman](https://www.powerelectronics.com/content/article/21857520/nondissipative-clamping-benefits-dcdc-converters) ([pdf version](static/papers/non-dissipative-clamping.pdf)) describes an effective method of clamping those spikes and recovering their energy."
   ]
  },
  {
   "cell_type": "code",
   "execution_count": 11,
   "metadata": {},
   "outputs": [
    {
     "data": {
      "text/markdown": [
       "<table><tr><td>Minimum $C_S$</td><td>110.0uF</td></tr>\n",
       "<tr><td>RMS current of the recovery winding</td><td>12.89A</td></tr>\n",
       "<tr><td>Resonant frequency (must be $<< F_{sw}$)</td><td>3.03uHz</td></tr>\n",
       "<tr><td>Max drain-source voltage:</td><td>26.0V</td></tr>\n",
       "<tr><td>$D_S$ reverse voltage</td><td>26.0V</td></tr>\n",
       "<tr><td>$D_S$ peak current</td><td>78.39A</td></tr>\n",
       "<tr><td>$D_S$ RMS current</td><td>5.47A</td></tr>\n",
       "<tr><td>$D_S$ average current</td><td>571.55mA</td></tr></table>"
      ],
      "text/plain": [
       "<IPython.core.display.Markdown object>"
      ]
     },
     "metadata": {},
     "output_type": "display_data"
    },
    {
     "data": {
      "text/markdown": [
       "#### Working conditions of the diode"
      ],
      "text/plain": [
       "<IPython.core.display.Markdown object>"
      ]
     },
     "metadata": {},
     "output_type": "display_data"
    },
    {
     "data": {
      "text/markdown": [
       "<table><tr><td>Diodes connected in parallel</td><td>1</td></tr>\n",
       "<tr><td>Max reverse voltage on each of the diodes</td><td>26.0V, which is OK</td></tr>\n",
       "<tr><td>Peak current through each diode</td><td>78.39A, which is OK</td></tr>\n",
       "<tr><td>Average current per diode</td><td>571.55mA, which is OK</td></tr>\n",
       "<tr><td>Power being dissipated, per component</td><td>485.82mW</td></tr>\n",
       "<tr><td>Junction temperature without a heatsink</td><td>61.44°C, which is OK</td></tr>\n",
       "<tr><td>Junction temperature with the heatsink</td><td>43.22°C, which is OK</td></tr></table>"
      ],
      "text/plain": [
       "<IPython.core.display.Markdown object>"
      ]
     },
     "metadata": {},
     "output_type": "display_data"
    }
   ],
   "source": [
    "clamp2_components, clamp2_info = edcalc.smps.non_dissipative_coupled_clamp(\n",
    "    V_in_min, V_in_max, I_pri_pk=I_pft, L_leakage=L_p * transformer_leakage_rate, T_clamp_on=D_min/F_sw, T_clamp_off=(2 - D_min) / F_sw, V_ripple=0.01)\n",
    "display(block_of_values(*clamp2_info))\n",
    "\n",
    "if ndclamp_diode is not None:\n",
    "    display(Markdown('#### Working conditions of the diode'))\n",
    "    display(block_of_values(\n",
    "        *ndclamp_diode.check_conditions(\n",
    "            V_max=clamp2_components.V_D,\n",
    "            I_pk=clamp2_components.I_D_pk,\n",
    "            I_avg=clamp2_components.I_D_avg),\n",
    "        *ndclamp_diode.thermal_analysis(clamp2_components.I_D_avg, Rt_CS=Rt_CS_D, Rt_SA=Rt_SA_D)\n",
    "    ))"
   ]
  },
  {
   "cell_type": "markdown",
   "metadata": {},
   "source": [
    "## Main switches"
   ]
  },
  {
   "cell_type": "code",
   "execution_count": 12,
   "metadata": {},
   "outputs": [
    {
     "data": {
      "text/markdown": [
       "<table><tr><td>Power being dissipated, per component</td><td>3.55W</td></tr>\n",
       "<tr><td>Junction temperature without a heatsink</td><td>245.34°C <span style=\"font-weight:bold; color: #ff0000;\">WARNING:</span> <span style=\"font-weight:bold;\">Too hot (>= 175.0°C)!</span></td></tr>\n",
       "<tr><td>Junction temperature with the heatsink</td><td>88.61°C, which is OK</td></tr>\n",
       "<tr><td>Gate resistors:</td><td>15.0Ω</td></tr>\n",
       "<tr><td>Rise time</td><td>169.92ns</td></tr>\n",
       "<tr><td>Max drain-source voltage:</td><td>depends on the clamp/snubber chosen</td></tr>\n",
       "<tr><td>RMS current</td><td>45.72A</td></tr>\n",
       "<tr><td>Peak current</td><td>78.39A</td></tr>\n",
       "<tr><td>Switching losses</td><td>80.94mW</td></tr></table>"
      ],
      "text/plain": [
       "<IPython.core.display.Markdown object>"
      ]
     },
     "metadata": {},
     "output_type": "display_data"
    }
   ],
   "source": [
    "# Thermal analysis\n",
    "T_rise = switch.gate_drive_charge(V_in_max, V_gs_sw) / I_drive_max\n",
    "R_gate_sw = V_gs_sw / I_drive_max\n",
    "\n",
    "display(block_of_values(\n",
    "    *switch.thermal_analysis(I_pri_rms, Rt_CS_sw, Rt_SA_sw),\n",
    "    (f'Gate resistors:', format_R(R_gate_sw)),\n",
    "    (f'Rise time', format_value(T_rise, 's')),\n",
    "    ('Max drain-source voltage:', 'depends on the clamp/snubber chosen'),\n",
    "    (f'RMS current', format_I(I_pri_rms)),\n",
    "    (f'Peak current', format_I(I_pft)),\n",
    "    (f'Switching losses', format_W(switch.gate_drive_charge(V_in_max, V_gs_sw) * V_gs_sw * F_sw/2))\n",
    "))"
   ]
  },
  {
   "cell_type": "markdown",
   "metadata": {},
   "source": [
    "## Output filters\n",
    "\n",
    "Please, note that according to A. Pressman:\n",
    "\n",
    "> The output capacitor Co is selected to meet the maximum output ripple\n",
    "voltage specification. In Section 1.3.7 it was shown that the output\n",
    "ripple is determined almost completely by the magnitude of the ESR\n",
    "(equivalent series resistance, Ro ) in the filter capacitor and not by the\n",
    "magnitude of the capacitor itself.\n",
    "\n",
    "The theory is covered in [\"Understanding Buck Power Stages\"](static/papers/slva057-buck-power-stages.pdf)\n",
    "by Everett Rogers\n",
    "and in [Analog Circuit Design Volume 2: Immersion in the Black Art of Analog Design](https://books.google.ru/books?id=H9rAU4Rf--YC&lpg=PA108&pg=PA108#v=onepage&q&f=false)\n",
    "by Bob Dobkin and Jim Williams."
   ]
  },
  {
   "cell_type": "code",
   "execution_count": 13,
   "metadata": {},
   "outputs": [
    {
     "data": {
      "text/markdown": [
       "\n",
       "###  Output #1: ###\n"
      ],
      "text/plain": [
       "<IPython.core.display.Markdown object>"
      ]
     },
     "metadata": {},
     "output_type": "display_data"
    },
    {
     "data": {
      "text/markdown": [
       "<table><tr><td>Output voltage</td><td>20.0V</td></tr>\n",
       "<tr><td>Output current</td><td>12.0A</td></tr>\n",
       "<tr><td>Output voltage ripple (0.1%)</td><td>20.0mV</td></tr>\n",
       "<tr><td>Output inductor</td><td>34.3uH, 19 turns</td></tr>\n",
       "<tr><td>Inductor mode</td><td>continuous</td></tr>\n",
       "<tr><td>Inductor's peak flux density</td><td>889.92mT, which is OK</td></tr>\n",
       "<tr><td>Inductor's peak current:</td><td>39.69A</td></tr>\n",
       "<tr><td>$r = \\Delta I / I_L$ at $V_{inmin}$</td><td>0.37</td></tr>\n",
       "<tr><td>$r = \\Delta I / I_L$ at $V_{inmax}$</td><td>0.38</td></tr>\n",
       "<tr><td>Recommended minimum capacitor:</td><td>290.65uF</td></tr>\n",
       "<tr><td>Max ESR of this capacitor should be</td><td>4.33mΩ</td></tr>\n",
       "<tr><td>Output capacitor RMS current</td><td>1.33A</td></tr>\n",
       "<tr><td>Such capacitor will dissipate</td><td>7.69mW</td></tr></table>"
      ],
      "text/plain": [
       "<IPython.core.display.Markdown object>"
      ]
     },
     "metadata": {},
     "output_type": "display_data"
    },
    {
     "data": {
      "text/markdown": [
       "### The winding"
      ],
      "text/plain": [
       "<IPython.core.display.Markdown object>"
      ]
     },
     "metadata": {},
     "output_type": "display_data"
    },
    {
     "data": {
      "text/markdown": [
       "With the RMS current of 12.0A and max current density of 5 $A/mm^2$, we need at least 2.4 $mm^2$ of cross-sectional copper area available for it. \n",
       "\n",
       "Thus the optimum wire dia is: 0.42 $ mm $ (0.14 $mm^2$ each strand)\n",
       "\n",
       "| wire Ø    | copper Ø  | fully utilized | strands | copper total  | 19 turns occupy |\n",
       "|-----------|-----------|----------------|---------|---------------|-----------------|\n",
       "| 0.1 $mm$  | 0.1 $mm$  | OK             | 306     | 2.4033 $mm^2$ |                 |\n",
       "| 0.25 $mm$ | 0.25 $mm$ | OK             | 49      | 2.4053 $mm^2$ |                 |\n",
       "| 0.35 $mm$ | 0.35 $mm$ | OK             | 25      | 2.4053 $mm^2$ |                 |\n",
       "| 0.45 $mm$ | 0.45 $mm$ | TOO THICK      | 16      | 2.5331 $mm^2$ |                 |"
      ],
      "text/plain": [
       "CoilSelectionInfo(frequency=99234.328881454, turns=19, rms_current=12, current_density=5, skin_depth=0.20983140616625848, required_copper_area=2.4, optimal_strand_dia=0.41966281233251695, optimal_strand_area=0.13832187099676527, choices=[CoilChoice(wire_dia=0.1, is_too_thick=False, copper_dia=0.1, strands=306, total_copper_area=2.403318379996192, winding_area_fill=None), CoilChoice(wire_dia=0.25, is_too_thick=False, copper_dia=0.25, strands=49, total_copper_area=2.405281875404685, winding_area_fill=None), CoilChoice(wire_dia=0.35, is_too_thick=False, copper_dia=0.35, strands=25, total_copper_area=2.4052818754046847, winding_area_fill=None), CoilChoice(wire_dia=0.45, is_too_thick=True, copper_dia=0.45, strands=16, total_copper_area=2.533124653602958, winding_area_fill=None)])"
      ]
     },
     "metadata": {},
     "output_type": "display_data"
    }
   ],
   "source": [
    "out_info, L_out, C_out, ESR_C_out = [], [], [], []\n",
    "for i, o in enumerate(out):\n",
    "    display(Markdown(f'\\n###  Output #{i+1}: ###\\n'))\n",
    "    V_s_in_min = V_in_min / turns_ratios[i] - o.full_diode_drop()\n",
    "    V_s_in_max = V_in_max / turns_ratios[i] - o.full_diode_drop()\n",
    "    output_suggestions, extra_info = edcalc.smps.buck_output_params(\n",
    "        F_sw, V_s_in_min, V_s_in_max, D_min, D_max, o.V, o.I, ripple, o.filter_core, o.C_ripple)\n",
    "    display(block_of_values(*extra_info))\n",
    "    display(Markdown('### The winding'))\n",
    "    display(coil_selection(F_sw, o.I, wires_dia, I_density, output_suggestions.N))\n",
    "    out_info.append(output_suggestions)\n",
    "    L_out.append(output_suggestions.L)\n",
    "    C_out.append(output_suggestions.C if o.C is None else o.C)\n",
    "    ESR_C_out.append(output_suggestions.ESR if o.ESR is None else o.ESR)"
   ]
  },
  {
   "cell_type": "markdown",
   "metadata": {},
   "source": [
    "## Output rectifiers\n",
    "\n",
    "**WARNING**: Please, note that the maximum voltage here assumes 100% ideal transformer. The real voltage might be about 30% higher due to the ringing caused by the leakage inductance."
   ]
  },
  {
   "cell_type": "code",
   "execution_count": 14,
   "metadata": {},
   "outputs": [
    {
     "data": {
      "text/markdown": [
       "\n",
       "### Output #1 (half-wave rectifier) ###"
      ],
      "text/plain": [
       "<IPython.core.display.Markdown object>"
      ]
     },
     "metadata": {},
     "output_type": "display_data"
    },
    {
     "data": {
      "text/markdown": [
       "<table><tr><td>Diodes connected in parallel</td><td>2</td></tr>\n",
       "<tr><td>Max reverse voltage on each of the diodes</td><td>83.65V, which is OK</td></tr>\n",
       "<tr><td>Peak current through each diode</td><td>7.15A, which is OK</td></tr>\n",
       "<tr><td>Average current per diode</td><td>4.52A, which is OK</td></tr>\n",
       "<tr><td>Power being dissipated, per component</td><td>3.84W</td></tr>\n",
       "<tr><td>Junction temperature without a heatsink</td><td>190.19°C <span style=\"font-weight:bold; color: #ff0000;\">WARNING:</span> <span style=\"font-weight:bold;\">Too hot (>= 150.0°C)!</span></td></tr>\n",
       "<tr><td>Junction temperature with the heatsink</td><td>99.91°C, which is OK</td></tr></table>"
      ],
      "text/plain": [
       "<IPython.core.display.Markdown object>"
      ]
     },
     "metadata": {},
     "output_type": "display_data"
    }
   ],
   "source": [
    "for i, o in enumerate(out):\n",
    "    if o.rectifier is None:\n",
    "        continue\n",
    "    display(Markdown(f'\\n### Output #{i + 1} ({o.rectifier} rectifier) ###'))\n",
    "    _I_D_avg = o.diode_average_current(\n",
    "        # at any moment one of the two diodes is conducting\n",
    "        # (either the rectifying or the freewheeling one)\n",
    "        D=max(D_max, 1-D_min))\n",
    "    display(block_of_values(\n",
    "        *o.D.check_conditions(\n",
    "            V_max=o.diode_reverse_voltage(V_in_max / turns_ratios[i]),\n",
    "            I_avg=_I_D_avg,\n",
    "            I_pk=o.I * (1 + out_info[i].max_ripple / 2)),\n",
    "        *o.D.thermal_analysis(\n",
    "            _I_D_avg,\n",
    "            T_ambient=T_ambient, Rt_CS=Rt_CS_D, Rt_SA=Rt_SA_D)\n",
    "    ))"
   ]
  },
  {
   "cell_type": "markdown",
   "metadata": {},
   "source": [
    "## Output RCD clamps\n",
    "\n",
    "These clamps come into playing only when the cathode voltage of the diodes raises to a certain threshold above $V_{IN} \\times N_s/N_p$. This threshold is defined by the `burn_ratio` parameter of the clamp (5% by default), telling how much leakage inductance's energy must be turned into heat each cycle. Because energy stored in the capacitor is proportional to the square of its voltage, even if we burn out only a small part of the energy of the leakage inductance, this already substantially drops the voltage."
   ]
  },
  {
   "cell_type": "code",
   "execution_count": 15,
   "metadata": {},
   "outputs": [
    {
     "data": {
      "text/markdown": [
       "### Output #1 RCD clamp"
      ],
      "text/plain": [
       "<IPython.core.display.Markdown object>"
      ]
     },
     "metadata": {},
     "output_type": "display_data"
    },
    {
     "data": {
      "text/markdown": [
       "<table><tr><td>Leakage energy burn ratio</td><td>5.0%</td></tr>\n",
       "<tr><td>Pre-inductor voltage will be clamped at</td><td>87.09V</td></tr>\n",
       "<tr><td>Minimum clamp capacitor $C_X$</td><td>2.2uF</td></tr>\n",
       "<tr><td>Maximum voltage at $C_X$</td><td>86.09V</td></tr>\n",
       "<tr><td>Clamp resistor $R_X$</td><td>5.6kΩ</td></tr>\n",
       "<tr><td>Maximum $R_X$ current</td><td>11.8mA</td></tr>\n",
       "<tr><td>Power dissipated on $R_X$</td><td>780.09mW</td></tr>\n",
       "<tr><td>Peak current through $D_X$</td><td>14.31A</td></tr>\n",
       "<tr><td>Average current through $D_X$</td><td>168.17mA</td></tr></table>"
      ],
      "text/plain": [
       "<IPython.core.display.Markdown object>"
      ]
     },
     "metadata": {},
     "output_type": "display_data"
    }
   ],
   "source": [
    "for i, o in enumerate(out):\n",
    "    display(Markdown(f'### Output #{i + 1} RCD clamp'))\n",
    "    rclamp_components, rclamp_info = edcalc.smps.buck_rectifier_clamp(\n",
    "        L_leakage=L_secondary[i] * transformer_leakage_rate,\n",
    "        I_pk=o.I * (1 + out_info[i].max_ripple/2),\n",
    "        V_in_max=V_in_max / turns_ratios[i],\n",
    "        V_ripple=0.01, V_out=out[i].V, F_sw=F_sw)\n",
    "    display(block_of_values(*rclamp_info))"
   ]
  },
  {
   "cell_type": "markdown",
   "metadata": {},
   "source": [
    "## Current sensing circuit\n",
    "\n",
    "UCx8425 series isn't well suited for measuring large currents using resistors, because its current-limiting voltage is 1V (unless error amplifier's output is clamped). This requires the use of quite large values of bulky high-power sensing resistors. So here, instead, a current sense transformer is used."
   ]
  },
  {
   "cell_type": "code",
   "execution_count": 16,
   "metadata": {},
   "outputs": [
    {
     "data": {
      "image/png": "[encoded data removed]"
     },
     "metadata": {
      "image/png": {
       "height": 260,
       "width": 450
      }
     },
     "output_type": "display_data"
    },
    {
     "data": {
      "text/markdown": [
       "<table><tr><td>Primary winding turns</td><td>1</td></tr>\n",
       "<tr><td>Secondary winding turns</td><td>200</td></tr>\n",
       "<tr><td>Primary side inductance</td><td>100.0nH</td></tr>\n",
       "<tr><td>Secondary side inductance</td><td>4.0mH</td></tr>\n",
       "<tr><td>First and second burden resistors</td><td>7.5Ω</td></tr>\n",
       "<tr><td>Power dissipated by each resistor</td><td>100.0mW</td></tr>\n",
       "<tr><td>Peak magnetic flux</td><td>135.86mT, which is OK</td></tr>\n",
       "<tr><td>Peak input current</td><td>78.39A</td></tr>\n",
       "<tr><td>Peak output voltage</td><td>1.0V</td></tr>\n",
       "<tr><td>Output voltage matching RMS current</td><td>357.28mV</td></tr>\n",
       "<tr><td>Max voltage the diodes should be able to withstand</td><td>2.94V</td></tr></table>"
      ],
      "text/plain": [
       "<IPython.core.display.Markdown object>"
      ]
     },
     "metadata": {},
     "output_type": "display_data"
    }
   ],
   "source": [
    "current_transformer_network = edcalc.smps.CurrentTransformerNetwork.create(I_pft, 1, I_pri_rms, current_sense_core, secondary_turns=200, rectifier='half-wave')\n",
    "current_transformer_network.draw()\n",
    "display(current_transformer_network.markdown())"
   ]
  },
  {
   "cell_type": "markdown",
   "metadata": {},
   "source": [
    "## Feedback loop control (non-isolated)\n",
    "\n",
    "This form utilizes UC3846's own error amplifier to regulate the output voltage. It's cheap, but unless the controller is fully isolated from the MOSFETs and the input, this method can be used only for non-isolated DC-DC converters.\n"
   ]
  },
  {
   "cell_type": "code",
   "execution_count": 17,
   "metadata": {},
   "outputs": [
    {
     "data": {
      "image/png": "[encoded data removed]"
     },
     "metadata": {
      "image/png": {
       "height": 550,
       "width": 550
      }
     },
     "output_type": "display_data"
    }
   ],
   "source": [
    "feedback = edcalc.smps.CurrentModeFeedback.buck(\n",
    "    F_sw, 1/I_pft, D_min, D_max, out[0].V, out[0].I, L_out[0], C_out[0], ESR_C_out[0], 2.5, turns_ratios[0])\n",
    "feedback.draw_circuit()"
   ]
  },
  {
   "cell_type": "code",
   "execution_count": null,
   "metadata": {},
   "outputs": [],
   "source": []
  }
 ],
 "metadata": {
  "kernelspec": {
   "display_name": "Python 3",
   "language": "python",
   "name": "python3"
  },
  "language_info": {
   "codemirror_mode": {
    "name": "ipython",
    "version": 3
   },
   "file_extension": ".py",
   "mimetype": "text/x-python",
   "name": "python",
   "nbconvert_exporter": "python",
   "pygments_lexer": "ipython3",
   "version": "3.8.1"
  }
 },
 "nbformat": 4,
 "nbformat_minor": 4
}
