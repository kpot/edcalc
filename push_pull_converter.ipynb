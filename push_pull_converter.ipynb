{
 "cells": [
  {
   "cell_type": "markdown",
   "metadata": {},
   "source": [
    "# Regulated Push-Pull Converter\n",
    "\n",
    "Due to push-pull topology being prone to flux imbalances, this design uses current-mode PWM controller [UC3846](http://www.ti.com/lit/ds/symlink/uc3846.pdf).\n",
    "\n",
    "## Push-pull topology\n",
    "\n",
    "A typical current-mode half-bridge converter looks like this:"
   ]
  },
  {
   "cell_type": "code",
   "execution_count": 1,
   "metadata": {},
   "outputs": [
    {
     "data": {
      "image/png": "[encoded data removed]",
      "text/plain": [
       "<IPython.core.display.Image object>"
      ]
     },
     "metadata": {},
     "output_type": "display_data"
    }
   ],
   "source": [
    "from IPython.display import display, Markdown, Image\n",
    "import edcalc.schematics\n",
    "display(Image(edcalc.schematics.push_pull_topology_image()))"
   ]
  },
  {
   "cell_type": "markdown",
   "metadata": {},
   "source": [
    "A push-pull converter can be viewed as an interleaved forward converter.\n",
    "Also, fundamentally it is just a buck converter with a transformer\n",
    "scaling the input voltage to a necessary level. Which means if\n",
    "you ignore the transformer, it is just a buck converter built\n",
    "around the inductor Lo. The output of the transformer can be rectified\n",
    "by either a center-tapped or a full-bridge rectifier.\n",
    "\n",
    "Some major pros and cons of the topology:\n",
    "\n",
    "Pros:\n",
    "\n",
    "* Provides all the benefits of a forward converter\n",
    "  but with smaller input and output current ripple.\n",
    "* Relatively easy to build. In most cases doesn't require any gate drivers.\n",
    "* Can handle power levels of up to 1kW.\n",
    "\n",
    "* Both full core reset and clamping leakage inductance spikes are\n",
    "  achieved without the need for extra windings or energy-dissipating\n",
    "  snubbers (although a snubber across the primary winding can still be handy).\n",
    "\n",
    "Cons:\n",
    "\n",
    "* Both switches experience theoretical voltage stress of $2 \\times V_{in}$\n",
    "  (Because when $V_{in}$ is applied to one half of the primary winding,\n",
    "  it induces the same voltage in the other half, thus doubling the voltage\n",
    "  applied to the non-conducting transistor).\n",
    "  Normally the voltage stress is more than $2 \\times V_{in}$ due to voltage\n",
    "  spikes caused by the uncoupled leakage inductance of the transformer,\n",
    "  unless dampened by a clamp or a snubber circuit.\n",
    "  Such $2 \\times V_{in}$ voltage stress makes push-pull converters less attractive for high input\n",
    "  voltages such as european 240 VAC, requiring the use of expensive switches\n",
    "  rated for 800-900V.\n",
    "* Core flux imbalances can easily occur and accumulate, eventually leading to core\n",
    "  saturation and destruction of the main switches, so mostly such supplies are build using current-mode control."
   ]
  },
  {
   "cell_type": "markdown",
   "metadata": {},
   "source": [
    "## Design parameters"
   ]
  },
  {
   "cell_type": "code",
   "execution_count": 2,
   "metadata": {},
   "outputs": [],
   "source": [
    "from edcalc.component_types import Core, MOSFET\n",
    "from edcalc.smps import OutputParams\n",
    "from edcalc.components import cores\n",
    "\n",
    "# Desired main switching frequency, Hz\n",
    "# It may later be adjusted according to the real values of the capacitors/resistors of the oscillator,\n",
    "# leading to a variable called 'F_sw'.\n",
    "# It's a combined frequency of both switches, so each switch will turn on/off with a half of this frequency.\n",
    "F_sw_desired = 250000\n",
    "\n",
    "# Input voltage type: \"AC\" or \"DC\" \n",
    "V_in_type = \"DC\"\n",
    "# Input voltage range (min, max)\n",
    "V_in_range = (10, 13)\n",
    "\n",
    "# Describe every output. The first one will be regulated.\n",
    "out = [\n",
    "    OutputParams(V=20, I=12, filter_core=cores['R33x17.8x11.1-MM52'], rectifier='center-tapped', Rt_JA_D=46, C=1000e-6, ESR=0.26),\n",
    "]\n",
    "\n",
    "# Expected efficiency\n",
    "efficiency = 0.8\n",
    "# Output inductor's ripple ratio (r = dI / I_L) in the worst conditions (when D = D_min)\n",
    "# Must be less than 2 (to remain in CCM). Ideally, around 0.3-0.5\n",
    "ripple = 0.4\n",
    "# Desired duty cycle of a single switch at minimum input voltage.\n",
    "# The actual value (calculated as 'D_max') will probably be slightly\n",
    "# different depending on the components selected for the timing circuit.\n",
    "D_max_desired = 0.8\n",
    "\n",
    "### Magnetic elements ###\n",
    "# The main transformer's core\n",
    "core = cores['ETD44/22/15-N87']\n",
    "# Current density, A/mm^2\n",
    "I_density = 5\n",
    "# Diameters of various wires available (to choose from), mm\n",
    "wires_dia = [0.1, 0.25, 0.35, 0.45]\n",
    "# Percentage the main transformer's uncoupled inductance,\n",
    "# also known as leakage inductance. Typically it is 1-3% (0.01-0.03)\n",
    "transformer_leakage_rate = 0.00241\n",
    "# Peak flux density for the main transformer, Tesla\n",
    "# 0.12T is far below a typical saturation density for most ferrites,\n",
    "# but because in push-pull ΔB is rather large (in comparison with flyback),\n",
    "# a lower value helps to reduce losses\n",
    "B_pk = 0.12\n",
    "\n",
    "### About the main switches ###\n",
    "switch = MOSFET(C_rss=211e-12, C_iss=3247e-12, R_ds=8e-3, Rt_JC=0.75, Rt_JA=62)  # IRF3205\n",
    "# Voltage driving the main switches (and powering the integrated driver if used), V\n",
    "V_gs_sw = 12\n",
    "# Max current driving the switches, A\n",
    "I_drive_max = 0.4\n",
    "#### Thermal design parameters ####\n",
    "# Default ambient temperature\n",
    "T_ambient = 25\n",
    "# Case-to-heatsink temperature resistance of the main switch (thermal paste), °C/W\n",
    "Rt_CS_sw = 0.5\n",
    "# Heatsink-to-ambient temperature resistance of the heatsink installed on the main switch, °C/W\n",
    "Rt_SA_sw = 17"
   ]
  },
  {
   "cell_type": "code",
   "execution_count": 3,
   "metadata": {},
   "outputs": [],
   "source": [
    "import math\n",
    "# Some convenient conversions\n",
    "if V_in_type == 'AC':\n",
    "    V_in_min = V_in_range[0] * math.sqrt(2)\n",
    "    V_in_max = V_in_range[1] * math.sqrt(2)\n",
    "else:\n",
    "    V_in_min, V_in_max = V_in_range\n",
    "P_out = [o.I * o.V for o in out]\n",
    "P_out_sum = sum(P_out)\n",
    "P_in = P_out_sum / efficiency"
   ]
  },
  {
   "cell_type": "code",
   "execution_count": 4,
   "metadata": {},
   "outputs": [],
   "source": [
    "from edcalc.format import format_value, format_C, format_R, format_F, format_V, format_I, format_L, format_W, block_of_values, format_flux_density\n",
    "from edcalc.eseries import nearest_e12, nearest_e24, find_esum\n",
    "from edcalc.smps import coil_selection"
   ]
  },
  {
   "cell_type": "markdown",
   "metadata": {},
   "source": [
    "## Input-output"
   ]
  },
  {
   "cell_type": "code",
   "execution_count": 5,
   "metadata": {},
   "outputs": [
    {
     "name": "stdout",
     "output_type": "stream",
     "text": [
      "Input power (with 80.0% efficiency): 300.0W\n",
      "Output power: 240.0W\n"
     ]
    }
   ],
   "source": [
    "print(f'Input power (with {efficiency*100}% efficiency): {format_W(P_in)}')\n",
    "print('Output power:', format_W(P_out_sum))"
   ]
  },
  {
   "cell_type": "markdown",
   "metadata": {},
   "source": [
    "## UC3846 oscillator\n",
    "\n",
    "these calculations are based on [this datasheet on UC3846 from TI](http://www.ti.com/lit/ds/symlink/uc3846.pdf). By setting deadtime to be $ T_d = {1 - D_{max} \\over F_{sw}} $ we can derive both time-setting resistor and capacitor."
   ]
  },
  {
   "cell_type": "code",
   "execution_count": 6,
   "metadata": {},
   "outputs": [
    {
     "data": {
      "text/markdown": [
       "<table><tr><td>Desired deadtime:</td><td>800.0ns</td></tr>\n",
       "<tr><td>Desired period:</td><td>4.0us (at 250.0kHz)</td></tr>\n",
       "<tr><td>Chain of time-setting resistors forming $R_T$</td><td>1.8kΩ + 270.0Ω</td></tr>\n",
       "<tr><td>Time-setting capacitors, connected in parallel $C_T$</td><td>3.9nF + 330.0pF</td></tr>\n",
       "<tr><td>Dead time actual:</td><td>798.51ns</td></tr>\n",
       "<tr><td>Max duty cycle:</td><td>0.7994 (please, check that the real circuit does not exceed that!)</td></tr>\n",
       "<tr><td>The actual switching frequency:</td><td>251.25kHz</td></tr></table>"
      ],
      "text/plain": [
       "<IPython.core.display.Markdown object>"
      ]
     },
     "metadata": {},
     "output_type": "display_data"
    }
   ],
   "source": [
    "def uc3846_dead_time(R_t, C_t):\n",
    "    return 145 * C_t * (7.5 / (7.5 - 3.6e3 / R_t))\n",
    "\n",
    "\n",
    "def uc3846_frequency(R_t, C_t):\n",
    "    return 2.2 / (R_t * C_t)\n",
    "\n",
    "dead_time_required = (1 - D_max_desired) / F_sw_desired\n",
    "R_t_approx = (145 * 2.2 / dead_time_required + F_sw_desired * 3.6e3 / 7.5) / F_sw_desired\n",
    "C_t_approx = dead_time_required / (145 * (7.5 / (7.5 - 3.6e3 / R_t_approx)))\n",
    "C_t_parts = find_esum(C_t_approx)\n",
    "C_t = sum(C_t_parts)\n",
    "R_t_parts = find_esum(2.2 / (F_sw_desired * C_t))\n",
    "R_t = sum(R_t_parts)\n",
    "F_sw = uc3846_frequency(R_t, C_t)\n",
    "dead_time = uc3846_dead_time(R_t, C_t)\n",
    "D_max = 1 - dead_time * F_sw\n",
    "display(block_of_values(\n",
    "    ('Desired deadtime:', format_value(dead_time_required, \"s\")),\n",
    "    ('Desired period:', f'{format_value(1 / F_sw_desired, \"s\")} (at {format_F(F_sw_desired)})'),\n",
    "    ('Chain of time-setting resistors forming $R_T$', ' + '.join([format_R(r) for r in R_t_parts])),\n",
    "    ('Time-setting capacitors, connected in parallel $C_T$', ' + '.join([format_C(r) for r in C_t_parts])),\n",
    "    ('Dead time actual:', format_value(dead_time, \"s\")),\n",
    "    ('Max duty cycle:', f'{round(D_max, 4)} (please, check that the real circuit does not exceed that!)'),\n",
    "    ('The actual switching frequency:', format_F(F_sw)),\n",
    "))"
   ]
  },
  {
   "cell_type": "markdown",
   "metadata": {},
   "source": [
    "## The main transformer"
   ]
  },
  {
   "cell_type": "code",
   "execution_count": 7,
   "metadata": {},
   "outputs": [
    {
     "data": {
      "text/markdown": [
       "<table><tr><td>Minimum duty cycle $D_{min}$</td><td>0.65</td></tr>\n",
       "<tr><td>Maximum possible flux density at $V_{inMAX}$ (assuming $D_{max}$ is limited by the timing circuit!)</td><td>119.54mT, which is OK</td></tr></table>"
      ],
      "text/plain": [
       "<IPython.core.display.Markdown object>"
      ]
     },
     "metadata": {},
     "output_type": "display_data"
    }
   ],
   "source": [
    "# Each half of the primary winding conducts at a lower frequency (F_sw / 2)\n",
    "# and so the duty cycle for it must be recalculated with respect to that frequency\n",
    "D_max_halfw = D_max / 2\n",
    "\n",
    "# The magnetic flux swings from -Bsat/2 to +Bsat/2\n",
    "# In theory, we can use V_in_min while calculating the number of primary turns.\n",
    "# However there is a possibility that during the startup time the converter\n",
    "# will fail to adjust its duty cycle quickly enough to avoid saturation.\n",
    "# So we're planning for the worst case scenario, which is V_in_max at D_max.\n",
    "N_p = math.ceil(V_in_max * D_max / (F_sw * B_pk * core.A_e_mks))\n",
    "L_p = core.A_L_mks * N_p**2\n",
    "secondary_turns = [round(N_p * (o.V/D_max_halfw + o.full_diode_drop()) / V_in_min) for o in out]\n",
    "L_secondary = [core.A_L_mks * ns**2 for ns in secondary_turns]\n",
    "turns_ratios = [N_p / t for t in secondary_turns]\n",
    "D_min_halfw_pri = (out[0].V + out[0].full_diode_drop()) * turns_ratios[0] / V_in_max\n",
    "D_min = 2 * D_min_halfw_pri\n",
    "dB_pk = V_in_max * D_max / (F_sw * N_p * core.A_e_mks)\n",
    "display(block_of_values(\n",
    "    ('Minimum duty cycle $D_{min}$', f'{round(D_min, 2)}'),\n",
    "    ('Maximum possible flux density at $V_{inMAX}$ (assuming $D_{max}$ is limited by the timing circuit!)', format_flux_density(dB_pk, core.B_sat)),\n",
    "))"
   ]
  },
  {
   "cell_type": "markdown",
   "metadata": {},
   "source": [
    "### Primary winding RMS and flat-topped peak currents\n",
    "\n",
    "based on A. Pressman:\n",
    "> Current drawn from the DC input source... has ... ramp-on-a-step waveshape...\n",
    "> To simplify calculation, the pulses in the figure are\n",
    "> assumed to have an equivalent flat-topped waveshape whose amplitude\n",
    "> $I_{pft}$ is the value of the current at the center of the ramp."
   ]
  },
  {
   "cell_type": "code",
   "execution_count": 8,
   "metadata": {},
   "outputs": [
    {
     "data": {
      "text/markdown": [
       "<table><tr><td>Flat-topped peak current entering the center of the primary winding</td><td>37.53A</td></tr>\n",
       "<tr><td>RMS current at the center of the primary winding</td><td>33.55A</td></tr>\n",
       "<tr><td>Flat-topped peak current in each half of the primary winding</td><td>75.06A</td></tr>\n",
       "<tr><td>RMS current going through each half of the primary windings</td><td>23.73A</td></tr></table>"
      ],
      "text/plain": [
       "<IPython.core.display.Markdown object>"
      ]
     },
     "metadata": {},
     "output_type": "display_data"
    }
   ],
   "source": [
    "\n",
    "I_pft = P_out_sum / (efficiency * V_in_min * D_max)\n",
    "I_pft_halfw = 2 * I_pft\n",
    "I_pri_rms = I_pft * math.sqrt(D_max)\n",
    "I_pri_rms_halfw = I_pft * math.sqrt(D_max_halfw)\n",
    "\n",
    "display(block_of_values(\n",
    "    (f'Flat-topped peak current entering the center of the primary winding', format_I(I_pft)),\n",
    "    (f'RMS current at the center of the primary winding', format_I(I_pri_rms)),\n",
    "    (f'Flat-topped peak current in each half of the primary winding', format_I(I_pft_halfw)),\n",
    "    (f'RMS current going through each half of the primary windings', format_I(I_pri_rms_halfw)),\n",
    "))"
   ]
  },
  {
   "cell_type": "code",
   "execution_count": 9,
   "metadata": {},
   "outputs": [
    {
     "data": {
      "text/markdown": [
       "\n",
       "### Primary winding (2 x 2 turns, center-tapped, 14.0uH each half)\n"
      ],
      "text/plain": [
       "<IPython.core.display.Markdown object>"
      ]
     },
     "metadata": {},
     "output_type": "display_data"
    },
    {
     "data": {
      "text/markdown": [
       "With the RMS current of 23.73A and max current density of 5 $A/mm^2$, we need at least 4.75 $mm^2$ of cross-sectional copper area available for it. \n",
       "\n",
       "Thus the optimum wire dia is: 0.26 $ mm $ (0.05 $mm^2$ each strand)\n",
       "\n",
       "| wire Ø    | copper Ø  | fully utilized | strands | copper total  | 2 turns occupy |\n",
       "|-----------|-----------|----------------|---------|---------------|----------------|\n",
       "| 0.1 $mm$  | 0.1 $mm$  | OK             | 605     | 4.7517 $mm^2$ | 15%            |\n",
       "| 0.25 $mm$ | 0.25 $mm$ | OK             | 97      | 4.7615 $mm^2$ | 15%            |\n",
       "| 0.35 $mm$ | 0.35 $mm$ | TOO THICK      | 53      | 4.7895 $mm^2$ | 16%            |\n",
       "| 0.45 $mm$ | 0.45 $mm$ | TOO THICK      | 37      | 4.8764 $mm^2$ | 18%            |"
      ],
      "text/plain": [
       "CoilSelectionInfo(frequency=251253.4119071276, turns=2, rms_current=23.726410704308392, current_density=5, skin_depth=0.13186983885807452, required_copper_area=4.745282140861678, optimal_strand_dia=0.26373967771614903, optimal_strand_area=0.0546312105129334, choices=[CoilChoice(wire_dia=0.1, is_too_thick=False, copper_dia=0.1, strands=605, total_copper_area=4.751658888554562, winding_area_fill=15), CoilChoice(wire_dia=0.25, is_too_thick=False, copper_dia=0.25, strands=97, total_copper_area=4.76147636559703, winding_area_fill=15), CoilChoice(wire_dia=0.35, is_too_thick=True, copper_dia=0.35, strands=53, total_copper_area=4.7894642729158985, winding_area_fill=16), CoilChoice(wire_dia=0.45, is_too_thick=True, copper_dia=0.45, strands=37, total_copper_area=4.8764291388483, winding_area_fill=18)])"
      ]
     },
     "metadata": {},
     "output_type": "display_data"
    },
    {
     "data": {
      "text/markdown": [
       "\n",
       "### Secondary winding #1 (2 X 10.0 turns, 350.0uH)\n"
      ],
      "text/plain": [
       "<IPython.core.display.Markdown object>"
      ]
     },
     "metadata": {},
     "output_type": "display_data"
    },
    {
     "data": {
      "text/markdown": [
       "With the RMS current of 6.0A and max current density of 5 $A/mm^2$, we need at least 1.2 $mm^2$ of cross-sectional copper area available for it. \n",
       "\n",
       "Thus the optimum wire dia is: 0.26 $ mm $ (0.05 $mm^2$ each strand)\n",
       "\n",
       "| wire Ø    | copper Ø  | fully utilized | strands | copper total  | 10.0 turns occupy |\n",
       "|-----------|-----------|----------------|---------|---------------|-------------------|\n",
       "| 0.1 $mm$  | 0.1 $mm$  | OK             | 153     | 1.2017 $mm^2$ | 19%               |\n",
       "| 0.25 $mm$ | 0.25 $mm$ | OK             | 25      | 1.2272 $mm^2$ | 19%               |\n",
       "| 0.35 $mm$ | 0.35 $mm$ | TOO THICK      | 14      | 1.2651 $mm^2$ | 21%               |\n",
       "| 0.45 $mm$ | 0.45 $mm$ | TOO THICK      | 10      | 1.318 $mm^2$  | 25%               |"
      ],
      "text/plain": [
       "CoilSelectionInfo(frequency=251253.4119071276, turns=10.0, rms_current=6.0, current_density=5, skin_depth=0.13186983885807452, required_copper_area=1.2, optimal_strand_dia=0.26373967771614903, optimal_strand_area=0.0546312105129334, choices=[CoilChoice(wire_dia=0.1, is_too_thick=False, copper_dia=0.1, strands=153, total_copper_area=1.201659189998096, winding_area_fill=19), CoilChoice(wire_dia=0.25, is_too_thick=False, copper_dia=0.25, strands=25, total_copper_area=1.227184630308513, winding_area_fill=19), CoilChoice(wire_dia=0.35, is_too_thick=True, copper_dia=0.35, strands=14, total_copper_area=1.265141506053256, winding_area_fill=21), CoilChoice(wire_dia=0.45, is_too_thick=True, copper_dia=0.45, strands=10, total_copper_area=1.3179538213103514, winding_area_fill=25)])"
      ]
     },
     "metadata": {},
     "output_type": "display_data"
    }
   ],
   "source": [
    "display(Markdown(f\"\\n### Primary winding (2 x {N_p} turns, center-tapped, {format_L(L_p)} each half)\\n\"))\n",
    "display(coil_selection(F_sw, I_pri_rms_halfw, wires_dia, I_density, N_p, winding_area=core.W_a))\n",
    "\n",
    "for i, o in enumerate(out):\n",
    "    display(Markdown(f\"\\n### Secondary winding #{i + 1} ({'2 X ' if o.is_center_tapped else ''}\"\n",
    "          f\"{secondary_turns[i]} turns, {format_L(L_secondary[i])})\\n\"))\n",
    "    display(coil_selection(F_sw, out[i].I / (2 if o.is_center_tapped else 1), wires_dia, I_density, secondary_turns[i], winding_area=core.W_a))"
   ]
  },
  {
   "cell_type": "markdown",
   "metadata": {},
   "source": [
    "## Output rectifiers"
   ]
  },
  {
   "cell_type": "code",
   "execution_count": 10,
   "metadata": {},
   "outputs": [
    {
     "data": {
      "text/markdown": [
       "\n",
       "### Output #1 (center-tapped rectifier) ###"
      ],
      "text/plain": [
       "<IPython.core.display.Markdown object>"
      ]
     },
     "metadata": {},
     "output_type": "display_data"
    },
    {
     "data": {
      "text/markdown": [
       "<table><tr><td>Max reverse voltage on each of the 2 diodes</td><td>129.0V</td></tr>\n",
       "<tr><td>Peak current through each diode</td><td>18.57A</td></tr>\n",
       "<tr><td>RMS current per diode</td><td>6.0A</td></tr>\n",
       "<tr><td>Power dissipated on each of the diodes</td><td>6.0W</td></tr>\n",
       "<tr><td>Total power loss (all diodes combined)</td><td>12.0W</td></tr>\n",
       "<tr><td>Junction temperature:</td><td>301.0°C</td></tr></table>"
      ],
      "text/plain": [
       "<IPython.core.display.Markdown object>"
      ]
     },
     "metadata": {},
     "output_type": "display_data"
    }
   ],
   "source": [
    "for i, o in enumerate(out):\n",
    "    I_D_pft = o.I / D_min\n",
    "    if o.rectifier is None:\n",
    "        continue\n",
    "    display(Markdown(f'\\n### Output #{i + 1} ({o.rectifier} rectifier) ###'))\n",
    "    if o.rectifier == 'center-tapped':\n",
    "        n_diodes = 2\n",
    "        V_R_D = 2 * V_in_max / turns_ratios[i] - o.V_D\n",
    "        I_D_rms = o.I / 2\n",
    "    elif o.rectifier == 'full-bridge':\n",
    "        n_diodes = 4\n",
    "        V_R_D = V_in_max / turns_ratios[i] - o.V_D\n",
    "        I_D_rms = o.I\n",
    "    else:\n",
    "        raise ValueError(f'Unknown rectifier {o.rectifier}')\n",
    "    P_D_out = I_D_rms * out[i].V_D\n",
    "    \n",
    "    to_print = [\n",
    "        (f'Max reverse voltage on each of the {n_diodes} diodes', format_V(V_R_D)),\n",
    "        (f'Peak current through each diode', format_I(I_D_pft)),\n",
    "        ('RMS current per diode', format_I(I_D_rms)),\n",
    "        ('Power dissipated on each of the diodes', format_value(P_D_out, \"W\")),\n",
    "        ('Total power loss (all diodes combined)', format_value(n_diodes * P_D_out, \"W\")),\n",
    "    ]\n",
    "    if o.Rt_JA_D is not None:\n",
    "        Tj_heatsink_D = T_ambient + P_D_out * o.Rt_JA_D\n",
    "        to_print.append((f'Junction temperature:', format_value(Tj_heatsink_D, \"°C\")))\n",
    "    display(block_of_values(*to_print))\n",
    "    "
   ]
  },
  {
   "cell_type": "markdown",
   "metadata": {},
   "source": [
    "## Leakage inductance energy spikes\n",
    "\n",
    "Each time one of the switches stops conducting, a huge voltage spike occurs at its drain. This is due to the leakage (uncoupled) inductance of the main transformer, which tries to keep the current flowing and thus raises the voltage across its ends. Left ignored, such spikes can destroy the switches.\n",
    "\n",
    "### Option 1: RCD snubbers\n",
    "\n",
    "These snubbers dump the parasitic energy burst into heat. They look like this (colored blue, virtual leakage inductance is red):"
   ]
  },
  {
   "cell_type": "code",
   "execution_count": 11,
   "metadata": {},
   "outputs": [
    {
     "data": {
      "image/png": "[encoded data removed]",
      "text/plain": [
       "<IPython.core.display.Image object>"
      ]
     },
     "metadata": {},
     "output_type": "display_data"
    }
   ],
   "source": [
    "import edcalc.schematics\n",
    "display(Image(edcalc.schematics.push_pull_rcd_snubber_image()))"
   ]
  },
  {
   "cell_type": "markdown",
   "metadata": {},
   "source": [
    "How they work:\n",
    "\n",
    "* each $C_{snubber}$ absorbs about a half of the turn-off current spikes caused by the leakage inductance (designed that way)\n",
    "* thus reduces transistor dissipation by slowing down drain raise time when the switch stops conducting and giving the switch more time to turn off at lower drain voltage. Important for BJT switches\n",
    "* by dampening voltage spikes keeps them from destroying the switches\n",
    "\n",
    "These calculations are based on chapter 11 from \"Switching Power Supply Design\" by A. Pressman. They are not very precise but practical enough.\n",
    "\n",
    "Capacitance is $C = {Q \\over V}$. We know that $V = 2 \\times V_{in}$, and the charge is assumed to be $Q = I * T_{fall}$. If current is set to $I = I_{peak} / 2$, then $$ C_{snubber} = {{T_{fall} {(I_{peak} / 2)}} \\over {2 V_{in}}} $$\n",
    "\n",
    "Knowing $C_{snubber}$ we can calculate the resistance needed to \"burn\" the absorbed energy when the transistor is turned on. $R_{snubber}$ and $C_{snubber}$ form an [RC-circuit](https://en.wikipedia.org/wiki/RC_circuit) with time constant $\\tau = R C$ which can be discharged to 5% of its original voltage in time equal $3 \\tau$. So, if we assume $ T_{on} = 3 \\tau = 3 R C $ we get $$ R_{snubber} = {{T_{on\\_min}} \\over {3 C_{snubber}}} = { {D_{min}} \\over {3 F_{sw} C_{snubber}}}$$"
   ]
  },
  {
   "cell_type": "code",
   "execution_count": 12,
   "metadata": {},
   "outputs": [
    {
     "data": {
      "text/markdown": [
       "<table><tr><td>Assumed $T_{fall}$  time</td><td>104.27ns</td></tr>\n",
       "<tr><td>Amplitude of the turn-off voltage spike</td><td>42.25V</td></tr>\n",
       "<tr><td>$C_{snubber}$</td><td>180.0nF</td></tr>\n",
       "<tr><td>$R_{snubber}$</td><td>4.7Ω</td></tr>\n",
       "<tr><td>Power dissipated through $R_{snubber}$ each cycle</td><td>15.29W</td></tr></table>"
      ],
      "text/plain": [
       "<IPython.core.display.Markdown object>"
      ]
     },
     "metadata": {},
     "output_type": "display_data"
    }
   ],
   "source": [
    "# Here we assume that turn-on and turn-off periods for a MOSFET are equal\n",
    "I_C_snubber = I_pft_halfw / 2\n",
    "T_fall = switch.gate_drive_charge(V_in_max, V_gs_sw) / I_drive_max\n",
    "C_snubber = nearest_e12(I_C_snubber * T_fall / (2 * V_in_min))\n",
    "R_snubber = nearest_e12(D_min / (3 * F_sw * C_snubber))\n",
    "L_p_leakage = L_p * transformer_leakage_rate\n",
    "Z_LC_snubber = math.sqrt(L_p_leakage / C_snubber)\n",
    "V_spike_sw = 2 * V_in_max + Z_LC_snubber * I_C_snubber\n",
    "E_snubber = C_snubber * (2 * V_in_max)**2 / 2\n",
    "P_snubber = E_snubber * F_sw\n",
    "display(block_of_values(\n",
    "    ('Assumed $T_{fall}$  time', format_value(T_fall, \"s\")),\n",
    "    ('Amplitude of the turn-off voltage spike', format_V(V_spike_sw)),\n",
    "    ('$C_{snubber}$', format_C(C_snubber)),\n",
    "    ('$R_{snubber}$', format_R(R_snubber)),\n",
    "    ('Power dissipated through $R_{snubber}$ each cycle', format_W(P_snubber)),\n",
    "))"
   ]
  },
  {
   "cell_type": "markdown",
   "metadata": {},
   "source": [
    "### Option 2: Isolated passive lossless clamps\n",
    "\n",
    "This clamp accumulates the energy stored in the leakage inductance and recovers it to the input of the supply. It uses two independent inductances $L_s$."
   ]
  },
  {
   "cell_type": "code",
   "execution_count": 13,
   "metadata": {},
   "outputs": [
    {
     "data": {
      "image/png": "[encoded data removed]",
      "text/plain": [
       "<IPython.core.display.Image object>"
      ]
     },
     "metadata": {},
     "output_type": "display_data"
    }
   ],
   "source": [
    "import edcalc.schematics\n",
    "display(Image(edcalc.schematics.push_pull_lossless_clamp_image()))"
   ]
  },
  {
   "cell_type": "markdown",
   "metadata": {},
   "source": [
    "The circuit works by dumping the energy of the leakage inductance into a capacitor $C_S$, which is already \"pre-charged\" to $V_{in}$. The capacitor is selected so that the energy dump doesn't raise its voltage beyound a certail limit `V_clamp_max`. Next time the transistor is conducting, it connects the capacitor to an intermediate inductance $L_S$ during the time $T_{ON}$ (which can be as long as $D_{max} / F_{sw}$). Again, the inductance of $L_S$ is selected so that the capacitor will be only partially discharged to the \"pre-charged\" voltage $V_{in}$, again. Once the transistor is off again, the inductance $L_S$ will freewheel its current into the input power line through the upper and lower diodes. At the same time, $C_S$ will absorb another energy spike, and the cycle will be repeated. Because $C_S$ stays \"pre-charged\" to at least $V_{in}$, this keeps diode $D_{SB}$ off when another side of the circuit is conducting.\n",
    "\n",
    "The calculations below are just rough estimations that seem to work well enough."
   ]
  },
  {
   "cell_type": "code",
   "execution_count": 14,
   "metadata": {},
   "outputs": [
    {
     "data": {
      "text/markdown": [
       "<table><tr><td>Peak current through the upper diode $D_{SB}$</td><td>76.2A</td></tr>\n",
       "<tr><td>RMS current through the upper diode $D_{SB}$</td><td>8.27A</td></tr>\n",
       "<tr><td>Leakage inductance</td><td>33.74nH</td></tr>\n",
       "<tr><td>Max drain-source voltage:</td><td>27.3V</td></tr>\n",
       "<tr><td>Min pre-charged voltage on $C_S$</td><td>10.0V</td></tr>\n",
       "<tr><td>Minimum $L_S$</td><td>37.71uH</td></tr>\n",
       "<tr><td>Minimum $C_S$</td><td>9.1uF</td></tr>\n",
       "<tr><td>Peak current through $C_S$</td><td>75.06A</td></tr>\n",
       "<tr><td>Power recovered by one clamps is</td><td>11.94W</td></tr>\n",
       "<tr><td>$L_s$ peak-to-peak ripple $\\Delta I$</td><td>1.14A</td></tr>\n",
       "<tr><td>$L_s$|$D_{SA}$ RMS current $I_{Ls}$</td><td>1.2A</td></tr>\n",
       "<tr><td>$L_s$|$D_{SA}$ peak current</td><td>1.69A</td></tr>\n",
       "<tr><td>Max drain-source voltage/reverse voltage across each of the diodes:</td><td>27.3V</td></tr></table>"
      ],
      "text/plain": [
       "<IPython.core.display.Markdown object>"
      ]
     },
     "metadata": {},
     "output_type": "display_data"
    }
   ],
   "source": [
    "clamp1_components, clamp1_info = edcalc.smps.non_dissipative_isolated_clamp(\n",
    "    V_in_min, V_in_max, I_pri_pk=I_pft_halfw, L_leakage=L_p * transformer_leakage_rate, T_clamp_on=D_min/F_sw, T_clamp_off=(2 - D_min) / F_sw, V_ripple=0.1)\n",
    "display(block_of_values(*clamp1_info))"
   ]
  },
  {
   "cell_type": "markdown",
   "metadata": {},
   "source": [
    "### Option 3: Nondissipative clamping through recovery reset windings\n",
    "\n",
    "This method is described in [\"Nondissipative Clamping Benefits DC-DC Converters\" by By Viktor D. Vogman](https://www.powerelectronics.com/content/article/21857520/nondissipative-clamping-benefits-dcdc-converters) ([pdf version](static/papers/non-dissipative-clamping.pdf)). Unlike the 2nd option, it uses only two diodes, eliminates the extra inductors, however requires a copy of the primary winding on the main transformer called recovery windings (with the same number of turns although a thinner wire)."
   ]
  },
  {
   "cell_type": "code",
   "execution_count": 15,
   "metadata": {},
   "outputs": [
    {
     "data": {
      "image/png": "[encoded data removed]",
      "text/plain": [
       "<IPython.core.display.Image object>"
      ]
     },
     "metadata": {},
     "output_type": "display_data"
    }
   ],
   "source": [
    "import edcalc.schematics\n",
    "display(Image(edcalc.schematics.push_pull_coupled_lossless_clamp_image(False)))"
   ]
  },
  {
   "cell_type": "markdown",
   "metadata": {},
   "source": [
    "Windings $L_{W1}$, $L_{W2}$, $L_{W3}$ and $L_{W4}$ are all wounded on the same core and in the same direction (say, upside-down as shown on the schematic) and have the same number of turns of the primary winding. The secondary windings are omitted on this diagram."
   ]
  },
  {
   "cell_type": "code",
   "execution_count": 16,
   "metadata": {},
   "outputs": [
    {
     "data": {
      "text/markdown": [
       "<table><tr><td>Minimum $C_S$</td><td>9.1uF</td></tr>\n",
       "<tr><td>RMS current of the recovery winding</td><td>17.55A</td></tr>\n",
       "<tr><td>Resonant frequency (must be $<< F_{sw}$)</td><td>870.39nHz</td></tr>\n",
       "<tr><td>Max drain-source voltage:</td><td>26.0V</td></tr>\n",
       "<tr><td>$D_S$ reverse voltage</td><td>26.0V</td></tr>\n",
       "<tr><td>$D_S$ peak current</td><td>75.06V</td></tr>\n",
       "<tr><td>$D_S$ RMS current</td><td>8.15A</td></tr></table>"
      ],
      "text/plain": [
       "<IPython.core.display.Markdown object>"
      ]
     },
     "metadata": {},
     "output_type": "display_data"
    },
    {
     "data": {
      "text/markdown": [
       "#### Extra windings 2 x 2 turns, just like the primary"
      ],
      "text/plain": [
       "<IPython.core.display.Markdown object>"
      ]
     },
     "metadata": {},
     "output_type": "display_data"
    },
    {
     "data": {
      "text/markdown": [
       "With the RMS current of 17.55A and max current density of 5 $A/mm^2$, we need at least 3.51 $mm^2$ of cross-sectional copper area available for it. \n",
       "\n",
       "Thus the optimum wire dia is: 0.26 $ mm $ (0.05 $mm^2$ each strand)\n",
       "\n",
       "| wire Ø    | copper Ø  | fully utilized | strands | copper total  | 2 turns occupy |\n",
       "|-----------|-----------|----------------|---------|---------------|----------------|\n",
       "| 0.1 $mm$  | 0.1 $mm$  | OK             | 447     | 3.5107 $mm^2$ | 11%            |\n",
       "| 0.25 $mm$ | 0.25 $mm$ | OK             | 72      | 3.5343 $mm^2$ | 11%            |\n",
       "| 0.35 $mm$ | 0.35 $mm$ | TOO THICK      | 39      | 3.5243 $mm^2$ | 12%            |\n",
       "| 0.45 $mm$ | 0.45 $mm$ | TOO THICK      | 27      | 3.5585 $mm^2$ | 14%            |"
      ],
      "text/plain": [
       "CoilSelectionInfo(frequency=251253.4119071276, turns=2, rms_current=17.55074100648358, current_density=5, skin_depth=0.13186983885807452, required_copper_area=3.5101482012967162, optimal_strand_dia=0.26373967771614903, optimal_strand_area=0.0546312105129334, choices=[CoilChoice(wire_dia=0.1, is_too_thick=False, copper_dia=0.1, strands=447, total_copper_area=3.510729790386594, winding_area_fill=11), CoilChoice(wire_dia=0.25, is_too_thick=False, copper_dia=0.25, strands=72, total_copper_area=3.5342917352885173, winding_area_fill=11), CoilChoice(wire_dia=0.35, is_too_thick=True, copper_dia=0.35, strands=39, total_copper_area=3.524322766862642, winding_area_fill=12), CoilChoice(wire_dia=0.45, is_too_thick=True, copper_dia=0.45, strands=27, total_copper_area=3.558475317537949, winding_area_fill=14)])"
      ]
     },
     "metadata": {},
     "output_type": "display_data"
    }
   ],
   "source": [
    "clamp2_components, clamp2_info = edcalc.smps.non_dissipative_coupled_clamp(\n",
    "    V_in_min, V_in_max, I_pri_pk=I_pft_halfw, L_leakage=L_p * transformer_leakage_rate, T_clamp_on=D_min/F_sw, T_clamp_off=(2 - D_min) / F_sw, V_ripple=0.1)\n",
    "display(block_of_values(*clamp2_info))\n",
    "display(Markdown(f'#### Extra windings 2 x {N_p} turns, just like the primary'))\n",
    "display(coil_selection(F_sw, clamp2_components.I_L_rec_rms, wires_dia, I_density, N_p, winding_area=core.W_a))"
   ]
  },
  {
   "cell_type": "markdown",
   "metadata": {},
   "source": [
    "## Main switches"
   ]
  },
  {
   "cell_type": "code",
   "execution_count": 17,
   "metadata": {},
   "outputs": [
    {
     "data": {
      "text/markdown": [
       "<table><tr><td>Gate resistors:</td><td>30.0Ω</td></tr>\n",
       "<tr><td>Rise time</td><td>104.27ns</td></tr>\n",
       "<tr><td>Junction temperature with the heatsink</td><td>107.19˚C</td></tr>\n",
       "<tr><td>Junction temperature without any cooling</td><td>304.22˚C</td></tr>\n",
       "<tr><td>Max drain-source voltage:</td><td>depends on the clamp/snubber chosen</td></tr>\n",
       "<tr><td>RMS current</td><td>23.73A</td></tr>\n",
       "<tr><td>Peak current</td><td>75.06A</td></tr></table>"
      ],
      "text/plain": [
       "<IPython.core.display.Markdown object>"
      ]
     },
     "metadata": {},
     "output_type": "display_data"
    }
   ],
   "source": [
    "# Thermal analysis\n",
    "T_rise = switch.gate_drive_charge(V_in_max, V_gs_sw) / I_drive_max\n",
    "P_heat_sw = switch.R_ds * I_pri_rms_halfw**2\n",
    "Tj_heatsink_sw = T_ambient + P_heat_sw * (switch.Rt_JC + Rt_CS_sw + Rt_SA_sw)\n",
    "Tj_bare_sw = T_ambient + P_heat_sw * (switch.Rt_JA)\n",
    "R_gate_sw = V_gs_sw / I_drive_max\n",
    "\n",
    "display(block_of_values(\n",
    "    (f'Gate resistors:', format_R(R_gate_sw)),\n",
    "    (f'Rise time', format_value(T_rise, 's')),\n",
    "    ('Junction temperature with the heatsink', format_value(Tj_heatsink_sw, '˚C')),\n",
    "    ('Junction temperature without any cooling', format_value(Tj_bare_sw, '˚C')),\n",
    "    ('Max drain-source voltage:', 'depends on the clamp/snubber chosen'),\n",
    "    (f'RMS current', format_I(I_pri_rms_halfw)),\n",
    "    (f'Peak current', format_I(I_pft_halfw)),\n",
    "))"
   ]
  },
  {
   "cell_type": "markdown",
   "metadata": {},
   "source": [
    "## Output filters\n",
    "\n",
    "Please, note that according to A. Pressman:\n",
    "\n",
    "> The output capacitor Co is selected to meet the maximum output ripple\n",
    "voltage specification. In Section 1.3.7 it was shown that the output\n",
    "ripple is determined almost completely by the magnitude of the ESR\n",
    "(equivalent series resistance, Ro ) in the filter capacitor and not by the\n",
    "magnitude of the capacitor itself.\n",
    "\n",
    "The theory is covered in [\"Understanding Buck Power Stages\"](static/papers/slva057-buck-power-stages.pdf)\n",
    "by Everett Rogers\n",
    "and in [Analog Circuit Design Volume 2: Immersion in the Black Art of Analog Design](https://books.google.ru/books?id=H9rAU4Rf--YC&lpg=PA108&pg=PA108#v=onepage&q&f=false)\n",
    "by Bob Dobkin and Jim Williams."
   ]
  },
  {
   "cell_type": "code",
   "execution_count": 18,
   "metadata": {},
   "outputs": [
    {
     "data": {
      "text/markdown": [
       "\n",
       "###  Output #1: ###\n"
      ],
      "text/plain": [
       "<IPython.core.display.Markdown object>"
      ]
     },
     "metadata": {},
     "output_type": "display_data"
    },
    {
     "data": {
      "text/markdown": [
       "<table><tr><td>Output voltage</td><td>20.0V</td></tr>\n",
       "<tr><td>Output current</td><td>12.0A</td></tr>\n",
       "<tr><td>Output voltage ripple (0.1%)</td><td>20.0mV</td></tr>\n",
       "<tr><td>Output inductor</td><td>18.62uH, 14 turns</td></tr>\n",
       "<tr><td>Inductor mode</td><td>continuous</td></tr>\n",
       "<tr><td>Inductor's peak flux density</td><td>248.02mT, which is OK</td></tr>\n",
       "<tr><td>Recommended minimum capacitor:</td><td>119.4uF</td></tr>\n",
       "<tr><td>Max ESR of this capacitor should be</td><td>4.17mΩ</td></tr>\n",
       "<tr><td>Output capacitor RMS current</td><td>1.39A</td></tr>\n",
       "<tr><td>Such capacitor will dissipate</td><td>8.0mW</td></tr>\n",
       "<tr><td>Desirable inductor</td><td>18.62uH, 14 turns</td></tr>\n",
       "<tr><td>Inductor's peak current:</td><td>14.4A</td></tr></table>"
      ],
      "text/plain": [
       "<IPython.core.display.Markdown object>"
      ]
     },
     "metadata": {},
     "output_type": "display_data"
    },
    {
     "data": {
      "text/markdown": [
       "### The winding"
      ],
      "text/plain": [
       "<IPython.core.display.Markdown object>"
      ]
     },
     "metadata": {},
     "output_type": "display_data"
    },
    {
     "data": {
      "text/markdown": [
       "With the RMS current of 12.0A and max current density of 5 $A/mm^2$, we need at least 2.4 $mm^2$ of cross-sectional copper area available for it. \n",
       "\n",
       "Thus the optimum wire dia is: 0.26 $ mm $ (0.05 $mm^2$ each strand)\n",
       "\n",
       "| wire Ø    | copper Ø  | fully utilized | strands | copper total  | 14 turns occupy |\n",
       "|-----------|-----------|----------------|---------|---------------|-----------------|\n",
       "| 0.1 $mm$  | 0.1 $mm$  | OK             | 306     | 2.4033 $mm^2$ |                 |\n",
       "| 0.25 $mm$ | 0.25 $mm$ | OK             | 49      | 2.4053 $mm^2$ |                 |\n",
       "| 0.35 $mm$ | 0.35 $mm$ | TOO THICK      | 27      | 2.4399 $mm^2$ |                 |\n",
       "| 0.45 $mm$ | 0.45 $mm$ | TOO THICK      | 19      | 2.5041 $mm^2$ |                 |"
      ],
      "text/plain": [
       "CoilSelectionInfo(frequency=251253.4119071276, turns=14, rms_current=12, current_density=5, skin_depth=0.13186983885807452, required_copper_area=2.4, optimal_strand_dia=0.26373967771614903, optimal_strand_area=0.0546312105129334, choices=[CoilChoice(wire_dia=0.1, is_too_thick=False, copper_dia=0.1, strands=306, total_copper_area=2.403318379996192, winding_area_fill=None), CoilChoice(wire_dia=0.25, is_too_thick=False, copper_dia=0.25, strands=49, total_copper_area=2.405281875404685, winding_area_fill=None), CoilChoice(wire_dia=0.35, is_too_thick=True, copper_dia=0.35, strands=27, total_copper_area=2.4399157616741367, winding_area_fill=None), CoilChoice(wire_dia=0.45, is_too_thick=True, copper_dia=0.45, strands=19, total_copper_area=2.5041122604896677, winding_area_fill=None)])"
      ]
     },
     "metadata": {},
     "output_type": "display_data"
    }
   ],
   "source": [
    "L_out, C_out, ESR_C_out = [], [], []\n",
    "for i, o in enumerate(out):\n",
    "    display(Markdown(f'\\n###  Output #{i+1}: ###\\n'))\n",
    "    _power_portion = P_out[i] / P_out_sum\n",
    "    _I_out_pft = _power_portion * I_pft_halfw * turns_ratios[i]\n",
    "    V_s_in_min = V_in_min / turns_ratios[i] - o.full_diode_drop()\n",
    "    V_s_in_max = V_in_max / turns_ratios[i] - o.full_diode_drop()\n",
    "    output_suggestions, extra_info = edcalc.smps.buck_output_params(\n",
    "        F_sw, V_s_in_min, V_s_in_max, _I_out_pft, D_min, D_max, o.V, o.I, ripple, o.filter_core, o.C_ripple)\n",
    "    display(block_of_values(*extra_info))\n",
    "    display(Markdown('### The winding'))\n",
    "    display(coil_selection(F_sw, o.I, wires_dia, I_density, output_suggestions.N))\n",
    "    L_out.append(output_suggestions.L)\n",
    "    C_out.append(output_suggestions.C if o.C is None else o.C)\n",
    "    ESR_C_out.append(output_suggestions.ESR if o.ESR is None else o.ESR)"
   ]
  },
  {
   "cell_type": "code",
   "execution_count": null,
   "metadata": {},
   "outputs": [],
   "source": []
  }
 ],
 "metadata": {
  "kernelspec": {
   "display_name": "Python 3",
   "language": "python",
   "name": "python3"
  },
  "language_info": {
   "codemirror_mode": {
    "name": "ipython",
    "version": 3
   },
   "file_extension": ".py",
   "mimetype": "text/x-python",
   "name": "python",
   "nbconvert_exporter": "python",
   "pygments_lexer": "ipython3",
   "version": "3.7.5"
  }
 },
 "nbformat": 4,
 "nbformat_minor": 4
}
