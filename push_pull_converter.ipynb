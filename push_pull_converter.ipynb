{
 "cells": [
  {
   "cell_type": "markdown",
   "metadata": {},
   "source": [
    "# Regulated Push-Pull Converter\n",
    "\n",
    "Due to push-pull topology being prone to flux imbalances, this design uses current-mode PWM controller [UCx846](http://www.ti.com/lit/ds/symlink/uc3846.pdf) (UC1846, UC2846, UC3846).\n",
    "\n",
    "## Push-pull topology\n",
    "\n",
    "A typical current-mode half-bridge converter looks like this:"
   ]
  },
  {
   "cell_type": "code",
   "execution_count": 1,
   "metadata": {},
   "outputs": [
    {
     "data": {
      "image/png": "[encoded data removed]",
      "text/plain": [
       "<IPython.core.display.Image object>"
      ]
     },
     "metadata": {},
     "output_type": "display_data"
    }
   ],
   "source": [
    "from IPython.display import display, Markdown, Image\n",
    "import edcalc.schematics\n",
    "display(Image(edcalc.schematics.push_pull_topology_image()))"
   ]
  },
  {
   "cell_type": "markdown",
   "metadata": {},
   "source": [
    "A push-pull converter can be viewed as an interleaved forward converter.\n",
    "Also, fundamentally it is just a buck converter with a transformer\n",
    "scaling the input voltage to a necessary level. Which means if\n",
    "you ignore the transformer, it is just a buck converter built\n",
    "around the inductor Lo. The output of the transformer can be rectified\n",
    "by either a center-tapped or a full-bridge rectifier.\n",
    "\n",
    "Some major pros and cons of the topology:\n",
    "\n",
    "Pros:\n",
    "\n",
    "* Provides all the benefits of a forward converter\n",
    "  but with smaller input and output current ripple.\n",
    "* Relatively easy to build. In most cases doesn't require any gate drivers.\n",
    "* Can handle power levels of up to 1kW.\n",
    "\n",
    "* Both full core reset and clamping leakage inductance spikes are\n",
    "  achieved without the need for extra windings or energy-dissipating\n",
    "  snubbers (although a snubber across the primary winding can still be handy).\n",
    "\n",
    "Cons:\n",
    "\n",
    "* Both switches experience theoretical voltage stress of $2 \\times V_{in}$\n",
    "  (Because when $V_{in}$ is applied to one half of the primary winding,\n",
    "  it induces the same voltage in the other half, thus doubling the voltage\n",
    "  applied to the non-conducting transistor).\n",
    "  Normally the voltage stress is more than $2 \\times V_{in}$ due to voltage\n",
    "  spikes caused by the uncoupled leakage inductance of the transformer,\n",
    "  unless dampened by a clamp or a snubber circuit.\n",
    "  Such $2 \\times V_{in}$ voltage stress makes push-pull converters less attractive for high input\n",
    "  voltages such as european 240 VAC, requiring the use of expensive switches\n",
    "  rated for 800-900V.\n",
    "* Core flux imbalances can easily occur and accumulate, eventually leading to core\n",
    "  saturation and destruction of the main switches, so mostly such supplies are build using current-mode control."
   ]
  },
  {
   "cell_type": "markdown",
   "metadata": {},
   "source": [
    "## Design parameters"
   ]
  },
  {
   "cell_type": "code",
   "execution_count": 2,
   "metadata": {},
   "outputs": [],
   "source": [
    "from edcalc.component_types import Core, MOSFET, Diode\n",
    "from edcalc.smps import OutputParams\n",
    "from edcalc.components import cores, diodes\n",
    "\n",
    "# Desired main switching frequency, Hz\n",
    "# It may later be adjusted according to the real values of the capacitors/resistors of the oscillator,\n",
    "# leading to a variable called 'F_sw'.\n",
    "# It's a combined frequency of both switches, so each switch will turn on/off with a half of this frequency.\n",
    "F_sw_desired = 250000\n",
    "\n",
    "# Input voltage type: \"AC\" or \"DC\" \n",
    "V_in_type = \"DC\"\n",
    "# Input voltage range (min, max)\n",
    "V_in_range = (10, 10)\n",
    "\n",
    "\n",
    "\n",
    "# Describe every output. The first one will be regulated\n",
    "out = [\n",
    "    OutputParams(V=20, I=12,\n",
    "                 filter_core=cores['R33x17.8x11.1-MM52'], \n",
    "                 rectifier='center-tapped',\n",
    "                 D=diodes['SB10100'],\n",
    "                 C=3000e-6, ESR=0.12, C_ripple=0.001),\n",
    "]\n",
    "\n",
    "# Expected efficiency\n",
    "efficiency = 0.8\n",
    "# Output inductor's ripple ratio (r = dI / I_L) in the worst conditions (when D = D_min)\n",
    "# Must be less than 2 (to remain in CCM). Ideally, around 0.3-0.5\n",
    "ripple = 0.4\n",
    "# Desired duty cycle of a single switch at minimum input voltage.\n",
    "# The actual value (calculated as 'D_max') will probably be slightly\n",
    "# different depending on the components selected for the timing circuit.\n",
    "D_max_desired = 0.8\n",
    "# Input capacitor voltage ripple ratio dV/V\n",
    "V_in_ripple = 0.05\n",
    "\n",
    "### Magnetic elements ###\n",
    "# The main transformer's core\n",
    "core = cores['ETD44/22/15-N87']\n",
    "# Current density, A/mm^2\n",
    "I_density = 5\n",
    "# Diameters of various wires available (to choose from), mm\n",
    "wires_dia = [0.1, 0.25, 0.35, 0.45]\n",
    "# Percentage the main transformer's uncoupled inductance,\n",
    "# also known as leakage inductance. Typically it is 1-3% (0.01-0.03)\n",
    "transformer_leakage_rate = 0.005\n",
    "# Peak flux density for the main transformer, Tesla\n",
    "# 0.12T is far below a typical saturation density for most ferrites,\n",
    "# but because in push-pull ΔB is rather large (in comparison with flyback),\n",
    "# a lower value helps to reduce losses\n",
    "B_pk = 0.12\n",
    "\n",
    "### About the main switches ###\n",
    "switch = MOSFET(C_rss=211e-12, C_iss=3247e-12, R_ds=8e-3, Rt_JC=0.75, Rt_CA=61.25, T_j=175)  # IRF3205\n",
    "# Voltage driving the main switches (and powering the integrated driver if used), V\n",
    "V_gs_sw = 10\n",
    "# Max current driving the switches, A\n",
    "I_drive_max = 0.4\n",
    "#### Thermal design parameters ####\n",
    "# Default ambient temperature, °C\n",
    "T_ambient = 25\n",
    "# Case-to-heatsink temperature resistance of the main switch (thermal paste), °C/W (set to None if not used)\n",
    "Rt_CS_sw = 0.5\n",
    "# Heatsink-to-ambient temperature resistance of the heatsink installed on the main switch, °C/W (set to None if not used)\n",
    "Rt_SA_sw = 17\n",
    "# Case-to-heatsink temperature resistance of the diodes (thermal paste), °C/W (set to None if not used)\n",
    "Rt_CS_D = 0.5\n",
    "# Heatsink-to-ambient temperature resistance of the diodes, °C/W (set to None if not used)\n",
    "Rt_SA_D = 17\n",
    "\n",
    "\n",
    "### Control circuit\n",
    "# Resistor measuring current flowing through the main switches, Ohms\n",
    "R_I_sense = 0.005 / 4\n",
    "# Reference voltage provided by the PWM controller, V\n",
    "V_ref = 5.1\n",
    "# Reference voltage at Pin 5 of UCx846 (non-inverting input of the error amplifier), V\n",
    "V_eap_ref = V_ref / 2\n",
    "\n",
    "### Clamps and snubbers\n",
    "# Diodes used in for non-dissipative clamp on the primary side (can be None)\n",
    "ndclamp_diode = diodes['SS310']\n",
    "# Max power dissipated by snubbers across the rectifying diodes, W\n",
    "P_rectifier_snubber = 0.6\n",
    "# Parasitic capacitance of the rectifier than needs to be damped, F\n",
    "C_rectifier_parasitic = 1.8e-9\n",
    "# Force rectifier snubber's capacitor to a certain value (use None to enable automatic choice), F\n",
    "# Setting this value makes 'C_rectifier_parasitic' and 'P_rectifier_snubber' options irrelevant.\n",
    "C_rectifier_snubber = 2e-9"
   ]
  },
  {
   "cell_type": "code",
   "execution_count": 3,
   "metadata": {},
   "outputs": [],
   "source": [
    "import math\n",
    "# Some convenient conversions\n",
    "if V_in_type == 'AC':\n",
    "    V_in_min = V_in_range[0] * math.sqrt(2)\n",
    "    V_in_max = V_in_range[1] * math.sqrt(2)\n",
    "else:\n",
    "    V_in_min, V_in_max = V_in_range\n",
    "P_out = [o.I * o.V for o in out]\n",
    "P_out_sum = sum(P_out)\n",
    "P_in = P_out_sum / efficiency"
   ]
  },
  {
   "cell_type": "code",
   "execution_count": 4,
   "metadata": {},
   "outputs": [],
   "source": [
    "from edcalc.format import (format_value, format_C, format_R, format_F, format_V, format_I,\n",
    "                           format_L, format_W, block_of_values, format_flux_density,\n",
    "                           warning_message, format_value_with_warning)\n",
    "from edcalc.eseries import nearest_e12, nearest_e24, find_esum, find_precise_voltage_divider\n",
    "from edcalc.smps import coil_selection"
   ]
  },
  {
   "cell_type": "markdown",
   "metadata": {},
   "source": [
    "## Input-output"
   ]
  },
  {
   "cell_type": "code",
   "execution_count": 5,
   "metadata": {},
   "outputs": [
    {
     "name": "stdout",
     "output_type": "stream",
     "text": [
      "Input power (with 80.0% efficiency): 300.0W\n",
      "Output power: 240.0W\n"
     ]
    }
   ],
   "source": [
    "print(f'Input power (with {efficiency*100}% efficiency): {format_W(P_in)}')\n",
    "print('Output power:', format_W(P_out_sum))"
   ]
  },
  {
   "cell_type": "markdown",
   "metadata": {},
   "source": [
    "## UC3846 oscillator\n",
    "\n",
    "these calculations are based on [this datasheet on UC3846 from TI](http://www.ti.com/lit/ds/symlink/uc3846.pdf). By setting deadtime to be $ T_d = {1 - D_{max} \\over F_{sw}} $ we can derive both time-setting resistor and capacitor."
   ]
  },
  {
   "cell_type": "code",
   "execution_count": 6,
   "metadata": {},
   "outputs": [
    {
     "data": {
      "text/markdown": [
       "<table><tr><td>Desired deadtime:</td><td>800.0ns</td></tr>\n",
       "<tr><td>Desired period:</td><td>4.0us (at 250.0kHz)</td></tr>\n",
       "<tr><td>Chain of time-setting resistors forming $R_T$</td><td>1.8kΩ + 270.0Ω</td></tr>\n",
       "<tr><td>Time-setting capacitors, connected in parallel $C_T$</td><td>3.9nF + 330.0pF</td></tr>\n",
       "<tr><td>Dead time actual:</td><td>798.51ns</td></tr>\n",
       "<tr><td>Max duty cycle:</td><td>0.7994 (please, check that the real circuit does not exceed that!)</td></tr>\n",
       "<tr><td>The actual switching frequency:</td><td>251.25kHz</td></tr></table>"
      ],
      "text/plain": [
       "<IPython.core.display.Markdown object>"
      ]
     },
     "metadata": {},
     "output_type": "display_data"
    }
   ],
   "source": [
    "def uc3846_dead_time(R_t, C_t):\n",
    "    return 145 * C_t * (7.5 / (7.5 - 3.6e3 / R_t))\n",
    "\n",
    "\n",
    "def uc3846_frequency(R_t, C_t):\n",
    "    return 2.2 / (R_t * C_t)\n",
    "\n",
    "dead_time_required = (1 - D_max_desired) / F_sw_desired\n",
    "R_t_approx = (145 * 2.2 / dead_time_required + F_sw_desired * 3.6e3 / 7.5) / F_sw_desired\n",
    "C_t_approx = dead_time_required / (145 * (7.5 / (7.5 - 3.6e3 / R_t_approx)))\n",
    "C_t_parts = find_esum(C_t_approx)\n",
    "C_t = sum(C_t_parts)\n",
    "R_t_parts = find_esum(2.2 / (F_sw_desired * C_t))\n",
    "R_t = sum(R_t_parts)\n",
    "F_sw = uc3846_frequency(R_t, C_t)\n",
    "dead_time = uc3846_dead_time(R_t, C_t)\n",
    "D_max = 1 - dead_time * F_sw\n",
    "display(block_of_values(\n",
    "    ('Desired deadtime:', format_value(dead_time_required, \"s\")),\n",
    "    ('Desired period:', f'{format_value(1 / F_sw_desired, \"s\")} (at {format_F(F_sw_desired)})'),\n",
    "    ('Chain of time-setting resistors forming $R_T$', ' + '.join([format_R(r) for r in R_t_parts])),\n",
    "    ('Time-setting capacitors, connected in parallel $C_T$', ' + '.join([format_C(r) for r in C_t_parts])),\n",
    "    ('Dead time actual:', format_value(dead_time, \"s\")),\n",
    "    ('Max duty cycle:', f'{round(D_max, 4)} (please, check that the real circuit does not exceed that!)'),\n",
    "    ('The actual switching frequency:', format_F(F_sw)),\n",
    "))"
   ]
  },
  {
   "cell_type": "markdown",
   "metadata": {},
   "source": [
    "## The main transformer"
   ]
  },
  {
   "cell_type": "code",
   "execution_count": 7,
   "metadata": {},
   "outputs": [
    {
     "data": {
      "text/markdown": [
       "<table><tr><td>Minimum duty cycle $D_{min}$</td><td>1.39</td></tr>\n",
       "<tr><td>Maximum possible flux density at $V_{inMAX}$ (assuming $D_{max}$ is limited by the timing circuit!)</td><td>91.95mT, which is OK</td></tr></table>"
      ],
      "text/plain": [
       "<IPython.core.display.Markdown object>"
      ]
     },
     "metadata": {},
     "output_type": "display_data"
    }
   ],
   "source": [
    "# Each half of the primary winding conducts at a lower frequency (F_sw / 2)\n",
    "# and so the duty cycle for it must be recalculated with respect to that frequency\n",
    "D_max_halfw = D_max / 2\n",
    "# The magnetic flux swings from -Bsat/2 to +Bsat/2\n",
    "# In theory, we can use V_in_min while calculating the number of primary turns at D_max.\n",
    "# However there is a possibility that during the startup time the converter\n",
    "# will fail to adjust its duty cycle quickly enough to avoid saturation.\n",
    "# So we're planning for the worst case scenario, which is V_in_max at D_max.\n",
    "N_p = math.ceil(V_in_max * D_max / (F_sw * B_pk * core.A_e_mks))\n",
    "L_p = core.A_L_mks * N_p**2\n",
    "secondary_turns = [math.ceil(N_p * (o.V/D_max + o.full_diode_drop()) / V_in_min) for o in out]\n",
    "L_secondary = [core.A_L_mks * ns**2 for ns in secondary_turns]\n",
    "turns_ratios = [N_p / t for t in secondary_turns]\n",
    "D_min_halfw_pri = (out[0].V + out[0].full_diode_drop()) * turns_ratios[0] / V_in_max\n",
    "D_min = 2 * D_min_halfw_pri\n",
    "dB_pk = V_in_max * D_max / (F_sw * N_p * core.A_e_mks)\n",
    "display(block_of_values(\n",
    "    ('Minimum duty cycle $D_{min}$', f'{round(D_min, 2)}'),\n",
    "    ('Maximum possible flux density at $V_{inMAX}$ (assuming $D_{max}$ is limited by the timing circuit!)', format_flux_density(dB_pk, core.B_sat)),\n",
    "))"
   ]
  },
  {
   "cell_type": "markdown",
   "metadata": {},
   "source": [
    "### Primary winding RMS and flat-topped peak currents\n",
    "\n",
    "based on A. Pressman:\n",
    "> Current drawn from the DC input source... has ... ramp-on-a-step waveshape...\n",
    "> To simplify calculation, the pulses in the figure are\n",
    "> assumed to have an equivalent flat-topped waveshape whose amplitude\n",
    "> $I_{pft}$ is the value of the current at the center of the ramp."
   ]
  },
  {
   "cell_type": "code",
   "execution_count": 8,
   "metadata": {},
   "outputs": [
    {
     "data": {
      "text/markdown": [
       "<table><tr><td>Flat-topped peak current entering the center of the primary winding</td><td>37.53A</td></tr>\n",
       "<tr><td>RMS current at the center of the primary winding</td><td>33.55A</td></tr>\n",
       "<tr><td>RMS current going through each half of the primary windings</td><td>23.73A</td></tr></table>"
      ],
      "text/plain": [
       "<IPython.core.display.Markdown object>"
      ]
     },
     "metadata": {},
     "output_type": "display_data"
    }
   ],
   "source": [
    "I_pft = P_out_sum / (efficiency * V_in_min * D_max)\n",
    "I_pri_rms = I_pft * math.sqrt(D_max)\n",
    "I_pri_rms_halfw = I_pft * math.sqrt(D_max_halfw)\n",
    "\n",
    "display(block_of_values(\n",
    "    (f'Flat-topped peak current entering the center of the primary winding', format_I(I_pft)),\n",
    "    (f'RMS current at the center of the primary winding', format_I(I_pri_rms)),\n",
    "    (f'RMS current going through each half of the primary windings', format_I(I_pri_rms_halfw)),\n",
    "))"
   ]
  },
  {
   "cell_type": "code",
   "execution_count": 9,
   "metadata": {},
   "outputs": [
    {
     "data": {
      "text/markdown": [
       "\n",
       "### Primary winding (2 x 2 turns, center-tapped, 14.0uH each half)\n"
      ],
      "text/plain": [
       "<IPython.core.display.Markdown object>"
      ]
     },
     "metadata": {},
     "output_type": "display_data"
    },
    {
     "data": {
      "text/markdown": [
       "With the RMS current of 23.73A and max current density of 5 $A/mm^2$, we need at least 4.75 $mm^2$ of cross-sectional copper area available for it. \n",
       "\n",
       "Thus the optimum wire dia is: 0.26 $ mm $ (0.05 $mm^2$ each strand)\n",
       "\n",
       "| wire Ø    | copper Ø  | fully utilized | strands | copper total  | 2 turns occupy |\n",
       "|-----------|-----------|----------------|---------|---------------|----------------|\n",
       "| 0.1 $mm$  | 0.1 $mm$  | OK             | 605     | 4.7517 $mm^2$ | 15%            |\n",
       "| 0.25 $mm$ | 0.25 $mm$ | OK             | 97      | 4.7615 $mm^2$ | 15%            |\n",
       "| 0.35 $mm$ | 0.35 $mm$ | TOO THICK      | 53      | 4.7895 $mm^2$ | 16%            |\n",
       "| 0.45 $mm$ | 0.45 $mm$ | TOO THICK      | 37      | 4.8764 $mm^2$ | 18%            |"
      ],
      "text/plain": [
       "CoilSelectionInfo(frequency=251253.4119071276, turns=2, rms_current=23.726410704308392, current_density=5, skin_depth=0.13186983885807452, required_copper_area=4.745282140861678, optimal_strand_dia=0.26373967771614903, optimal_strand_area=0.0546312105129334, choices=[CoilChoice(wire_dia=0.1, is_too_thick=False, copper_dia=0.1, strands=605, total_copper_area=4.751658888554562, winding_area_fill=15), CoilChoice(wire_dia=0.25, is_too_thick=False, copper_dia=0.25, strands=97, total_copper_area=4.76147636559703, winding_area_fill=15), CoilChoice(wire_dia=0.35, is_too_thick=True, copper_dia=0.35, strands=53, total_copper_area=4.7894642729158985, winding_area_fill=16), CoilChoice(wire_dia=0.45, is_too_thick=True, copper_dia=0.45, strands=37, total_copper_area=4.8764291388483, winding_area_fill=18)])"
      ]
     },
     "metadata": {},
     "output_type": "display_data"
    },
    {
     "data": {
      "text/markdown": [
       "\n",
       "### Secondary winding #1 (2 X 6 turns, 126.0uH)\n"
      ],
      "text/plain": [
       "<IPython.core.display.Markdown object>"
      ]
     },
     "metadata": {},
     "output_type": "display_data"
    },
    {
     "data": {
      "text/markdown": [
       "With the RMS current of 6.0A and max current density of 5 $A/mm^2$, we need at least 1.2 $mm^2$ of cross-sectional copper area available for it. \n",
       "\n",
       "Thus the optimum wire dia is: 0.26 $ mm $ (0.05 $mm^2$ each strand)\n",
       "\n",
       "| wire Ø    | copper Ø  | fully utilized | strands | copper total  | 6 turns occupy |\n",
       "|-----------|-----------|----------------|---------|---------------|----------------|\n",
       "| 0.1 $mm$  | 0.1 $mm$  | OK             | 153     | 1.2017 $mm^2$ | 11%            |\n",
       "| 0.25 $mm$ | 0.25 $mm$ | OK             | 25      | 1.2272 $mm^2$ | 12%            |\n",
       "| 0.35 $mm$ | 0.35 $mm$ | TOO THICK      | 14      | 1.2651 $mm^2$ | 13%            |\n",
       "| 0.45 $mm$ | 0.45 $mm$ | TOO THICK      | 10      | 1.318 $mm^2$  | 15%            |"
      ],
      "text/plain": [
       "CoilSelectionInfo(frequency=251253.4119071276, turns=6, rms_current=6.0, current_density=5, skin_depth=0.13186983885807452, required_copper_area=1.2, optimal_strand_dia=0.26373967771614903, optimal_strand_area=0.0546312105129334, choices=[CoilChoice(wire_dia=0.1, is_too_thick=False, copper_dia=0.1, strands=153, total_copper_area=1.201659189998096, winding_area_fill=11), CoilChoice(wire_dia=0.25, is_too_thick=False, copper_dia=0.25, strands=25, total_copper_area=1.227184630308513, winding_area_fill=12), CoilChoice(wire_dia=0.35, is_too_thick=True, copper_dia=0.35, strands=14, total_copper_area=1.265141506053256, winding_area_fill=13), CoilChoice(wire_dia=0.45, is_too_thick=True, copper_dia=0.45, strands=10, total_copper_area=1.3179538213103514, winding_area_fill=15)])"
      ]
     },
     "metadata": {},
     "output_type": "display_data"
    }
   ],
   "source": [
    "display(Markdown(f\"\\n### Primary winding (2 x {N_p} turns, center-tapped, {format_L(L_p)} each half)\\n\"))\n",
    "display(coil_selection(F_sw, I_pri_rms_halfw, wires_dia, I_density, N_p, winding_area=core.W_a))\n",
    "\n",
    "for i, o in enumerate(out):\n",
    "    display(Markdown(f\"\\n### Secondary winding #{i + 1} ({'2 X ' if o.is_center_tapped else ''}\"\n",
    "          f\"{secondary_turns[i]} turns, {format_L(L_secondary[i])})\\n\"))\n",
    "    display(coil_selection(F_sw, out[i].I / (2 if o.is_center_tapped else 1), wires_dia, I_density, secondary_turns[i], winding_area=core.W_a))"
   ]
  },
  {
   "cell_type": "markdown",
   "metadata": {},
   "source": [
    "## Output filters\n",
    "\n",
    "Please, note that according to A. Pressman:\n",
    "\n",
    "> The output capacitor Co is selected to meet the maximum output ripple\n",
    "voltage specification. In Section 1.3.7 it was shown that the output\n",
    "ripple is determined almost completely by the magnitude of the ESR\n",
    "(equivalent series resistance, Ro ) in the filter capacitor and not by the\n",
    "magnitude of the capacitor itself.\n",
    "\n",
    "The theory is covered in [\"Understanding Buck Power Stages\"](static/papers/slva057-buck-power-stages.pdf)\n",
    "by Everett Rogers\n",
    "and in [Analog Circuit Design Volume 2: Immersion in the Black Art of Analog Design](https://books.google.ru/books?id=H9rAU4Rf--YC&lpg=PA108&pg=PA108#v=onepage&q&f=false)\n",
    "by Bob Dobkin and Jim Williams."
   ]
  },
  {
   "cell_type": "code",
   "execution_count": 10,
   "metadata": {},
   "outputs": [
    {
     "data": {
      "text/markdown": [
       "\n",
       "###  Output #1: ###\n"
      ],
      "text/plain": [
       "<IPython.core.display.Markdown object>"
      ]
     },
     "metadata": {},
     "output_type": "display_data"
    },
    {
     "data": {
      "text/markdown": [
       "<table><tr><td>Output voltage</td><td>20.0V</td></tr>\n",
       "<tr><td>Output current</td><td>12.0A</td></tr>\n",
       "<tr><td>Output voltage ripple (0.1%)</td><td>20.0mV</td></tr>\n",
       "<tr><td>Output inductor</td><td>11.5uH, 11 turns</td></tr>\n",
       "<tr><td>Inductor mode</td><td>continuous</td></tr>\n",
       "<tr><td>Inductor's peak flux density</td><td>498.77mT, which is OK</td></tr>\n",
       "<tr><td>Inductor's peak current:</td><td>38.42A</td></tr>\n",
       "<tr><td>$r = \\Delta I / I_L$ at $V_{inmin}$</td><td>0.21</td></tr>\n",
       "<tr><td>$r = \\Delta I / I_L$ at $V_{inmax}$</td><td>0.37</td></tr>\n",
       "<tr><td>Recommended minimum capacitor:</td><td>109.54uF</td></tr>\n",
       "<tr><td>Max ESR of this capacitor should be</td><td>4.54mΩ</td></tr>\n",
       "<tr><td>Output capacitor RMS current</td><td>1.27A</td></tr>\n",
       "<tr><td>Such capacitor will dissipate</td><td>7.34mW</td></tr></table>"
      ],
      "text/plain": [
       "<IPython.core.display.Markdown object>"
      ]
     },
     "metadata": {},
     "output_type": "display_data"
    },
    {
     "data": {
      "text/markdown": [
       "### The winding"
      ],
      "text/plain": [
       "<IPython.core.display.Markdown object>"
      ]
     },
     "metadata": {},
     "output_type": "display_data"
    },
    {
     "data": {
      "text/markdown": [
       "With the RMS current of 12.0A and max current density of 5 $A/mm^2$, we need at least 2.4 $mm^2$ of cross-sectional copper area available for it. \n",
       "\n",
       "Thus the optimum wire dia is: 0.26 $ mm $ (0.05 $mm^2$ each strand)\n",
       "\n",
       "| wire Ø    | copper Ø  | fully utilized | strands | copper total  | 11 turns occupy |\n",
       "|-----------|-----------|----------------|---------|---------------|-----------------|\n",
       "| 0.1 $mm$  | 0.1 $mm$  | OK             | 306     | 2.4033 $mm^2$ |                 |\n",
       "| 0.25 $mm$ | 0.25 $mm$ | OK             | 49      | 2.4053 $mm^2$ |                 |\n",
       "| 0.35 $mm$ | 0.35 $mm$ | TOO THICK      | 27      | 2.4399 $mm^2$ |                 |\n",
       "| 0.45 $mm$ | 0.45 $mm$ | TOO THICK      | 19      | 2.5041 $mm^2$ |                 |"
      ],
      "text/plain": [
       "CoilSelectionInfo(frequency=251253.4119071276, turns=11, rms_current=12, current_density=5, skin_depth=0.13186983885807452, required_copper_area=2.4, optimal_strand_dia=0.26373967771614903, optimal_strand_area=0.0546312105129334, choices=[CoilChoice(wire_dia=0.1, is_too_thick=False, copper_dia=0.1, strands=306, total_copper_area=2.403318379996192, winding_area_fill=None), CoilChoice(wire_dia=0.25, is_too_thick=False, copper_dia=0.25, strands=49, total_copper_area=2.405281875404685, winding_area_fill=None), CoilChoice(wire_dia=0.35, is_too_thick=True, copper_dia=0.35, strands=27, total_copper_area=2.4399157616741367, winding_area_fill=None), CoilChoice(wire_dia=0.45, is_too_thick=True, copper_dia=0.45, strands=19, total_copper_area=2.5041122604896677, winding_area_fill=None)])"
      ]
     },
     "metadata": {},
     "output_type": "display_data"
    },
    {
     "data": {
      "text/markdown": [
       "<table><tr><td>Peak primary winding current</td><td>42.61A</td></tr></table>"
      ],
      "text/plain": [
       "<IPython.core.display.Markdown object>"
      ]
     },
     "metadata": {},
     "output_type": "display_data"
    }
   ],
   "source": [
    "import importlib; importlib.reload(edcalc.smps)\n",
    "out_info, L_out, C_out, ESR_C_out = [], [], [], []\n",
    "for i, o in enumerate(out):\n",
    "    display(Markdown(f'\\n###  Output #{i+1}: ###\\n'))\n",
    "    V_s_in_min = V_in_min / turns_ratios[i] - o.full_diode_drop()\n",
    "    V_s_in_max = V_in_max / turns_ratios[i] - o.full_diode_drop()\n",
    "    output_suggestions, extra_info = edcalc.smps.buck_output_params(\n",
    "        F_sw, V_s_in_min, V_s_in_max, D_min, D_max, o.V, o.I, ripple, o.filter_core, o.C_ripple)\n",
    "    display(block_of_values(*extra_info))\n",
    "    display(Markdown('### The winding'))\n",
    "    display(coil_selection(F_sw, o.I, wires_dia, I_density, output_suggestions.N))\n",
    "    out_info.append(output_suggestions)\n",
    "    L_out.append(output_suggestions.L)\n",
    "    C_out.append(output_suggestions.C if o.C is None else o.C)\n",
    "    ESR_C_out.append(output_suggestions.ESR if o.ESR is None else o.ESR)\n",
    "\n",
    "# More realistic estimation of the peak primary current, based on the sum of reflected\n",
    "# currents of all output inductors\n",
    "I_pri_pk = sum([out[i].I * (1 + out_info[0].max_ripple / 2) / turns_ratios[0]\n",
    "                for i in range(len(out))])\n",
    "display(block_of_values(\n",
    "    (f'Peak primary winding current', format_I(I_pri_pk)),\n",
    "))"
   ]
  },
  {
   "cell_type": "markdown",
   "metadata": {},
   "source": [
    "## DC input capacitor"
   ]
  },
  {
   "cell_type": "code",
   "execution_count": 11,
   "metadata": {},
   "outputs": [
    {
     "data": {
      "text/markdown": [
       "<table><tr><td>Minimum recommended input capacitor</td><td>270.0uF</td></tr>\n",
       "<tr><td>Recommended ESR</td><td>13.32mΩ</td></tr>\n",
       "<tr><td>Minimum voltage rating of the capacitor</td><td>12.0V</td></tr></table>"
      ],
      "text/plain": [
       "<IPython.core.display.Markdown object>"
      ]
     },
     "metadata": {},
     "output_type": "display_data"
    }
   ],
   "source": [
    "C_in = nearest_e12(I_pft * D_max / (F_sw * V_in_min * V_in_ripple), 'higher')\n",
    "ESR_C_in = V_in_min * V_in_ripple / I_pft\n",
    "display(block_of_values(\n",
    "    ('Minimum recommended input capacitor', format_C(C_in)),\n",
    "    ('Recommended ESR', format_R(ESR_C_in)),\n",
    "    ('Minimum voltage rating of the capacitor', format_V(1.2 * V_in_max))\n",
    "))"
   ]
  },
  {
   "cell_type": "markdown",
   "metadata": {},
   "source": [
    "## Leakage inductance energy spikes\n",
    "\n",
    "Each time one of the switches stops conducting, a huge voltage spike occurs at its drain. This is due to the leakage (uncoupled) inductance of the main transformer, which tries to keep the current flowing and thus raises the voltage across its ends. Left ignored, such spikes can destroy the switches.\n",
    "\n",
    "### Option 1: RCD snubbers\n",
    "\n",
    "These snubbers dump the parasitic energy burst into heat. They look like this (colored blue, virtual leakage inductance is red):"
   ]
  },
  {
   "cell_type": "code",
   "execution_count": 12,
   "metadata": {},
   "outputs": [
    {
     "data": {
      "image/png": "[encoded data removed]",
      "text/plain": [
       "<IPython.core.display.Image object>"
      ]
     },
     "metadata": {},
     "output_type": "display_data"
    }
   ],
   "source": [
    "import edcalc.schematics\n",
    "display(Image(edcalc.schematics.push_pull_rcd_snubber_image()))"
   ]
  },
  {
   "cell_type": "markdown",
   "metadata": {},
   "source": [
    "How they work:\n",
    "\n",
    "* each $C_{snubber}$ absorbs about a half of the turn-off current spikes caused by the leakage inductance (designed that way)\n",
    "* thus reduces transistor dissipation by slowing down drain raise time when the switch stops conducting and giving the switch more time to turn off at lower drain voltage. Important for BJT switches\n",
    "* by dampening voltage spikes keeps them from destroying the switches\n",
    "\n",
    "These calculations are based on chapter 11 from \"Switching Power Supply Design\" by A. Pressman. They are not very precise but practical enough.\n",
    "\n",
    "Capacitance is $C = {Q \\over V}$. We know that $V = 2 \\times V_{in}$, and the charge is assumed to be $Q = I * T_{fall}$. If current is set to $I = I_{peak} / 2$, then $$ C_{snubber} = {{T_{fall} {(I_{peak} / 2)}} \\over {2 V_{in}}} $$\n",
    "\n",
    "Knowing $C_{snubber}$ we can calculate the resistance needed to \"burn\" the absorbed energy when the transistor is turned on. $R_{snubber}$ and $C_{snubber}$ form an [RC-circuit](https://en.wikipedia.org/wiki/RC_circuit) with time constant $\\tau = R C$ which can be discharged to 5% of its original voltage in time equal $3 \\tau$. So, if we assume $ T_{on} = 3 \\tau = 3 R C $ we get $$ R_{snubber} = {{T_{on\\_min}} \\over {3 C_{snubber}}} = { {D_{min}} \\over {3 F_{sw} C_{snubber}}}$$"
   ]
  },
  {
   "cell_type": "code",
   "execution_count": 13,
   "metadata": {},
   "outputs": [
    {
     "data": {
      "text/markdown": [
       "<table><tr><td>Assumed $T_{fall}$  time</td><td>86.45ns</td></tr>\n",
       "<tr><td>Amplitude of the turn-off voltage spike</td><td>37.34V</td></tr>\n",
       "<tr><td>$C_{snubber}$</td><td>82.0nF</td></tr>\n",
       "<tr><td>$R_{snubber}$</td><td>22.0Ω</td></tr>\n",
       "<tr><td>Power dissipated through $R_{snubber}$ each cycle</td><td>4.12W</td></tr></table>"
      ],
      "text/plain": [
       "<IPython.core.display.Markdown object>"
      ]
     },
     "metadata": {},
     "output_type": "display_data"
    }
   ],
   "source": [
    "# Here we assume that turn-on and turn-off periods for a MOSFET are equal\n",
    "I_C_snubber = I_pft / 2\n",
    "T_fall = switch.gate_drive_charge(V_in_max, V_gs_sw) / I_drive_max\n",
    "C_snubber = nearest_e12(I_C_snubber * T_fall / (2 * V_in_min))\n",
    "R_snubber = nearest_e12(D_min / (3 * F_sw * C_snubber))\n",
    "L_p_leakage = L_p * transformer_leakage_rate\n",
    "Z_LC_snubber = math.sqrt(L_p_leakage / C_snubber)\n",
    "V_spike_sw = 2 * V_in_max + Z_LC_snubber * I_C_snubber\n",
    "E_snubber = C_snubber * (2 * V_in_max)**2 / 2\n",
    "P_snubber = E_snubber * F_sw\n",
    "display(block_of_values(\n",
    "    ('Assumed $T_{fall}$  time', format_value(T_fall, \"s\")),\n",
    "    ('Amplitude of the turn-off voltage spike', format_V(V_spike_sw)),\n",
    "    ('$C_{snubber}$', format_C(C_snubber)),\n",
    "    ('$R_{snubber}$', format_R(R_snubber)),\n",
    "    ('Power dissipated through $R_{snubber}$ each cycle', format_W(P_snubber)),\n",
    "))"
   ]
  },
  {
   "cell_type": "markdown",
   "metadata": {},
   "source": [
    "### Option 2: Isolated passive lossless clamps\n",
    "\n",
    "This clamp accumulates the energy stored in the leakage inductance and recovers it to the input of the supply. It uses two independent inductances $L_s$."
   ]
  },
  {
   "cell_type": "code",
   "execution_count": 14,
   "metadata": {},
   "outputs": [
    {
     "data": {
      "image/png": "[encoded data removed]",
      "text/plain": [
       "<IPython.core.display.Image object>"
      ]
     },
     "metadata": {},
     "output_type": "display_data"
    }
   ],
   "source": [
    "import edcalc.schematics\n",
    "display(Image(edcalc.schematics.push_pull_lossless_clamp_image()))"
   ]
  },
  {
   "cell_type": "markdown",
   "metadata": {},
   "source": [
    "The circuit works by dumping the energy of the leakage inductance into a capacitor $C_S$, which is already \"pre-charged\" to $V_{in}$. The capacitor is selected so that the energy dump doesn't raise its voltage beyound a certail limit `V_clamp_max`. Next time the transistor is conducting, it connects the capacitor to an intermediate inductance $L_S$ during the time $T_{ON}$ (which can be as long as $D_{max} / F_{sw}$). Again, the inductance of $L_S$ is selected so that the capacitor will be only partially discharged to the \"pre-charged\" voltage $V_{in}$, again. Once the transistor is off again, the inductance $L_S$ will freewheel its current into the input power line through the upper and lower diodes. At the same time, $C_S$ will absorb another energy spike, and the cycle will be repeated. Because $C_S$ stays \"pre-charged\" to at least $V_{in}$, this keeps diode $D_{SB}$ off when another side of the circuit is conducting.\n",
    "\n",
    "The calculations below are just rough estimations that seem to work well enough."
   ]
  },
  {
   "cell_type": "code",
   "execution_count": 15,
   "metadata": {},
   "outputs": [
    {
     "data": {
      "text/markdown": [
       "<table><tr><td>Peak current through the upper diode $D_{SB}$</td><td>42.99A</td></tr>\n",
       "<tr><td>Average current through the upper diode $D_{SB}$</td><td>894.79mA</td></tr>\n",
       "<tr><td>RMS current through the upper diode $D_{SB}$</td><td>5.06A</td></tr>\n",
       "<tr><td>Leakage inductance</td><td>70.0nH</td></tr>\n",
       "<tr><td>Max drain-source voltage:</td><td>20.5V</td></tr>\n",
       "<tr><td>Min pre-charged voltage on $C_S$</td><td>10.0V</td></tr>\n",
       "<tr><td>Minimum $L_S$</td><td>50.77uH</td></tr>\n",
       "<tr><td>Minimum $C_S$</td><td>13.0uF</td></tr>\n",
       "<tr><td>Peak current through $C_S$</td><td>42.61A</td></tr>\n",
       "<tr><td>Power recovered by one clamps is</td><td>7.98W</td></tr>\n",
       "<tr><td>$L_s$ peak-to-peak ripple $\\Delta I$</td><td>382.56mA</td></tr>\n",
       "<tr><td>$L_s$|$D_{SA}$ RMS current $I_{Ls}$</td><td>779.6mA</td></tr>\n",
       "<tr><td>$L_s$|$D_{SA}$ average current $I_{Ls}$</td><td>791.01mA</td></tr>\n",
       "<tr><td>$L_s$|$D_{SA}$ peak current</td><td>982.29mA</td></tr>\n",
       "<tr><td>Max drain-source voltage/reverse voltage across each of the diodes:</td><td>20.5V</td></tr></table>"
      ],
      "text/plain": [
       "<IPython.core.display.Markdown object>"
      ]
     },
     "metadata": {},
     "output_type": "display_data"
    }
   ],
   "source": [
    "clamp1_components, clamp1_info = edcalc.smps.non_dissipative_isolated_clamp(\n",
    "    V_in_min, V_in_max, I_pri_pk=I_pri_pk, L_leakage=L_p * transformer_leakage_rate,\n",
    "    T_clamp_on=D_min/F_sw, T_clamp_off=(2 - D_min) / F_sw, V_ripple=0.05)\n",
    "display(block_of_values(*clamp1_info))"
   ]
  },
  {
   "cell_type": "markdown",
   "metadata": {},
   "source": [
    "### Option 3: Nondissipative clamping through recovery reset windings\n",
    "\n",
    "This method is described in [\"Nondissipative Clamping Benefits DC-DC Converters\" by By Viktor D. Vogman](https://www.powerelectronics.com/content/article/21857520/nondissipative-clamping-benefits-dcdc-converters) ([pdf version](static/papers/non-dissipative-clamping.pdf)). Unlike the 2nd option, it uses only two diodes, eliminates the extra inductors, however requires a copy of the primary winding on the main transformer called recovery windings (with the same number of turns although a thinner wire)."
   ]
  },
  {
   "cell_type": "code",
   "execution_count": 16,
   "metadata": {},
   "outputs": [
    {
     "data": {
      "image/png": "[encoded data removed]",
      "text/plain": [
       "<IPython.core.display.Image object>"
      ]
     },
     "metadata": {},
     "output_type": "display_data"
    }
   ],
   "source": [
    "import edcalc.schematics\n",
    "display(Image(edcalc.schematics.push_pull_coupled_lossless_clamp_image()))"
   ]
  },
  {
   "cell_type": "markdown",
   "metadata": {},
   "source": [
    "Windings $L_{W1}$, $L_{W2}$, $L_{W3}$ and $L_{W4}$ are all wounded on the same core and in the same direction (say, upside-down as shown on the schematic) and have the same number of turns of the primary winding. The secondary windings are omitted on this diagram."
   ]
  },
  {
   "cell_type": "code",
   "execution_count": 17,
   "metadata": {},
   "outputs": [
    {
     "data": {
      "text/markdown": [
       "<table><tr><td>Minimum $C_S$</td><td>68.0uF</td></tr>\n",
       "<tr><td>Max $C_S$ voltage</td><td>10.1V</td></tr>\n",
       "<tr><td>RMS current of the recovery winding</td><td>9.81A</td></tr>\n",
       "<tr><td>Resonant frequency (must be $<< F_{sw}$)</td><td>3.43uHz</td></tr>\n",
       "<tr><td>Max drain-source voltage:</td><td>20.0V</td></tr>\n",
       "<tr><td>$D_S$ reverse voltage</td><td>20.0V</td></tr>\n",
       "<tr><td>$D_S$ peak current</td><td>42.61A</td></tr>\n",
       "<tr><td>$D_S$ RMS current</td><td>5.02A</td></tr>\n",
       "<tr><td>$D_S$ average current</td><td>886.83mA</td></tr></table>"
      ],
      "text/plain": [
       "<IPython.core.display.Markdown object>"
      ]
     },
     "metadata": {},
     "output_type": "display_data"
    },
    {
     "data": {
      "text/markdown": [
       "#### Extra windings 2 x 2 turns, just like the primary"
      ],
      "text/plain": [
       "<IPython.core.display.Markdown object>"
      ]
     },
     "metadata": {},
     "output_type": "display_data"
    },
    {
     "data": {
      "text/markdown": [
       "With the RMS current of 9.81A and max current density of 5 $A/mm^2$, we need at least 1.96 $mm^2$ of cross-sectional copper area available for it. \n",
       "\n",
       "Thus the optimum wire dia is: 0.26 $ mm $ (0.05 $mm^2$ each strand)\n",
       "\n",
       "| wire Ø    | copper Ø  | fully utilized | strands | copper total  | 2 turns occupy |\n",
       "|-----------|-----------|----------------|---------|---------------|----------------|\n",
       "| 0.1 $mm$  | 0.1 $mm$  | OK             | 250     | 1.9635 $mm^2$ | 6%             |\n",
       "| 0.25 $mm$ | 0.25 $mm$ | OK             | 40      | 1.9635 $mm^2$ | 6%             |\n",
       "| 0.35 $mm$ | 0.35 $mm$ | TOO THICK      | 22      | 1.9881 $mm^2$ | 7%             |\n",
       "| 0.45 $mm$ | 0.45 $mm$ | TOO THICK      | 15      | 1.9769 $mm^2$ | 8%             |"
      ],
      "text/plain": [
       "CoilSelectionInfo(frequency=251253.4119071276, turns=2, rms_current=9.807946138213728, current_density=5, skin_depth=0.13186983885807452, required_copper_area=1.9615892276427456, optimal_strand_dia=0.26373967771614903, optimal_strand_area=0.0546312105129334, choices=[CoilChoice(wire_dia=0.1, is_too_thick=False, copper_dia=0.1, strands=250, total_copper_area=1.963495408493621, winding_area_fill=6), CoilChoice(wire_dia=0.25, is_too_thick=False, copper_dia=0.25, strands=40, total_copper_area=1.9634954084936207, winding_area_fill=6), CoilChoice(wire_dia=0.35, is_too_thick=True, copper_dia=0.35, strands=22, total_copper_area=1.9880795095122596, winding_area_fill=7), CoilChoice(wire_dia=0.45, is_too_thick=True, copper_dia=0.45, strands=15, total_copper_area=1.9769307319655272, winding_area_fill=8)])"
      ]
     },
     "metadata": {},
     "output_type": "display_data"
    },
    {
     "data": {
      "text/markdown": [
       "#### Working condition of the diodes"
      ],
      "text/plain": [
       "<IPython.core.display.Markdown object>"
      ]
     },
     "metadata": {},
     "output_type": "display_data"
    },
    {
     "data": {
      "text/markdown": [
       "<table><tr><td>Diodes connected in parallel</td><td>1</td></tr>\n",
       "<tr><td>Max reverse voltage on each of the diodes</td><td>20.0V, which is OK</td></tr>\n",
       "<tr><td>Peak current through each diode</td><td>42.61A, which is OK</td></tr>\n",
       "<tr><td>Average current per diode</td><td>886.83mA, which is OK</td></tr>\n",
       "<tr><td>Power being dissipated, per component</td><td>753.8mW</td></tr>\n",
       "<tr><td>Junction temperature without a heatsink</td><td>81.54°C, which is OK</td></tr>\n",
       "<tr><td>Junction temperature with the heatsink</td><td>53.27°C, which is OK</td></tr></table>"
      ],
      "text/plain": [
       "<IPython.core.display.Markdown object>"
      ]
     },
     "metadata": {},
     "output_type": "display_data"
    }
   ],
   "source": [
    "clamp2_components, clamp2_info = edcalc.smps.non_dissipative_coupled_clamp(\n",
    "    V_in_min, V_in_max, I_pri_pk=I_pri_pk, L_leakage=L_p * transformer_leakage_rate,\n",
    "    T_clamp_on=D_min/F_sw, T_clamp_off=(2 - D_min) / F_sw, V_ripple=0.01)\n",
    "display(block_of_values(*clamp2_info))\n",
    "display(Markdown(f'#### Extra windings 2 x {N_p} turns, just like the primary'))\n",
    "display(coil_selection(F_sw, clamp2_components.I_L_rec_rms, wires_dia, I_density, N_p, winding_area=core.W_a))\n",
    "\n",
    "if ndclamp_diode is not None:\n",
    "    display(Markdown('#### Working condition of the diodes'))\n",
    "    display(block_of_values(\n",
    "        *ndclamp_diode.check_conditions(\n",
    "            V_max=clamp2_components.V_D,\n",
    "            I_pk=clamp2_components.I_D_pk,\n",
    "            I_avg=clamp2_components.I_D_avg),\n",
    "        *ndclamp_diode.thermal_analysis(\n",
    "            clamp2_components.I_D_avg,\n",
    "            Rt_CS=Rt_CS_D,\n",
    "            Rt_SA=Rt_SA_D)\n",
    "    ))"
   ]
  },
  {
   "cell_type": "markdown",
   "metadata": {},
   "source": [
    "## Main switches"
   ]
  },
  {
   "cell_type": "code",
   "execution_count": 18,
   "metadata": {},
   "outputs": [
    {
     "data": {
      "text/markdown": [
       "<table><tr><td>Power being dissipated, per component</td><td>4.5W</td></tr>\n",
       "<tr><td>Junction temperature without a heatsink</td><td>304.22°C <span style=\"font-weight:bold; color: #ff0000;\">WARNING:</span> <span style=\"font-weight:bold;\">Too hot (>= 175.0°C)!</span></td></tr>\n",
       "<tr><td>Junction temperature with the heatsink</td><td>107.19°C, which is OK</td></tr>\n",
       "<tr><td>Gate resistors:</td><td>25.0Ω</td></tr>\n",
       "<tr><td>Rise time</td><td>86.45ns</td></tr>\n",
       "<tr><td>Max drain-source voltage:</td><td>depends on the clamp/snubber chosen</td></tr>\n",
       "<tr><td>RMS current</td><td>23.73A</td></tr>\n",
       "<tr><td>Peak current</td><td>42.61A</td></tr></table>"
      ],
      "text/plain": [
       "<IPython.core.display.Markdown object>"
      ]
     },
     "metadata": {},
     "output_type": "display_data"
    }
   ],
   "source": [
    "# Thermal analysis\n",
    "T_rise = switch.gate_drive_charge(V_in_max, V_gs_sw) / I_drive_max\n",
    "R_gate_sw = V_gs_sw / I_drive_max\n",
    "\n",
    "display(block_of_values(\n",
    "    *switch.thermal_analysis(I_pri_rms_halfw, Rt_CS_sw, Rt_SA_sw),\n",
    "    (f'Gate resistors:', format_R(R_gate_sw)),\n",
    "    (f'Rise time', format_value(T_rise, 's')),\n",
    "    ('Max drain-source voltage:', 'depends on the clamp/snubber chosen'),\n",
    "    (f'RMS current', format_I(I_pri_rms_halfw)),\n",
    "    (f'Peak current', format_I(I_pri_pk)),\n",
    "))"
   ]
  },
  {
   "cell_type": "markdown",
   "metadata": {},
   "source": [
    "## Output rectifiers\n",
    "\n",
    "Leakage inductance of the secondary winding combined with parasitic inductances in the transformer and component junctions, can lead to severe stress on the rectifying diodes. Each diode can experience stress of more than $2 \\times V_{in} \\times Ns / Np$ due to voltage spikes and ringing caused by those parasitic elements. RC snubbers across the diodes capture and dissipate this energy, both saving the diodes and reducing EMI.\n",
    "\n",
    "Here's an example of such snubbers on a center-tapped rectifier:"
   ]
  },
  {
   "cell_type": "code",
   "execution_count": 19,
   "metadata": {},
   "outputs": [
    {
     "data": {
      "image/png": "[encoded data removed]",
      "text/plain": [
       "<IPython.core.display.Image object>"
      ]
     },
     "metadata": {},
     "output_type": "display_data"
    }
   ],
   "source": [
    "display(Image(edcalc.schematics.rectifier_rc_snubber_image()))"
   ]
  },
  {
   "cell_type": "code",
   "execution_count": 20,
   "metadata": {},
   "outputs": [
    {
     "data": {
      "text/markdown": [
       "\n",
       "### Output #1 (center-tapped rectifier) ###"
      ],
      "text/plain": [
       "<IPython.core.display.Markdown object>"
      ]
     },
     "metadata": {},
     "output_type": "display_data"
    },
    {
     "data": {
      "text/markdown": [
       "#### RC snubbers for output #1 diodes"
      ],
      "text/plain": [
       "<IPython.core.display.Markdown object>"
      ]
     },
     "metadata": {},
     "output_type": "display_data"
    },
    {
     "data": {
      "text/markdown": [
       "<table><tr><td>Voltage source</td><td>30.0V</td></tr>\n",
       "<tr><td>Leakage inductance</td><td>630.0nH</td></tr>\n",
       "<tr><td>Snubber capacitor $C_S$</td><td>2.0nF</td></tr>\n",
       "<tr><td>Snubber resistor $R_S$</td><td>36.0Ω</td></tr>\n",
       "<tr><td>Power dissipated by the snubber</td><td>452.26mW</td></tr>\n",
       "<tr><td>Characteristic impedance</td><td>17.75Ω</td></tr>\n",
       "<tr><td>Peak voltage stress on the protected diode, $C_S$ and $R_S$</td><td>89.71V</td></tr></table>"
      ],
      "text/plain": [
       "<IPython.core.display.Markdown object>"
      ]
     },
     "metadata": {},
     "output_type": "display_data"
    },
    {
     "data": {
      "text/markdown": [
       "#### On the diodes themselves"
      ],
      "text/plain": [
       "<IPython.core.display.Markdown object>"
      ]
     },
     "metadata": {},
     "output_type": "display_data"
    },
    {
     "data": {
      "text/markdown": [
       "<table><tr><td>Diodes connected in parallel</td><td>1</td></tr>\n",
       "<tr><td>Max reverse voltage on each of the diodes</td><td>89.71V, which is OK</td></tr>\n",
       "<tr><td>Peak current through each diode</td><td>14.2A, which is OK</td></tr>\n",
       "<tr><td>Average current per diode</td><td>6.0A, which is OK</td></tr>\n",
       "<tr><td>Power being dissipated, per component</td><td>5.1W</td></tr>\n",
       "<tr><td>Junction temperature without a heatsink</td><td>244.3°C <span style=\"font-weight:bold; color: #ff0000;\">WARNING:</span> <span style=\"font-weight:bold;\">Too hot (>= 150.0°C)!</span></td></tr>\n",
       "<tr><td>Junction temperature with the heatsink</td><td>124.45°C, which is OK</td></tr></table>"
      ],
      "text/plain": [
       "<IPython.core.display.Markdown object>"
      ]
     },
     "metadata": {},
     "output_type": "display_data"
    }
   ],
   "source": [
    "import importlib; importlib.reload(edcalc.schematics); importlib.reload(edcalc.smps)\n",
    "\n",
    "for i, o in enumerate(out):\n",
    "    if o.rectifier is None:\n",
    "        continue\n",
    "    display(Markdown(f'\\n### Output #{i + 1} ({o.rectifier} rectifier) ###'))\n",
    "    display(Markdown(f'#### RC snubbers for output #{i + 1} diodes'))\n",
    "    snubber_components, snubber_info = edcalc.smps.rectifier_rc_snubber(\n",
    "        F_sw=F_sw,\n",
    "        I_pk=o.I * (1 + out_info[i].max_ripple / 2),\n",
    "        V_in=V_in_max / turns_ratios[i],\n",
    "        L_leakage=L_secondary[i] * transformer_leakage_rate,\n",
    "        C_junction=C_rectifier_parasitic, P_max=P_rectifier_snubber,\n",
    "        C_snubber=C_rectifier_snubber)\n",
    "    V_snubber_cap = snubber_components.V_cap * (2 if o.rectifier == 'center-tapped' else 1)\n",
    "    display(block_of_values(\n",
    "        *snubber_info,\n",
    "        ('Peak voltage stress on the protected diode, $C_S$ and $R_S$',\n",
    "         format_V(V_snubber_cap))\n",
    "    ))\n",
    "    display(Markdown(f'#### On the diodes themselves'))\n",
    "    display(block_of_values(\n",
    "        *o.D.check_conditions(\n",
    "            V_max=V_snubber_cap,\n",
    "            I_avg=o.diode_average_current(),\n",
    "            I_pk=o.I * (1 + out_info[i].max_ripple / 2)),\n",
    "        *o.D.thermal_analysis(o.diode_average_current(), T_ambient=T_ambient, Rt_CS=Rt_CS_D, Rt_SA=Rt_SA_D)\n",
    "    ))\n",
    "\n"
   ]
  },
  {
   "cell_type": "markdown",
   "metadata": {},
   "source": [
    "## UC3846 Current sensing circuit\n",
    "\n",
    "![UC3846 current limiting circuit](static/images/uc3846-current-limiting.png)\n",
    "\n",
    "**$R_2$ should also be shunted with a small capacitor** to get soft-start capability."
   ]
  },
  {
   "cell_type": "code",
   "execution_count": 21,
   "metadata": {},
   "outputs": [
    {
     "data": {
      "text/markdown": [
       "<table><tr><td>Current sensing resistor $R_s$ (from the design parameters)</td><td>1.25mΩ</td></tr>\n",
       "<tr><td>Peak current through $R_s$</td><td>42.61A</td></tr>\n",
       "<tr><td>Max RMS current going through $R_s$</td><td>33.55A</td></tr>\n",
       "<tr><td>Max voltage across $R_s$</td><td>53.26mV</td></tr>\n",
       "<tr><td>Power dissipated on $R_s$</td><td>1.41W</td></tr>\n",
       "<tr><td>Threshold-setting voltage at Pin 1 of UC3846</td><td>659.77mV</td></tr>\n",
       "<tr><td>Upper resistors $R_1$ in the threshold-setting divider</td><td>4.7kΩ + 820.0Ω</td></tr>\n",
       "<tr><td>Lower resistor $R_2$ in the threshold-setting divider</td><td>820.0Ω</td></tr>\n",
       "<tr><td>Actual current limit with the components suggested</td><td>42.57A</td></tr></table>"
      ],
      "text/plain": [
       "<IPython.core.display.Markdown object>"
      ]
     },
     "metadata": {},
     "output_type": "display_data"
    }
   ],
   "source": [
    "V_I_sense = I_pri_pk * R_I_sense\n",
    "P_I_sense = I_pri_rms**2 * R_I_sense\n",
    "V_I_sense_divider = 3 * V_I_sense + 0.5\n",
    "if V_I_sense > 1.2:\n",
    "    display(warning_message(\"For UC3846 to operate properly, maximum differential voltages must be kept below 1.2 V at the current sense inputs\"))\n",
    "R_I_sense_upper_parts, R_I_sense_lower = find_precise_voltage_divider(V_ref, V_I_sense_divider, max_current=1e-3, num_r1_parts=2)[0]\n",
    "R_I_sense_upper = sum(R_I_sense_upper_parts)\n",
    "I_sense_limit = (R_I_sense_lower * V_ref / (R_I_sense_lower + R_I_sense_upper) - 0.5) / (3 * R_I_sense)\n",
    "\n",
    "display(block_of_values(\n",
    "    ('Current sensing resistor $R_s$ (from the design parameters)', format_R(R_I_sense)),\n",
    "    ('Peak current through $R_s$', format_I(I_pri_pk)),\n",
    "    ('Max RMS current going through $R_s$', format_I(I_pri_rms)),\n",
    "    ('Max voltage across $R_s$', format_V(V_I_sense)),\n",
    "    ('Power dissipated on $R_s$', format_W(P_I_sense)),\n",
    "    ('Threshold-setting voltage at Pin 1 of UC3846', format_V(V_I_sense_divider)),\n",
    "    ('Upper resistors $R_1$ in the threshold-setting divider', ' + '.join(format_R(r) for r in R_I_sense_upper_parts)),\n",
    "    ('Lower resistor $R_2$ in the threshold-setting divider', format_R(R_I_sense_lower)),\n",
    "    ('Actual current limit with the components suggested', format_I(I_sense_limit)),\n",
    "))"
   ]
  },
  {
   "cell_type": "markdown",
   "metadata": {},
   "source": [
    "## Current mode slope compensation for UCx846 (for D > 0.5)\n",
    "\n",
    "This type of slope compensation is described in application note [\"Modelling, analysis and compensation of the current-mode converter\"](http://www.ti.com/lit/an/slua101/slua101.pdf) specifically for UCx846 series.\n",
    "\n",
    "From S. Maniktala:\n",
    "> It can be shown that to avoid subharmonic instability, we need to ensure that the amount of\n",
    "  slope compensation (expressed in A/s) is equal to half the slope of the falling inductor\n",
    "  current ramp, or more.\n",
    "  \n",
    "the falling slope is a constant $m_2 = {{V_o} \\over {L_o}}$, in A/s. Or, reflected to the primary side, $m_{2OR} = {{N_s} \\over {N_p}}{{V_o} \\over {L_o}}$. The same thing expressed in V/s would be equal to ${R_s} {{N_s} \\over {N_p}}{{V_o} \\over {L_o}}$. Divided by two, this is how much compensation we need to add to the current sensing input of the controller.\n",
    "\n",
    "![Simple slope compensation for UCx846](static/images/uc3846-slope-compensation.png)\n",
    "\n",
    "A. Pressman in chapter 5 of \"Switching Power Supply Design\" describes how to choose values $R_1$ and $R_2$, where the following expression is derived:\n",
    "$$ {{R_1} \\over {R_1 + R_2}} = {{(N_s / N_p) (R_s) (m_2 / 2)} \\over {\\Delta V / \\Delta t}}$$\n",
    "\n",
    "Here $\\Delta V/\\Delta t$ is the slope of the UCx846 oscillator's waveform. $m_2 = V_o / L_o$ is the downslope of the output inductor.\n",
    "\n",
    "If R1 is fixed, then $$ R_2 = R_1 \\left({{N_p} \\over {N_s}} {{2 (\\Delta V / \\Delta t)} \\over {R_s m_2}} - 1\\right)$$"
   ]
  },
  {
   "cell_type": "code",
   "execution_count": 22,
   "metadata": {},
   "outputs": [
    {
     "data": {
      "text/markdown": [
       "<table><tr><td>$R_1$</td><td>1.0kΩ</td></tr>\n",
       "<tr><td>$R_2$</td><td>120.0kΩ + 18.0kΩ + 1.0kΩ</td></tr></table>"
      ],
      "text/plain": [
       "<IPython.core.display.Markdown object>"
      ]
     },
     "metadata": {},
     "output_type": "display_data"
    }
   ],
   "source": [
    "# dV/dt of the slope of the sawtooth ramp across the timing capacitor of UCx846\n",
    "osc_slope = 1.8 / (0.45 * R_t * C_t)  # Slope of the UCx846's oscillator\n",
    "# charge current flowing into the timing capacitor\n",
    "I_osc = C_t * osc_slope\n",
    "# max voltage of the ramp\n",
    "V_osc = osc_slope / F_sw\n",
    "# Timing circuit impedance\n",
    "Z_osc = V_osc / I_osc\n",
    "# R1-R2 series resistance has to be large to avoid significantly affecting the timing circuit\n",
    "# So we assign R1 to be at least as large as the impedance of the timing circuit.\n",
    "R1_slope_comp = nearest_e12(Z_osc, 'higher')\n",
    "m2_slope = o.V / L_out[0]\n",
    "R2_slope_comp_parts = find_esum(R1_slope_comp * (turns_ratios[0] * 2 * osc_slope / (R_I_sense * m2_slope) - 1), 3)\n",
    "R2_slope_comp = sum(R2_slope_comp_parts)\n",
    "if R1_slope_comp + R2_slope_comp < 100 * Z_osc:\n",
    "    display(warning_message(\"R1 + R2 have too small resistance and may affect the timing circuit\"))\n",
    "display(block_of_values(\n",
    "    ('$R_1$', format_R(R1_slope_comp)),\n",
    "    ('$R_2$', ' + '.join(format_R(r) for r in R2_slope_comp_parts)),\n",
    "))"
   ]
  },
  {
   "cell_type": "markdown",
   "metadata": {},
   "source": [
    "## Feedback loop control (non-isolated)\n",
    "\n",
    "This form utilizes UC3846's own error amplifier to regulate the output voltage. It's cheap, but unless the controller is fully isolated from the MOSFETs and the input, this method can be used only for non-isolated DC-DC converters.\n"
   ]
  },
  {
   "cell_type": "code",
   "execution_count": 23,
   "metadata": {},
   "outputs": [
    {
     "data": {
      "image/png": "[encoded data removed]"
     },
     "metadata": {
      "image/png": {
       "height": 550,
       "width": 550
      }
     },
     "output_type": "display_data"
    }
   ],
   "source": [
    "feedback = edcalc.smps.CurrentModeFeedback.buck(\n",
    "    F_sw, 3 * R_I_sense, D_min, D_max, out[0].V, out[0].I, L_out[0], C_out[0], ESR_C_out[0], V_eap_ref, turns_ratios[0])\n",
    "feedback.draw_circuit()"
   ]
  },
  {
   "cell_type": "code",
   "execution_count": null,
   "metadata": {},
   "outputs": [],
   "source": []
  }
 ],
 "metadata": {
  "kernelspec": {
   "display_name": "Python 3",
   "language": "python",
   "name": "python3"
  },
  "language_info": {
   "codemirror_mode": {
    "name": "ipython",
    "version": 3
   },
   "file_extension": ".py",
   "mimetype": "text/x-python",
   "name": "python",
   "nbconvert_exporter": "python",
   "pygments_lexer": "ipython3",
   "version": "3.8.1"
  }
 },
 "nbformat": 4,
 "nbformat_minor": 4
}
